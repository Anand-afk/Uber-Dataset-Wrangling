{
 "cells": [
  {
   "cell_type": "markdown",
   "metadata": {},
   "source": [
    "# Cleaning and Regression\n",
    "Date: 19.05.2019<br>\n",
    "Environment: Python 3.6.8 and Anaconda 4.6.7 (64-bit)<br>"
   ]
  },
  {
   "cell_type": "code",
   "execution_count": 1,
   "metadata": {},
   "outputs": [
    {
     "data": {
      "text/html": [
       "<style>body {\n",
       "    margin: 0;\n",
       "    font-family: Helvetica;\n",
       "}\n",
       "table.dataframe {\n",
       "    border-collapse: collapse;\n",
       "    border: none;\n",
       "}\n",
       "table.dataframe tr {\n",
       "    border: none;\n",
       "}\n",
       "table.dataframe td, table.dataframe th {\n",
       "    margin: 0;\n",
       "    border: 1px solid white;\n",
       "    padding-left: 0.25em;\n",
       "    padding-right: 0.25em;\n",
       "}\n",
       "table.dataframe th:not(:empty) {\n",
       "    background-color: rgb(220, 223, 230);\n",
       "    text-align: left;\n",
       "    font-weight: normal;\n",
       "}\n",
       "table.dataframe tr:nth-child(2) th:empty {\n",
       "    border-left: none;\n",
       "    border-right: 1px dashed #888;\n",
       "}\n",
       "table.dataframe td {\n",
       "    border: 2px solid #ccf;\n",
       "    background-color: #fcfcfd;\n",
       "}\n",
       "\n",
       "h2 {\n",
       "    color: white;\n",
       "    background-color: rgb(43, 108, 206);\n",
       "    padding: 0.5em;\n",
       "}\n",
       "h3 {\n",
       "    color: white;\n",
       "    background-color: rgb(43, 108, 206);\n",
       "    padding: 0.5em;\n",
       "}\n",
       "</style>"
      ],
      "text/plain": [
       "<IPython.core.display.HTML object>"
      ]
     },
     "execution_count": 1,
     "metadata": {},
     "output_type": "execute_result"
    }
   ],
   "source": [
    "from IPython.core.display import HTML\n",
    "css = open('style/style-table.css').read() + open('style/style-notebook.css').read()\n",
    "HTML('<style>{}</style>'.format(css))"
   ]
  },
  {
   "cell_type": "markdown",
   "metadata": {},
   "source": [
    "## 1. Introduction\n",
    ">The main purpose of this report is to provide information about the methodology and process to solve this problem.<br>\n",
    "This report focuses on three parts:\n",
    "* Fixed the errors in the dirty data. \n",
    "* Detect the outliers.\n",
    "* Imputate the missing values."
   ]
  },
  {
   "cell_type": "markdown",
   "metadata": {},
   "source": [
    "## 2.  Logic map"
   ]
  },
  {
   "cell_type": "markdown",
   "metadata": {},
   "source": [
    "> The procedures implemented in this data cleansing task are as follows:\n",
    "<img src = \"style/0-logicmap.png\" height = \"600\" width = \"900\" style=\"float: left;\">"
   ]
  },
  {
   "cell_type": "markdown",
   "metadata": {},
   "source": [
    "## 3.  Import libraries "
   ]
  },
  {
   "cell_type": "code",
   "execution_count": 2904,
   "metadata": {},
   "outputs": [],
   "source": [
    "import math\n",
    "import warnings\n",
    "warnings.filterwarnings('ignore')\n",
    "import numpy as np\n",
    "import pandas as pd\n",
    "import seaborn as sns\n",
    "import networkx as nx\n",
    "import matplotlib.pyplot as plt\n",
    "from gmplot import gmplot\n",
    "from scipy.stats import iqr\n",
    "from sklearn import metrics\n",
    "from sklearn import neighbors \n",
    "from sklearn import metrics\n",
    "from datetime import datetime\n",
    "from datetime import timedelta \n",
    "from sklearn.model_selection import train_test_split \n",
    "from sklearn.linear_model import LinearRegression  \n",
    "from sklearn.linear_model import Ridge,Lasso\n",
    "from yellowbrick.regressor import PredictionError, ResidualsPlot\n",
    "from yellowbrick.regressor.alphas import AlphaSelection\n",
    "%matplotlib inline\n",
    "pd.options.display.float_format = '{:20,.2f}'.format"
   ]
  },
  {
   "cell_type": "markdown",
   "metadata": {},
   "source": [
    "## 4. EDA Using Missing Valus File\n",
    "> Here, we use missing value dataset to exploration"
   ]
  },
  {
   "cell_type": "code",
   "execution_count": 2905,
   "metadata": {},
   "outputs": [],
   "source": [
    "miss = pd.read_csv('dataset/missing_value.csv')"
   ]
  },
  {
   "cell_type": "code",
   "execution_count": 2906,
   "metadata": {},
   "outputs": [],
   "source": [
    "# save the original column names for furture output export\n",
    "ori_columns_miss = miss.columns"
   ]
  },
  {
   "cell_type": "code",
   "execution_count": 2907,
   "metadata": {},
   "outputs": [
    {
     "data": {
      "text/html": [
       "<div>\n",
       "<style scoped>\n",
       "    .dataframe tbody tr th:only-of-type {\n",
       "        vertical-align: middle;\n",
       "    }\n",
       "\n",
       "    .dataframe tbody tr th {\n",
       "        vertical-align: top;\n",
       "    }\n",
       "\n",
       "    .dataframe thead th {\n",
       "        text-align: right;\n",
       "    }\n",
       "</style>\n",
       "<table border=\"1\" class=\"dataframe\">\n",
       "  <thead>\n",
       "    <tr style=\"text-align: right;\">\n",
       "      <th></th>\n",
       "      <th>Unnamed: 0</th>\n",
       "      <th>Uber Type</th>\n",
       "      <th>Origin Region</th>\n",
       "      <th>Destination Region</th>\n",
       "      <th>Origin Latitude</th>\n",
       "      <th>Origin Longitude</th>\n",
       "      <th>Destination Latitude</th>\n",
       "      <th>Destination Longitude</th>\n",
       "      <th>Journey Distance(m)</th>\n",
       "      <th>Departure Date</th>\n",
       "      <th>Departure Time</th>\n",
       "      <th>Travel Time(s)</th>\n",
       "      <th>Arrival Time</th>\n",
       "      <th>Fare$</th>\n",
       "    </tr>\n",
       "  </thead>\n",
       "  <tbody>\n",
       "    <tr>\n",
       "      <th>0</th>\n",
       "      <td>ID1610680870</td>\n",
       "      <td>0.00</td>\n",
       "      <td>7</td>\n",
       "      <td>1</td>\n",
       "      <td>-37.86</td>\n",
       "      <td>144.91</td>\n",
       "      <td>-37.81</td>\n",
       "      <td>144.97</td>\n",
       "      <td>8,610.00</td>\n",
       "      <td>2018-02-14</td>\n",
       "      <td>09:42:43</td>\n",
       "      <td>2,903.34</td>\n",
       "      <td>10:31:06</td>\n",
       "      <td>6.29</td>\n",
       "    </tr>\n",
       "    <tr>\n",
       "      <th>1</th>\n",
       "      <td>ID1588211620</td>\n",
       "      <td>0.00</td>\n",
       "      <td>3</td>\n",
       "      <td>8</td>\n",
       "      <td>-37.81</td>\n",
       "      <td>144.97</td>\n",
       "      <td>-37.82</td>\n",
       "      <td>145.05</td>\n",
       "      <td>6,930.00</td>\n",
       "      <td>2018-07-12</td>\n",
       "      <td>05:38:38</td>\n",
       "      <td>2,031.60</td>\n",
       "      <td>6:12:29</td>\n",
       "      <td>14.50</td>\n",
       "    </tr>\n",
       "  </tbody>\n",
       "</table>\n",
       "</div>"
      ],
      "text/plain": [
       "     Unnamed: 0            Uber Type  Origin Region  Destination Region  \\\n",
       "0  ID1610680870                 0.00              7                   1   \n",
       "1  ID1588211620                 0.00              3                   8   \n",
       "\n",
       "       Origin Latitude     Origin Longitude  Destination Latitude  \\\n",
       "0               -37.86               144.91                -37.81   \n",
       "1               -37.81               144.97                -37.82   \n",
       "\n",
       "   Destination Longitude  Journey Distance(m) Departure Date Departure Time  \\\n",
       "0                 144.97             8,610.00     2018-02-14       09:42:43   \n",
       "1                 145.05             6,930.00     2018-07-12       05:38:38   \n",
       "\n",
       "        Travel Time(s) Arrival Time                Fare$  \n",
       "0             2,903.34     10:31:06                 6.29  \n",
       "1             2,031.60      6:12:29                14.50  "
      ]
     },
     "execution_count": 2907,
     "metadata": {},
     "output_type": "execute_result"
    }
   ],
   "source": [
    "miss.head(2)"
   ]
  },
  {
   "cell_type": "code",
   "execution_count": 2908,
   "metadata": {},
   "outputs": [],
   "source": [
    "miss.columns = ['id','type','orir','desr','orilat','orilong','deslat','deslong', 'distance_m', 'oridate',\n",
    "               'oritime', 'traveltime_s', 'destime', 'fare']"
   ]
  },
  {
   "cell_type": "code",
   "execution_count": 2909,
   "metadata": {},
   "outputs": [
    {
     "name": "stdout",
     "output_type": "stream",
     "text": [
      "<class 'pandas.core.frame.DataFrame'>\n",
      "RangeIndex: 95 entries, 0 to 94\n",
      "Data columns (total 14 columns):\n",
      "id              95 non-null object\n",
      "type            75 non-null float64\n",
      "orir            95 non-null int64\n",
      "desr            95 non-null int64\n",
      "orilat          95 non-null float64\n",
      "orilong         95 non-null float64\n",
      "deslat          95 non-null float64\n",
      "deslong         95 non-null float64\n",
      "distance_m      95 non-null float64\n",
      "oridate         95 non-null object\n",
      "oritime         95 non-null object\n",
      "traveltime_s    95 non-null float64\n",
      "destime         95 non-null object\n",
      "fare            77 non-null float64\n",
      "dtypes: float64(8), int64(2), object(4)\n",
      "memory usage: 10.5+ KB\n"
     ]
    }
   ],
   "source": [
    "miss.info()"
   ]
  },
  {
   "cell_type": "code",
   "execution_count": 2910,
   "metadata": {},
   "outputs": [
    {
     "data": {
      "text/html": [
       "<div>\n",
       "<style scoped>\n",
       "    .dataframe tbody tr th:only-of-type {\n",
       "        vertical-align: middle;\n",
       "    }\n",
       "\n",
       "    .dataframe tbody tr th {\n",
       "        vertical-align: top;\n",
       "    }\n",
       "\n",
       "    .dataframe thead th {\n",
       "        text-align: right;\n",
       "    }\n",
       "</style>\n",
       "<table border=\"1\" class=\"dataframe\">\n",
       "  <thead>\n",
       "    <tr style=\"text-align: right;\">\n",
       "      <th></th>\n",
       "      <th>type</th>\n",
       "      <th>orir</th>\n",
       "      <th>desr</th>\n",
       "      <th>orilat</th>\n",
       "      <th>orilong</th>\n",
       "      <th>deslat</th>\n",
       "      <th>deslong</th>\n",
       "      <th>distance_m</th>\n",
       "      <th>traveltime_s</th>\n",
       "      <th>fare</th>\n",
       "    </tr>\n",
       "  </thead>\n",
       "  <tbody>\n",
       "    <tr>\n",
       "      <th>count</th>\n",
       "      <td>75.00</td>\n",
       "      <td>95.00</td>\n",
       "      <td>95.00</td>\n",
       "      <td>95.00</td>\n",
       "      <td>95.00</td>\n",
       "      <td>95.00</td>\n",
       "      <td>95.00</td>\n",
       "      <td>95.00</td>\n",
       "      <td>95.00</td>\n",
       "      <td>77.00</td>\n",
       "    </tr>\n",
       "    <tr>\n",
       "      <th>mean</th>\n",
       "      <td>0.68</td>\n",
       "      <td>4.89</td>\n",
       "      <td>5.12</td>\n",
       "      <td>-37.84</td>\n",
       "      <td>144.94</td>\n",
       "      <td>-37.86</td>\n",
       "      <td>144.92</td>\n",
       "      <td>15,939.33</td>\n",
       "      <td>4,207.11</td>\n",
       "      <td>65.28</td>\n",
       "    </tr>\n",
       "    <tr>\n",
       "      <th>std</th>\n",
       "      <td>0.72</td>\n",
       "      <td>2.61</td>\n",
       "      <td>2.65</td>\n",
       "      <td>0.08</td>\n",
       "      <td>0.09</td>\n",
       "      <td>0.10</td>\n",
       "      <td>0.11</td>\n",
       "      <td>16,970.74</td>\n",
       "      <td>4,103.08</td>\n",
       "      <td>167.46</td>\n",
       "    </tr>\n",
       "    <tr>\n",
       "      <th>min</th>\n",
       "      <td>0.00</td>\n",
       "      <td>1.00</td>\n",
       "      <td>1.00</td>\n",
       "      <td>-38.11</td>\n",
       "      <td>144.65</td>\n",
       "      <td>-38.11</td>\n",
       "      <td>144.65</td>\n",
       "      <td>80.00</td>\n",
       "      <td>16.68</td>\n",
       "      <td>4.62</td>\n",
       "    </tr>\n",
       "    <tr>\n",
       "      <th>25%</th>\n",
       "      <td>0.00</td>\n",
       "      <td>3.00</td>\n",
       "      <td>3.00</td>\n",
       "      <td>-37.83</td>\n",
       "      <td>144.93</td>\n",
       "      <td>-37.86</td>\n",
       "      <td>144.91</td>\n",
       "      <td>4,956.00</td>\n",
       "      <td>1,282.11</td>\n",
       "      <td>13.51</td>\n",
       "    </tr>\n",
       "    <tr>\n",
       "      <th>50%</th>\n",
       "      <td>1.00</td>\n",
       "      <td>6.00</td>\n",
       "      <td>5.00</td>\n",
       "      <td>-37.81</td>\n",
       "      <td>144.97</td>\n",
       "      <td>-37.82</td>\n",
       "      <td>144.96</td>\n",
       "      <td>9,296.00</td>\n",
       "      <td>2,903.34</td>\n",
       "      <td>21.04</td>\n",
       "    </tr>\n",
       "    <tr>\n",
       "      <th>75%</th>\n",
       "      <td>1.00</td>\n",
       "      <td>7.00</td>\n",
       "      <td>7.00</td>\n",
       "      <td>-37.80</td>\n",
       "      <td>144.99</td>\n",
       "      <td>-37.81</td>\n",
       "      <td>144.99</td>\n",
       "      <td>13,265.00</td>\n",
       "      <td>4,029.84</td>\n",
       "      <td>35.10</td>\n",
       "    </tr>\n",
       "    <tr>\n",
       "      <th>max</th>\n",
       "      <td>2.00</td>\n",
       "      <td>9.00</td>\n",
       "      <td>9.00</td>\n",
       "      <td>-37.77</td>\n",
       "      <td>145.05</td>\n",
       "      <td>-37.77</td>\n",
       "      <td>145.05</td>\n",
       "      <td>51,061.00</td>\n",
       "      <td>13,173.36</td>\n",
       "      <td>1,039.94</td>\n",
       "    </tr>\n",
       "  </tbody>\n",
       "</table>\n",
       "</div>"
      ],
      "text/plain": [
       "                      type                 orir                 desr  \\\n",
       "count                75.00                95.00                95.00   \n",
       "mean                  0.68                 4.89                 5.12   \n",
       "std                   0.72                 2.61                 2.65   \n",
       "min                   0.00                 1.00                 1.00   \n",
       "25%                   0.00                 3.00                 3.00   \n",
       "50%                   1.00                 6.00                 5.00   \n",
       "75%                   1.00                 7.00                 7.00   \n",
       "max                   2.00                 9.00                 9.00   \n",
       "\n",
       "                    orilat              orilong               deslat  \\\n",
       "count                95.00                95.00                95.00   \n",
       "mean                -37.84               144.94               -37.86   \n",
       "std                   0.08                 0.09                 0.10   \n",
       "min                 -38.11               144.65               -38.11   \n",
       "25%                 -37.83               144.93               -37.86   \n",
       "50%                 -37.81               144.97               -37.82   \n",
       "75%                 -37.80               144.99               -37.81   \n",
       "max                 -37.77               145.05               -37.77   \n",
       "\n",
       "                   deslong           distance_m         traveltime_s  \\\n",
       "count                95.00                95.00                95.00   \n",
       "mean                144.92            15,939.33             4,207.11   \n",
       "std                   0.11            16,970.74             4,103.08   \n",
       "min                 144.65                80.00                16.68   \n",
       "25%                 144.91             4,956.00             1,282.11   \n",
       "50%                 144.96             9,296.00             2,903.34   \n",
       "75%                 144.99            13,265.00             4,029.84   \n",
       "max                 145.05            51,061.00            13,173.36   \n",
       "\n",
       "                      fare  \n",
       "count                77.00  \n",
       "mean                 65.28  \n",
       "std                 167.46  \n",
       "min                   4.62  \n",
       "25%                  13.51  \n",
       "50%                  21.04  \n",
       "75%                  35.10  \n",
       "max               1,039.94  "
      ]
     },
     "execution_count": 2910,
     "metadata": {},
     "output_type": "execute_result"
    }
   ],
   "source": [
    "miss.describe()"
   ]
  },
  {
   "cell_type": "markdown",
   "metadata": {},
   "source": [
    "### 4.1 Find out the classification criteria for Uber type"
   ]
  },
  {
   "cell_type": "code",
   "execution_count": 2911,
   "metadata": {},
   "outputs": [
    {
     "data": {
      "text/html": [
       "<div>\n",
       "<style scoped>\n",
       "    .dataframe tbody tr th:only-of-type {\n",
       "        vertical-align: middle;\n",
       "    }\n",
       "\n",
       "    .dataframe tbody tr th {\n",
       "        vertical-align: top;\n",
       "    }\n",
       "\n",
       "    .dataframe thead th {\n",
       "        text-align: right;\n",
       "    }\n",
       "</style>\n",
       "<table border=\"1\" class=\"dataframe\">\n",
       "  <thead>\n",
       "    <tr style=\"text-align: right;\">\n",
       "      <th></th>\n",
       "      <th>id</th>\n",
       "      <th>type</th>\n",
       "      <th>orir</th>\n",
       "      <th>desr</th>\n",
       "      <th>orilat</th>\n",
       "      <th>orilong</th>\n",
       "      <th>deslat</th>\n",
       "      <th>deslong</th>\n",
       "      <th>distance_m</th>\n",
       "      <th>oridate</th>\n",
       "      <th>oritime</th>\n",
       "      <th>traveltime_s</th>\n",
       "      <th>destime</th>\n",
       "      <th>fare</th>\n",
       "    </tr>\n",
       "  </thead>\n",
       "  <tbody>\n",
       "    <tr>\n",
       "      <th>0</th>\n",
       "      <td>ID1610680870</td>\n",
       "      <td>0.00</td>\n",
       "      <td>7</td>\n",
       "      <td>1</td>\n",
       "      <td>-37.86</td>\n",
       "      <td>144.91</td>\n",
       "      <td>-37.81</td>\n",
       "      <td>144.97</td>\n",
       "      <td>8,610.00</td>\n",
       "      <td>2018-02-14</td>\n",
       "      <td>09:42:43</td>\n",
       "      <td>2,903.34</td>\n",
       "      <td>10:31:06</td>\n",
       "      <td>6.29</td>\n",
       "    </tr>\n",
       "    <tr>\n",
       "      <th>1</th>\n",
       "      <td>ID1588211620</td>\n",
       "      <td>0.00</td>\n",
       "      <td>3</td>\n",
       "      <td>8</td>\n",
       "      <td>-37.81</td>\n",
       "      <td>144.97</td>\n",
       "      <td>-37.82</td>\n",
       "      <td>145.05</td>\n",
       "      <td>6,930.00</td>\n",
       "      <td>2018-07-12</td>\n",
       "      <td>05:38:38</td>\n",
       "      <td>2,031.60</td>\n",
       "      <td>6:12:29</td>\n",
       "      <td>14.50</td>\n",
       "    </tr>\n",
       "  </tbody>\n",
       "</table>\n",
       "</div>"
      ],
      "text/plain": [
       "             id                 type  orir  desr               orilat  \\\n",
       "0  ID1610680870                 0.00     7     1               -37.86   \n",
       "1  ID1588211620                 0.00     3     8               -37.81   \n",
       "\n",
       "               orilong               deslat              deslong  \\\n",
       "0               144.91               -37.81               144.97   \n",
       "1               144.97               -37.82               145.05   \n",
       "\n",
       "            distance_m     oridate   oritime         traveltime_s   destime  \\\n",
       "0             8,610.00  2018-02-14  09:42:43             2,903.34  10:31:06   \n",
       "1             6,930.00  2018-07-12  05:38:38             2,031.60   6:12:29   \n",
       "\n",
       "                  fare  \n",
       "0                 6.29  \n",
       "1                14.50  "
      ]
     },
     "execution_count": 2911,
     "metadata": {},
     "output_type": "execute_result"
    }
   ],
   "source": [
    "# All type 0 with ID starts from 1\n",
    "miss[miss['type']==0].head(2)"
   ]
  },
  {
   "cell_type": "code",
   "execution_count": 2912,
   "metadata": {},
   "outputs": [
    {
     "data": {
      "text/html": [
       "<div>\n",
       "<style scoped>\n",
       "    .dataframe tbody tr th:only-of-type {\n",
       "        vertical-align: middle;\n",
       "    }\n",
       "\n",
       "    .dataframe tbody tr th {\n",
       "        vertical-align: top;\n",
       "    }\n",
       "\n",
       "    .dataframe thead th {\n",
       "        text-align: right;\n",
       "    }\n",
       "</style>\n",
       "<table border=\"1\" class=\"dataframe\">\n",
       "  <thead>\n",
       "    <tr style=\"text-align: right;\">\n",
       "      <th></th>\n",
       "      <th>id</th>\n",
       "      <th>type</th>\n",
       "      <th>orir</th>\n",
       "      <th>desr</th>\n",
       "      <th>orilat</th>\n",
       "      <th>orilong</th>\n",
       "      <th>deslat</th>\n",
       "      <th>deslong</th>\n",
       "      <th>distance_m</th>\n",
       "      <th>oridate</th>\n",
       "      <th>oritime</th>\n",
       "      <th>traveltime_s</th>\n",
       "      <th>destime</th>\n",
       "      <th>fare</th>\n",
       "    </tr>\n",
       "  </thead>\n",
       "  <tbody>\n",
       "    <tr>\n",
       "      <th>2</th>\n",
       "      <td>ID3904312291</td>\n",
       "      <td>1.00</td>\n",
       "      <td>8</td>\n",
       "      <td>9</td>\n",
       "      <td>-37.81</td>\n",
       "      <td>145.03</td>\n",
       "      <td>-38.11</td>\n",
       "      <td>144.65</td>\n",
       "      <td>49,777.00</td>\n",
       "      <td>2018-04-15</td>\n",
       "      <td>21:15:24</td>\n",
       "      <td>12,069.78</td>\n",
       "      <td>0:36:33</td>\n",
       "      <td>64.66</td>\n",
       "    </tr>\n",
       "    <tr>\n",
       "      <th>6</th>\n",
       "      <td>ID3863693934</td>\n",
       "      <td>1.00</td>\n",
       "      <td>4</td>\n",
       "      <td>1</td>\n",
       "      <td>-37.81</td>\n",
       "      <td>145.02</td>\n",
       "      <td>-37.80</td>\n",
       "      <td>144.96</td>\n",
       "      <td>5,801.00</td>\n",
       "      <td>2018-04-22</td>\n",
       "      <td>22:18:29</td>\n",
       "      <td>1,444.02</td>\n",
       "      <td>22:42:33</td>\n",
       "      <td>22.25</td>\n",
       "    </tr>\n",
       "  </tbody>\n",
       "</table>\n",
       "</div>"
      ],
      "text/plain": [
       "             id                 type  orir  desr               orilat  \\\n",
       "2  ID3904312291                 1.00     8     9               -37.81   \n",
       "6  ID3863693934                 1.00     4     1               -37.81   \n",
       "\n",
       "               orilong               deslat              deslong  \\\n",
       "2               145.03               -38.11               144.65   \n",
       "6               145.02               -37.80               144.96   \n",
       "\n",
       "            distance_m     oridate   oritime         traveltime_s   destime  \\\n",
       "2            49,777.00  2018-04-15  21:15:24            12,069.78   0:36:33   \n",
       "6             5,801.00  2018-04-22  22:18:29             1,444.02  22:42:33   \n",
       "\n",
       "                  fare  \n",
       "2                64.66  \n",
       "6                22.25  "
      ]
     },
     "execution_count": 2912,
     "metadata": {},
     "output_type": "execute_result"
    }
   ],
   "source": [
    "# All type 1 with ID starts from 3\n",
    "miss[miss['type']==1].head(2)"
   ]
  },
  {
   "cell_type": "code",
   "execution_count": 2913,
   "metadata": {},
   "outputs": [
    {
     "data": {
      "text/html": [
       "<div>\n",
       "<style scoped>\n",
       "    .dataframe tbody tr th:only-of-type {\n",
       "        vertical-align: middle;\n",
       "    }\n",
       "\n",
       "    .dataframe tbody tr th {\n",
       "        vertical-align: top;\n",
       "    }\n",
       "\n",
       "    .dataframe thead th {\n",
       "        text-align: right;\n",
       "    }\n",
       "</style>\n",
       "<table border=\"1\" class=\"dataframe\">\n",
       "  <thead>\n",
       "    <tr style=\"text-align: right;\">\n",
       "      <th></th>\n",
       "      <th>id</th>\n",
       "      <th>type</th>\n",
       "      <th>orir</th>\n",
       "      <th>desr</th>\n",
       "      <th>orilat</th>\n",
       "      <th>orilong</th>\n",
       "      <th>deslat</th>\n",
       "      <th>deslong</th>\n",
       "      <th>distance_m</th>\n",
       "      <th>oridate</th>\n",
       "      <th>oritime</th>\n",
       "      <th>traveltime_s</th>\n",
       "      <th>destime</th>\n",
       "      <th>fare</th>\n",
       "    </tr>\n",
       "  </thead>\n",
       "  <tbody>\n",
       "    <tr>\n",
       "      <th>10</th>\n",
       "      <td>ID5914236930</td>\n",
       "      <td>2.00</td>\n",
       "      <td>3</td>\n",
       "      <td>1</td>\n",
       "      <td>-37.81</td>\n",
       "      <td>144.98</td>\n",
       "      <td>-37.81</td>\n",
       "      <td>144.96</td>\n",
       "      <td>2,597.00</td>\n",
       "      <td>2018-05-16</td>\n",
       "      <td>20:58:32</td>\n",
       "      <td>649.26</td>\n",
       "      <td>21:09:21</td>\n",
       "      <td>76.94</td>\n",
       "    </tr>\n",
       "    <tr>\n",
       "      <th>15</th>\n",
       "      <td>ID5594425669</td>\n",
       "      <td>2.00</td>\n",
       "      <td>4</td>\n",
       "      <td>1</td>\n",
       "      <td>-37.81</td>\n",
       "      <td>145.00</td>\n",
       "      <td>-37.80</td>\n",
       "      <td>144.96</td>\n",
       "      <td>3,901.00</td>\n",
       "      <td>2018-05-03</td>\n",
       "      <td>16:32:44</td>\n",
       "      <td>990.72</td>\n",
       "      <td>16:49:14</td>\n",
       "      <td>104.26</td>\n",
       "    </tr>\n",
       "  </tbody>\n",
       "</table>\n",
       "</div>"
      ],
      "text/plain": [
       "              id                 type  orir  desr               orilat  \\\n",
       "10  ID5914236930                 2.00     3     1               -37.81   \n",
       "15  ID5594425669                 2.00     4     1               -37.81   \n",
       "\n",
       "                orilong               deslat              deslong  \\\n",
       "10               144.98               -37.81               144.96   \n",
       "15               145.00               -37.80               144.96   \n",
       "\n",
       "             distance_m     oridate   oritime         traveltime_s   destime  \\\n",
       "10             2,597.00  2018-05-16  20:58:32               649.26  21:09:21   \n",
       "15             3,901.00  2018-05-03  16:32:44               990.72  16:49:14   \n",
       "\n",
       "                   fare  \n",
       "10                76.94  \n",
       "15               104.26  "
      ]
     },
     "execution_count": 2913,
     "metadata": {},
     "output_type": "execute_result"
    }
   ],
   "source": [
    "# All type 2 with ID starts from 5\n",
    "miss[miss['type']==2].head(2)"
   ]
  },
  {
   "cell_type": "markdown",
   "metadata": {},
   "source": [
    "### 4.2 Find out the relationship between time, distance and fare"
   ]
  },
  {
   "cell_type": "code",
   "execution_count": 2914,
   "metadata": {},
   "outputs": [
    {
     "data": {
      "text/plain": [
       "<seaborn.axisgrid.PairGrid at 0x1a4abd2be0>"
      ]
     },
     "execution_count": 2914,
     "metadata": {},
     "output_type": "execute_result"
    },
    {
     "data": {
      "image/png": "[encoded data removed]",
      "text/plain": [
       "<Figure size 540x540 with 12 Axes>"
      ]
     },
     "metadata": {
      "needs_background": "light"
     },
     "output_type": "display_data"
    }
   ],
   "source": [
    "# from the graph below, we can see there are three different trend\n",
    "ms_price_vis = miss.copy()[['distance_m','traveltime_s','fare']]\n",
    "sns.pairplot(ms_price_vis,diag_kind = 'kde')"
   ]
  },
  {
   "cell_type": "code",
   "execution_count": 2915,
   "metadata": {},
   "outputs": [
    {
     "data": {
      "text/plain": [
       "<seaborn.axisgrid.PairGrid at 0x1a4b3441d0>"
      ]
     },
     "execution_count": 2915,
     "metadata": {},
     "output_type": "execute_result"
    },
    {
     "data": {
      "image/png": "[encoded data removed]",
      "text/plain": [
       "<Figure size 769.875x720 with 20 Axes>"
      ]
     },
     "metadata": {
      "needs_background": "light"
     },
     "output_type": "display_data"
    }
   ],
   "source": [
    "# we plot by type and fit the three trend\n",
    "ms_price_vis1 = miss.copy()[['type','distance_m','traveltime_s','fare']]\n",
    "sns.pairplot(ms_price_vis1,hue = 'type',diag_kind = 'kde')"
   ]
  },
  {
   "cell_type": "markdown",
   "metadata": {},
   "source": [
    "### 4.3 Extract the Coordinates to see how the region classified"
   ]
  },
  {
   "cell_type": "code",
   "execution_count": 2916,
   "metadata": {},
   "outputs": [],
   "source": [
    "miss_ori = miss.copy()[['orir','orilat','orilong']].rename(columns={'orir': 'r', 'orilat': 'lat','orilong':'long'})"
   ]
  },
  {
   "cell_type": "code",
   "execution_count": 2917,
   "metadata": {},
   "outputs": [],
   "source": [
    "miss_des = miss.copy()[['desr','deslat','deslong']].rename(columns={'desr': 'r', 'deslat': 'lat','deslong':'long'})"
   ]
  },
  {
   "cell_type": "code",
   "execution_count": 2918,
   "metadata": {},
   "outputs": [],
   "source": [
    "outlier_region = pd.read_csv('dataset/30086434_outliers.csv')"
   ]
  },
  {
   "cell_type": "code",
   "execution_count": 2919,
   "metadata": {},
   "outputs": [],
   "source": [
    "outlier_region.columns = ['index','id','type','orir','desr','orilat','orilong','deslat','deslong', 'distance_m', 'oridate',\n",
    "       'oritime', 'traveltime_s', 'destime', 'fare']"
   ]
  },
  {
   "cell_type": "code",
   "execution_count": 2920,
   "metadata": {},
   "outputs": [],
   "source": [
    "out_ori = outlier_region.copy()[['orir','orilat','orilong']].rename(columns={'orir': 'r', 'orilat': 'lat','orilong':'long'})"
   ]
  },
  {
   "cell_type": "code",
   "execution_count": 2921,
   "metadata": {},
   "outputs": [],
   "source": [
    "out_des = outlier_region.copy()[['desr','deslat','deslong']].rename(columns={'desr': 'r', 'deslat': 'lat','deslong':'long'})"
   ]
  },
  {
   "cell_type": "code",
   "execution_count": 2922,
   "metadata": {},
   "outputs": [],
   "source": [
    "miss_out_region_eda = pd.concat([miss_ori,miss_des,out_ori,out_des])"
   ]
  },
  {
   "cell_type": "code",
   "execution_count": 2923,
   "metadata": {},
   "outputs": [],
   "source": [
    "#miss_out_region_eda['source']= 'clean'\n",
    "#miss_out_region_eda['id']='Clean'"
   ]
  },
  {
   "cell_type": "code",
   "execution_count": 2924,
   "metadata": {},
   "outputs": [
    {
     "data": {
      "text/html": [
       "<div>\n",
       "<style scoped>\n",
       "    .dataframe tbody tr th:only-of-type {\n",
       "        vertical-align: middle;\n",
       "    }\n",
       "\n",
       "    .dataframe tbody tr th {\n",
       "        vertical-align: top;\n",
       "    }\n",
       "\n",
       "    .dataframe thead th {\n",
       "        text-align: right;\n",
       "    }\n",
       "</style>\n",
       "<table border=\"1\" class=\"dataframe\">\n",
       "  <thead>\n",
       "    <tr style=\"text-align: right;\">\n",
       "      <th></th>\n",
       "      <th>r</th>\n",
       "      <th>lat</th>\n",
       "      <th>long</th>\n",
       "    </tr>\n",
       "  </thead>\n",
       "  <tbody>\n",
       "    <tr>\n",
       "      <th>0</th>\n",
       "      <td>7</td>\n",
       "      <td>-37.86</td>\n",
       "      <td>144.91</td>\n",
       "    </tr>\n",
       "    <tr>\n",
       "      <th>1</th>\n",
       "      <td>3</td>\n",
       "      <td>-37.81</td>\n",
       "      <td>144.97</td>\n",
       "    </tr>\n",
       "    <tr>\n",
       "      <th>2</th>\n",
       "      <td>8</td>\n",
       "      <td>-37.81</td>\n",
       "      <td>145.03</td>\n",
       "    </tr>\n",
       "    <tr>\n",
       "      <th>3</th>\n",
       "      <td>7</td>\n",
       "      <td>-37.86</td>\n",
       "      <td>144.91</td>\n",
       "    </tr>\n",
       "    <tr>\n",
       "      <th>4</th>\n",
       "      <td>1</td>\n",
       "      <td>-37.81</td>\n",
       "      <td>144.97</td>\n",
       "    </tr>\n",
       "  </tbody>\n",
       "</table>\n",
       "</div>"
      ],
      "text/plain": [
       "   r                  lat                 long\n",
       "0  7               -37.86               144.91\n",
       "1  3               -37.81               144.97\n",
       "2  8               -37.81               145.03\n",
       "3  7               -37.86               144.91\n",
       "4  1               -37.81               144.97"
      ]
     },
     "execution_count": 2924,
     "metadata": {},
     "output_type": "execute_result"
    }
   ],
   "source": [
    "miss_out_region_eda.head()"
   ]
  },
  {
   "cell_type": "code",
   "execution_count": 2925,
   "metadata": {},
   "outputs": [],
   "source": [
    "# save to csv file for visualization\n",
    "miss_out_region_eda.to_csv('miss_out_region_eda.csv')\n",
    "# region 9 is hidden for display reason"
   ]
  },
  {
   "cell_type": "markdown",
   "metadata": {},
   "source": [
    "<img src = \"style/1-regionmap.png\" height = \"500\" width = \"700\" style=\"float: left;\">"
   ]
  },
  {
   "cell_type": "markdown",
   "metadata": {},
   "source": [
    "## 5. Clean the dirty data"
   ]
  },
  {
   "cell_type": "code",
   "execution_count": 3007,
   "metadata": {},
   "outputs": [],
   "source": [
    "dirty = pd.read_csv('dataset/dirty_data.csv',float_precision = 'high')"
   ]
  },
  {
   "cell_type": "code",
   "execution_count": 3008,
   "metadata": {},
   "outputs": [],
   "source": [
    "ori_columns_dirty = dirty.columns"
   ]
  },
  {
   "cell_type": "code",
   "execution_count": 3009,
   "metadata": {},
   "outputs": [],
   "source": [
    "dirty1 = dirty.copy()"
   ]
  },
  {
   "cell_type": "code",
   "execution_count": 3010,
   "metadata": {},
   "outputs": [],
   "source": [
    "dirty1.columns = ['id', 'type', 'orir', 'desr','orilat', 'orilong', 'deslat','deslong', \n",
    "                  'distance_m', 'oridate','oritime', 'traveltime_s', 'destime', 'fare']"
   ]
  },
  {
   "cell_type": "code",
   "execution_count": 3011,
   "metadata": {},
   "outputs": [
    {
     "data": {
      "text/html": [
       "<div>\n",
       "<style scoped>\n",
       "    .dataframe tbody tr th:only-of-type {\n",
       "        vertical-align: middle;\n",
       "    }\n",
       "\n",
       "    .dataframe tbody tr th {\n",
       "        vertical-align: top;\n",
       "    }\n",
       "\n",
       "    .dataframe thead th {\n",
       "        text-align: right;\n",
       "    }\n",
       "</style>\n",
       "<table border=\"1\" class=\"dataframe\">\n",
       "  <thead>\n",
       "    <tr style=\"text-align: right;\">\n",
       "      <th></th>\n",
       "      <th>type</th>\n",
       "      <th>orir</th>\n",
       "      <th>desr</th>\n",
       "      <th>orilat</th>\n",
       "      <th>orilong</th>\n",
       "      <th>deslat</th>\n",
       "      <th>deslong</th>\n",
       "      <th>distance_m</th>\n",
       "      <th>traveltime_s</th>\n",
       "      <th>fare</th>\n",
       "    </tr>\n",
       "  </thead>\n",
       "  <tbody>\n",
       "    <tr>\n",
       "      <th>count</th>\n",
       "      <td>299.00</td>\n",
       "      <td>299.00</td>\n",
       "      <td>299.00</td>\n",
       "      <td>299.00</td>\n",
       "      <td>299.00</td>\n",
       "      <td>299.00</td>\n",
       "      <td>299.00</td>\n",
       "      <td>299.00</td>\n",
       "      <td>299.00</td>\n",
       "      <td>299.00</td>\n",
       "    </tr>\n",
       "    <tr>\n",
       "      <th>mean</th>\n",
       "      <td>0.74</td>\n",
       "      <td>5.20</td>\n",
       "      <td>4.84</td>\n",
       "      <td>-36.59</td>\n",
       "      <td>144.93</td>\n",
       "      <td>-36.58</td>\n",
       "      <td>144.93</td>\n",
       "      <td>16,546.24</td>\n",
       "      <td>4,296.05</td>\n",
       "      <td>82.52</td>\n",
       "    </tr>\n",
       "    <tr>\n",
       "      <th>std</th>\n",
       "      <td>0.78</td>\n",
       "      <td>2.57</td>\n",
       "      <td>2.57</td>\n",
       "      <td>9.72</td>\n",
       "      <td>0.11</td>\n",
       "      <td>9.73</td>\n",
       "      <td>0.11</td>\n",
       "      <td>17,017.28</td>\n",
       "      <td>4,087.77</td>\n",
       "      <td>197.90</td>\n",
       "    </tr>\n",
       "    <tr>\n",
       "      <th>min</th>\n",
       "      <td>0.00</td>\n",
       "      <td>1.00</td>\n",
       "      <td>1.00</td>\n",
       "      <td>-38.11</td>\n",
       "      <td>144.65</td>\n",
       "      <td>-38.11</td>\n",
       "      <td>144.65</td>\n",
       "      <td>19.00</td>\n",
       "      <td>4.56</td>\n",
       "      <td>4.90</td>\n",
       "    </tr>\n",
       "    <tr>\n",
       "      <th>25%</th>\n",
       "      <td>0.00</td>\n",
       "      <td>3.00</td>\n",
       "      <td>3.00</td>\n",
       "      <td>-37.83</td>\n",
       "      <td>144.92</td>\n",
       "      <td>-37.82</td>\n",
       "      <td>144.93</td>\n",
       "      <td>5,192.50</td>\n",
       "      <td>1,336.42</td>\n",
       "      <td>13.92</td>\n",
       "    </tr>\n",
       "    <tr>\n",
       "      <th>50%</th>\n",
       "      <td>1.00</td>\n",
       "      <td>5.00</td>\n",
       "      <td>5.00</td>\n",
       "      <td>-37.81</td>\n",
       "      <td>144.96</td>\n",
       "      <td>-37.82</td>\n",
       "      <td>144.96</td>\n",
       "      <td>8,772.00</td>\n",
       "      <td>2,730.00</td>\n",
       "      <td>19.92</td>\n",
       "    </tr>\n",
       "    <tr>\n",
       "      <th>75%</th>\n",
       "      <td>1.00</td>\n",
       "      <td>7.00</td>\n",
       "      <td>7.00</td>\n",
       "      <td>-37.80</td>\n",
       "      <td>144.99</td>\n",
       "      <td>-37.81</td>\n",
       "      <td>144.99</td>\n",
       "      <td>15,151.00</td>\n",
       "      <td>4,917.48</td>\n",
       "      <td>38.09</td>\n",
       "    </tr>\n",
       "    <tr>\n",
       "      <th>max</th>\n",
       "      <td>3.00</td>\n",
       "      <td>9.00</td>\n",
       "      <td>9.00</td>\n",
       "      <td>37.86</td>\n",
       "      <td>145.05</td>\n",
       "      <td>38.11</td>\n",
       "      <td>145.05</td>\n",
       "      <td>51,061.00</td>\n",
       "      <td>13,204.98</td>\n",
       "      <td>1,141.83</td>\n",
       "    </tr>\n",
       "  </tbody>\n",
       "</table>\n",
       "</div>"
      ],
      "text/plain": [
       "                      type                 orir                 desr  \\\n",
       "count               299.00               299.00               299.00   \n",
       "mean                  0.74                 5.20                 4.84   \n",
       "std                   0.78                 2.57                 2.57   \n",
       "min                   0.00                 1.00                 1.00   \n",
       "25%                   0.00                 3.00                 3.00   \n",
       "50%                   1.00                 5.00                 5.00   \n",
       "75%                   1.00                 7.00                 7.00   \n",
       "max                   3.00                 9.00                 9.00   \n",
       "\n",
       "                    orilat              orilong               deslat  \\\n",
       "count               299.00               299.00               299.00   \n",
       "mean                -36.59               144.93               -36.58   \n",
       "std                   9.72                 0.11                 9.73   \n",
       "min                 -38.11               144.65               -38.11   \n",
       "25%                 -37.83               144.92               -37.82   \n",
       "50%                 -37.81               144.96               -37.82   \n",
       "75%                 -37.80               144.99               -37.81   \n",
       "max                  37.86               145.05                38.11   \n",
       "\n",
       "                   deslong           distance_m         traveltime_s  \\\n",
       "count               299.00               299.00               299.00   \n",
       "mean                144.93            16,546.24             4,296.05   \n",
       "std                   0.11            17,017.28             4,087.77   \n",
       "min                 144.65                19.00                 4.56   \n",
       "25%                 144.93             5,192.50             1,336.42   \n",
       "50%                 144.96             8,772.00             2,730.00   \n",
       "75%                 144.99            15,151.00             4,917.48   \n",
       "max                 145.05            51,061.00            13,204.98   \n",
       "\n",
       "                      fare  \n",
       "count               299.00  \n",
       "mean                 82.52  \n",
       "std                 197.90  \n",
       "min                   4.90  \n",
       "25%                  13.92  \n",
       "50%                  19.92  \n",
       "75%                  38.09  \n",
       "max               1,141.83  "
      ]
     },
     "execution_count": 3011,
     "metadata": {},
     "output_type": "execute_result"
    }
   ],
   "source": [
    "dirty1.describe()\n",
    "# unnormal orilat,deslat std"
   ]
  },
  {
   "cell_type": "code",
   "execution_count": 3012,
   "metadata": {},
   "outputs": [
    {
     "data": {
      "text/html": [
       "<div>\n",
       "<style scoped>\n",
       "    .dataframe tbody tr th:only-of-type {\n",
       "        vertical-align: middle;\n",
       "    }\n",
       "\n",
       "    .dataframe tbody tr th {\n",
       "        vertical-align: top;\n",
       "    }\n",
       "\n",
       "    .dataframe thead th {\n",
       "        text-align: right;\n",
       "    }\n",
       "</style>\n",
       "<table border=\"1\" class=\"dataframe\">\n",
       "  <thead>\n",
       "    <tr style=\"text-align: right;\">\n",
       "      <th></th>\n",
       "      <th>id</th>\n",
       "      <th>oridate</th>\n",
       "      <th>oritime</th>\n",
       "      <th>destime</th>\n",
       "    </tr>\n",
       "  </thead>\n",
       "  <tbody>\n",
       "    <tr>\n",
       "      <th>count</th>\n",
       "      <td>299</td>\n",
       "      <td>299</td>\n",
       "      <td>299</td>\n",
       "      <td>299</td>\n",
       "    </tr>\n",
       "    <tr>\n",
       "      <th>unique</th>\n",
       "      <td>299</td>\n",
       "      <td>159</td>\n",
       "      <td>299</td>\n",
       "      <td>298</td>\n",
       "    </tr>\n",
       "    <tr>\n",
       "      <th>top</th>\n",
       "      <td>ID3465813624</td>\n",
       "      <td>2018-04-18</td>\n",
       "      <td>06:41:18</td>\n",
       "      <td>12:10:45</td>\n",
       "    </tr>\n",
       "    <tr>\n",
       "      <th>freq</th>\n",
       "      <td>1</td>\n",
       "      <td>5</td>\n",
       "      <td>1</td>\n",
       "      <td>2</td>\n",
       "    </tr>\n",
       "  </tbody>\n",
       "</table>\n",
       "</div>"
      ],
      "text/plain": [
       "                  id     oridate   oritime   destime\n",
       "count            299         299       299       299\n",
       "unique           299         159       299       298\n",
       "top     ID3465813624  2018-04-18  06:41:18  12:10:45\n",
       "freq               1           5         1         2"
      ]
     },
     "execution_count": 3012,
     "metadata": {},
     "output_type": "execute_result"
    }
   ],
   "source": [
    "dirty1.describe(include=['O'])"
   ]
  },
  {
   "cell_type": "code",
   "execution_count": 3013,
   "metadata": {},
   "outputs": [
    {
     "name": "stdout",
     "output_type": "stream",
     "text": [
      "<class 'pandas.core.frame.DataFrame'>\n",
      "RangeIndex: 299 entries, 0 to 298\n",
      "Data columns (total 14 columns):\n",
      "id              299 non-null object\n",
      "type            299 non-null int64\n",
      "orir            299 non-null int64\n",
      "desr            299 non-null int64\n",
      "orilat          299 non-null float64\n",
      "orilong         299 non-null float64\n",
      "deslat          299 non-null float64\n",
      "deslong         299 non-null float64\n",
      "distance_m      299 non-null float64\n",
      "oridate         299 non-null object\n",
      "oritime         299 non-null object\n",
      "traveltime_s    299 non-null float64\n",
      "destime         299 non-null object\n",
      "fare            299 non-null float64\n",
      "dtypes: float64(7), int64(3), object(4)\n",
      "memory usage: 32.8+ KB\n"
     ]
    }
   ],
   "source": [
    "dirty1.info()"
   ]
  },
  {
   "cell_type": "markdown",
   "metadata": {},
   "source": [
    "### 5.1 Coordinates ( Syntactic Anomalies)"
   ]
  },
  {
   "cell_type": "code",
   "execution_count": 3014,
   "metadata": {},
   "outputs": [
    {
     "data": {
      "text/plain": [
       "<matplotlib.axes._subplots.AxesSubplot at 0x1a48300b38>"
      ]
     },
     "execution_count": 3014,
     "metadata": {},
     "output_type": "execute_result"
    },
    {
     "data": {
      "image/png": "[encoded data removed]",
      "text/plain": [
       "<Figure size 432x288 with 1 Axes>"
      ]
     },
     "metadata": {
      "needs_background": "light"
     },
     "output_type": "display_data"
    }
   ],
   "source": [
    "dirty1.boxplot(column=['orilat','deslat'])"
   ]
  },
  {
   "cell_type": "code",
   "execution_count": 3015,
   "metadata": {},
   "outputs": [
    {
     "data": {
      "text/plain": [
       "<matplotlib.axes._subplots.AxesSubplot at 0x1a4829a550>"
      ]
     },
     "execution_count": 3015,
     "metadata": {},
     "output_type": "execute_result"
    },
    {
     "data": {
      "image/png": "[encoded data removed]",
      "text/plain": [
       "<Figure size 432x288 with 1 Axes>"
      ]
     },
     "metadata": {
      "needs_background": "light"
     },
     "output_type": "display_data"
    }
   ],
   "source": [
    "dirty1.boxplot(column=['orilong','deslong'])"
   ]
  },
  {
   "cell_type": "code",
   "execution_count": 3016,
   "metadata": {},
   "outputs": [
    {
     "data": {
      "text/html": [
       "<div>\n",
       "<style scoped>\n",
       "    .dataframe tbody tr th:only-of-type {\n",
       "        vertical-align: middle;\n",
       "    }\n",
       "\n",
       "    .dataframe tbody tr th {\n",
       "        vertical-align: top;\n",
       "    }\n",
       "\n",
       "    .dataframe thead th {\n",
       "        text-align: right;\n",
       "    }\n",
       "</style>\n",
       "<table border=\"1\" class=\"dataframe\">\n",
       "  <thead>\n",
       "    <tr style=\"text-align: right;\">\n",
       "      <th></th>\n",
       "      <th>id</th>\n",
       "      <th>type</th>\n",
       "      <th>orir</th>\n",
       "      <th>desr</th>\n",
       "      <th>orilat</th>\n",
       "      <th>orilong</th>\n",
       "      <th>deslat</th>\n",
       "      <th>deslong</th>\n",
       "      <th>distance_m</th>\n",
       "      <th>oridate</th>\n",
       "      <th>oritime</th>\n",
       "      <th>traveltime_s</th>\n",
       "      <th>destime</th>\n",
       "      <th>fare</th>\n",
       "    </tr>\n",
       "  </thead>\n",
       "  <tbody>\n",
       "    <tr>\n",
       "      <th>43</th>\n",
       "      <td>ID1215967930</td>\n",
       "      <td>0</td>\n",
       "      <td>6</td>\n",
       "      <td>1</td>\n",
       "      <td>37.77</td>\n",
       "      <td>144.98</td>\n",
       "      <td>-37.81</td>\n",
       "      <td>144.95</td>\n",
       "      <td>5,803.00</td>\n",
       "      <td>2018-02-19</td>\n",
       "      <td>07:31:32</td>\n",
       "      <td>1,239.60</td>\n",
       "      <td>7:52:11</td>\n",
       "      <td>5.46</td>\n",
       "    </tr>\n",
       "    <tr>\n",
       "      <th>47</th>\n",
       "      <td>ID1393171658</td>\n",
       "      <td>0</td>\n",
       "      <td>7</td>\n",
       "      <td>3</td>\n",
       "      <td>37.86</td>\n",
       "      <td>144.91</td>\n",
       "      <td>-37.82</td>\n",
       "      <td>144.97</td>\n",
       "      <td>8,061.00</td>\n",
       "      <td>2018-07-06</td>\n",
       "      <td>08:16:19</td>\n",
       "      <td>2,794.32</td>\n",
       "      <td>9:02:53</td>\n",
       "      <td>5.35</td>\n",
       "    </tr>\n",
       "    <tr>\n",
       "      <th>49</th>\n",
       "      <td>ID5890656872</td>\n",
       "      <td>2</td>\n",
       "      <td>4</td>\n",
       "      <td>2</td>\n",
       "      <td>37.80</td>\n",
       "      <td>144.99</td>\n",
       "      <td>-37.82</td>\n",
       "      <td>144.94</td>\n",
       "      <td>5,817.00</td>\n",
       "      <td>2018-05-20</td>\n",
       "      <td>15:02:27</td>\n",
       "      <td>1,427.16</td>\n",
       "      <td>15:26:14</td>\n",
       "      <td>150.27</td>\n",
       "    </tr>\n",
       "    <tr>\n",
       "      <th>52</th>\n",
       "      <td>ID1731153745</td>\n",
       "      <td>0</td>\n",
       "      <td>8</td>\n",
       "      <td>6</td>\n",
       "      <td>37.81</td>\n",
       "      <td>145.03</td>\n",
       "      <td>-37.79</td>\n",
       "      <td>144.98</td>\n",
       "      <td>5,793.00</td>\n",
       "      <td>2018-05-18</td>\n",
       "      <td>14:05:44</td>\n",
       "      <td>1,493.52</td>\n",
       "      <td>14:30:37</td>\n",
       "      <td>9.08</td>\n",
       "    </tr>\n",
       "    <tr>\n",
       "      <th>55</th>\n",
       "      <td>ID3333043165</td>\n",
       "      <td>1</td>\n",
       "      <td>3</td>\n",
       "      <td>9</td>\n",
       "      <td>37.82</td>\n",
       "      <td>145.00</td>\n",
       "      <td>-38.11</td>\n",
       "      <td>144.65</td>\n",
       "      <td>46,937.00</td>\n",
       "      <td>2018-05-14</td>\n",
       "      <td>19:45:55</td>\n",
       "      <td>11,402.70</td>\n",
       "      <td>22:55:57</td>\n",
       "      <td>59.16</td>\n",
       "    </tr>\n",
       "    <tr>\n",
       "      <th>57</th>\n",
       "      <td>ID1195316881</td>\n",
       "      <td>0</td>\n",
       "      <td>2</td>\n",
       "      <td>4</td>\n",
       "      <td>-37.82</td>\n",
       "      <td>144.95</td>\n",
       "      <td>37.81</td>\n",
       "      <td>145.00</td>\n",
       "      <td>5,168.00</td>\n",
       "      <td>2018-01-28</td>\n",
       "      <td>02:26:34</td>\n",
       "      <td>1,200.84</td>\n",
       "      <td>2:46:34</td>\n",
       "      <td>18.06</td>\n",
       "    </tr>\n",
       "    <tr>\n",
       "      <th>61</th>\n",
       "      <td>ID3175901277</td>\n",
       "      <td>1</td>\n",
       "      <td>7</td>\n",
       "      <td>8</td>\n",
       "      <td>-37.86</td>\n",
       "      <td>144.91</td>\n",
       "      <td>37.81</td>\n",
       "      <td>145.03</td>\n",
       "      <td>13,986.00</td>\n",
       "      <td>2018-03-11</td>\n",
       "      <td>21:57:58</td>\n",
       "      <td>4,292.40</td>\n",
       "      <td>23:09:30</td>\n",
       "      <td>39.34</td>\n",
       "    </tr>\n",
       "    <tr>\n",
       "      <th>64</th>\n",
       "      <td>ID3418324778</td>\n",
       "      <td>1</td>\n",
       "      <td>4</td>\n",
       "      <td>8</td>\n",
       "      <td>-37.80</td>\n",
       "      <td>145.01</td>\n",
       "      <td>37.82</td>\n",
       "      <td>145.05</td>\n",
       "      <td>4,609.00</td>\n",
       "      <td>2018-05-22</td>\n",
       "      <td>08:11:16</td>\n",
       "      <td>1,463.88</td>\n",
       "      <td>8:35:39</td>\n",
       "      <td>10.37</td>\n",
       "    </tr>\n",
       "    <tr>\n",
       "      <th>70</th>\n",
       "      <td>ID1407660858</td>\n",
       "      <td>0</td>\n",
       "      <td>1</td>\n",
       "      <td>9</td>\n",
       "      <td>-37.81</td>\n",
       "      <td>144.96</td>\n",
       "      <td>38.11</td>\n",
       "      <td>144.65</td>\n",
       "      <td>43,650.00</td>\n",
       "      <td>2018-03-07</td>\n",
       "      <td>11:43:36</td>\n",
       "      <td>10,586.22</td>\n",
       "      <td>14:40:02</td>\n",
       "      <td>22.69</td>\n",
       "    </tr>\n",
       "    <tr>\n",
       "      <th>79</th>\n",
       "      <td>ID3285557267</td>\n",
       "      <td>1</td>\n",
       "      <td>4</td>\n",
       "      <td>3</td>\n",
       "      <td>-37.80</td>\n",
       "      <td>144.99</td>\n",
       "      <td>37.81</td>\n",
       "      <td>145.00</td>\n",
       "      <td>1,830.00</td>\n",
       "      <td>2018-05-18</td>\n",
       "      <td>10:42:23</td>\n",
       "      <td>451.92</td>\n",
       "      <td>10:49:54</td>\n",
       "      <td>5.35</td>\n",
       "    </tr>\n",
       "  </tbody>\n",
       "</table>\n",
       "</div>"
      ],
      "text/plain": [
       "              id  type  orir  desr               orilat              orilong  \\\n",
       "43  ID1215967930     0     6     1                37.77               144.98   \n",
       "47  ID1393171658     0     7     3                37.86               144.91   \n",
       "49  ID5890656872     2     4     2                37.80               144.99   \n",
       "52  ID1731153745     0     8     6                37.81               145.03   \n",
       "55  ID3333043165     1     3     9                37.82               145.00   \n",
       "57  ID1195316881     0     2     4               -37.82               144.95   \n",
       "61  ID3175901277     1     7     8               -37.86               144.91   \n",
       "64  ID3418324778     1     4     8               -37.80               145.01   \n",
       "70  ID1407660858     0     1     9               -37.81               144.96   \n",
       "79  ID3285557267     1     4     3               -37.80               144.99   \n",
       "\n",
       "                 deslat              deslong           distance_m     oridate  \\\n",
       "43               -37.81               144.95             5,803.00  2018-02-19   \n",
       "47               -37.82               144.97             8,061.00  2018-07-06   \n",
       "49               -37.82               144.94             5,817.00  2018-05-20   \n",
       "52               -37.79               144.98             5,793.00  2018-05-18   \n",
       "55               -38.11               144.65            46,937.00  2018-05-14   \n",
       "57                37.81               145.00             5,168.00  2018-01-28   \n",
       "61                37.81               145.03            13,986.00  2018-03-11   \n",
       "64                37.82               145.05             4,609.00  2018-05-22   \n",
       "70                38.11               144.65            43,650.00  2018-03-07   \n",
       "79                37.81               145.00             1,830.00  2018-05-18   \n",
       "\n",
       "     oritime         traveltime_s   destime                 fare  \n",
       "43  07:31:32             1,239.60   7:52:11                 5.46  \n",
       "47  08:16:19             2,794.32   9:02:53                 5.35  \n",
       "49  15:02:27             1,427.16  15:26:14               150.27  \n",
       "52  14:05:44             1,493.52  14:30:37                 9.08  \n",
       "55  19:45:55            11,402.70  22:55:57                59.16  \n",
       "57  02:26:34             1,200.84   2:46:34                18.06  \n",
       "61  21:57:58             4,292.40  23:09:30                39.34  \n",
       "64  08:11:16             1,463.88   8:35:39                10.37  \n",
       "70  11:43:36            10,586.22  14:40:02                22.69  \n",
       "79  10:42:23               451.92  10:49:54                 5.35  "
      ]
     },
     "execution_count": 3016,
     "metadata": {},
     "output_type": "execute_result"
    }
   ],
   "source": [
    "# Locate the data with syntatic error in Latitude\n",
    "dirty1[(dirty1.orilat>0)|(dirty1.deslat>0)]"
   ]
  },
  {
   "cell_type": "code",
   "execution_count": 3017,
   "metadata": {},
   "outputs": [
    {
     "data": {
      "text/plain": [
       "10"
      ]
     },
     "execution_count": 3017,
     "metadata": {},
     "output_type": "execute_result"
    }
   ],
   "source": [
    "# Save the ID for different errors\n",
    "fixed_index = []\n",
    "err_lat = dirty1[(dirty1.orilat>0)|(dirty1.deslat>0)].index\n",
    "fixed_index.extend(err_lat)\n",
    "len(fixed_index)"
   ]
  },
  {
   "cell_type": "code",
   "execution_count": 3018,
   "metadata": {},
   "outputs": [],
   "source": [
    "# Add negative sign if latitude >0 on dirty copy data\n",
    "dirty1['orilat'] = dirty1['orilat'].map(lambda x: -x if x>0 else x)\n",
    "dirty1['deslat'] = dirty1['deslat'].map(lambda x: -x if x>0 else x)"
   ]
  },
  {
   "cell_type": "code",
   "execution_count": 3019,
   "metadata": {},
   "outputs": [
    {
     "data": {
      "text/html": [
       "<div>\n",
       "<style scoped>\n",
       "    .dataframe tbody tr th:only-of-type {\n",
       "        vertical-align: middle;\n",
       "    }\n",
       "\n",
       "    .dataframe tbody tr th {\n",
       "        vertical-align: top;\n",
       "    }\n",
       "\n",
       "    .dataframe thead th {\n",
       "        text-align: right;\n",
       "    }\n",
       "</style>\n",
       "<table border=\"1\" class=\"dataframe\">\n",
       "  <thead>\n",
       "    <tr style=\"text-align: right;\">\n",
       "      <th></th>\n",
       "      <th>id</th>\n",
       "      <th>type</th>\n",
       "      <th>orir</th>\n",
       "      <th>desr</th>\n",
       "      <th>orilat</th>\n",
       "      <th>orilong</th>\n",
       "      <th>deslat</th>\n",
       "      <th>deslong</th>\n",
       "      <th>distance_m</th>\n",
       "      <th>oridate</th>\n",
       "      <th>oritime</th>\n",
       "      <th>traveltime_s</th>\n",
       "      <th>destime</th>\n",
       "      <th>fare</th>\n",
       "    </tr>\n",
       "  </thead>\n",
       "  <tbody>\n",
       "    <tr>\n",
       "      <th>43</th>\n",
       "      <td>ID1215967930</td>\n",
       "      <td>0</td>\n",
       "      <td>6</td>\n",
       "      <td>1</td>\n",
       "      <td>-37.77</td>\n",
       "      <td>144.98</td>\n",
       "      <td>-37.81</td>\n",
       "      <td>144.95</td>\n",
       "      <td>5,803.00</td>\n",
       "      <td>2018-02-19</td>\n",
       "      <td>07:31:32</td>\n",
       "      <td>1,239.60</td>\n",
       "      <td>7:52:11</td>\n",
       "      <td>5.46</td>\n",
       "    </tr>\n",
       "    <tr>\n",
       "      <th>47</th>\n",
       "      <td>ID1393171658</td>\n",
       "      <td>0</td>\n",
       "      <td>7</td>\n",
       "      <td>3</td>\n",
       "      <td>-37.86</td>\n",
       "      <td>144.91</td>\n",
       "      <td>-37.82</td>\n",
       "      <td>144.97</td>\n",
       "      <td>8,061.00</td>\n",
       "      <td>2018-07-06</td>\n",
       "      <td>08:16:19</td>\n",
       "      <td>2,794.32</td>\n",
       "      <td>9:02:53</td>\n",
       "      <td>5.35</td>\n",
       "    </tr>\n",
       "    <tr>\n",
       "      <th>49</th>\n",
       "      <td>ID5890656872</td>\n",
       "      <td>2</td>\n",
       "      <td>4</td>\n",
       "      <td>2</td>\n",
       "      <td>-37.80</td>\n",
       "      <td>144.99</td>\n",
       "      <td>-37.82</td>\n",
       "      <td>144.94</td>\n",
       "      <td>5,817.00</td>\n",
       "      <td>2018-05-20</td>\n",
       "      <td>15:02:27</td>\n",
       "      <td>1,427.16</td>\n",
       "      <td>15:26:14</td>\n",
       "      <td>150.27</td>\n",
       "    </tr>\n",
       "    <tr>\n",
       "      <th>52</th>\n",
       "      <td>ID1731153745</td>\n",
       "      <td>0</td>\n",
       "      <td>8</td>\n",
       "      <td>6</td>\n",
       "      <td>-37.81</td>\n",
       "      <td>145.03</td>\n",
       "      <td>-37.79</td>\n",
       "      <td>144.98</td>\n",
       "      <td>5,793.00</td>\n",
       "      <td>2018-05-18</td>\n",
       "      <td>14:05:44</td>\n",
       "      <td>1,493.52</td>\n",
       "      <td>14:30:37</td>\n",
       "      <td>9.08</td>\n",
       "    </tr>\n",
       "    <tr>\n",
       "      <th>55</th>\n",
       "      <td>ID3333043165</td>\n",
       "      <td>1</td>\n",
       "      <td>3</td>\n",
       "      <td>9</td>\n",
       "      <td>-37.82</td>\n",
       "      <td>145.00</td>\n",
       "      <td>-38.11</td>\n",
       "      <td>144.65</td>\n",
       "      <td>46,937.00</td>\n",
       "      <td>2018-05-14</td>\n",
       "      <td>19:45:55</td>\n",
       "      <td>11,402.70</td>\n",
       "      <td>22:55:57</td>\n",
       "      <td>59.16</td>\n",
       "    </tr>\n",
       "    <tr>\n",
       "      <th>57</th>\n",
       "      <td>ID1195316881</td>\n",
       "      <td>0</td>\n",
       "      <td>2</td>\n",
       "      <td>4</td>\n",
       "      <td>-37.82</td>\n",
       "      <td>144.95</td>\n",
       "      <td>-37.81</td>\n",
       "      <td>145.00</td>\n",
       "      <td>5,168.00</td>\n",
       "      <td>2018-01-28</td>\n",
       "      <td>02:26:34</td>\n",
       "      <td>1,200.84</td>\n",
       "      <td>2:46:34</td>\n",
       "      <td>18.06</td>\n",
       "    </tr>\n",
       "    <tr>\n",
       "      <th>61</th>\n",
       "      <td>ID3175901277</td>\n",
       "      <td>1</td>\n",
       "      <td>7</td>\n",
       "      <td>8</td>\n",
       "      <td>-37.86</td>\n",
       "      <td>144.91</td>\n",
       "      <td>-37.81</td>\n",
       "      <td>145.03</td>\n",
       "      <td>13,986.00</td>\n",
       "      <td>2018-03-11</td>\n",
       "      <td>21:57:58</td>\n",
       "      <td>4,292.40</td>\n",
       "      <td>23:09:30</td>\n",
       "      <td>39.34</td>\n",
       "    </tr>\n",
       "    <tr>\n",
       "      <th>64</th>\n",
       "      <td>ID3418324778</td>\n",
       "      <td>1</td>\n",
       "      <td>4</td>\n",
       "      <td>8</td>\n",
       "      <td>-37.80</td>\n",
       "      <td>145.01</td>\n",
       "      <td>-37.82</td>\n",
       "      <td>145.05</td>\n",
       "      <td>4,609.00</td>\n",
       "      <td>2018-05-22</td>\n",
       "      <td>08:11:16</td>\n",
       "      <td>1,463.88</td>\n",
       "      <td>8:35:39</td>\n",
       "      <td>10.37</td>\n",
       "    </tr>\n",
       "    <tr>\n",
       "      <th>70</th>\n",
       "      <td>ID1407660858</td>\n",
       "      <td>0</td>\n",
       "      <td>1</td>\n",
       "      <td>9</td>\n",
       "      <td>-37.81</td>\n",
       "      <td>144.96</td>\n",
       "      <td>-38.11</td>\n",
       "      <td>144.65</td>\n",
       "      <td>43,650.00</td>\n",
       "      <td>2018-03-07</td>\n",
       "      <td>11:43:36</td>\n",
       "      <td>10,586.22</td>\n",
       "      <td>14:40:02</td>\n",
       "      <td>22.69</td>\n",
       "    </tr>\n",
       "    <tr>\n",
       "      <th>79</th>\n",
       "      <td>ID3285557267</td>\n",
       "      <td>1</td>\n",
       "      <td>4</td>\n",
       "      <td>3</td>\n",
       "      <td>-37.80</td>\n",
       "      <td>144.99</td>\n",
       "      <td>-37.81</td>\n",
       "      <td>145.00</td>\n",
       "      <td>1,830.00</td>\n",
       "      <td>2018-05-18</td>\n",
       "      <td>10:42:23</td>\n",
       "      <td>451.92</td>\n",
       "      <td>10:49:54</td>\n",
       "      <td>5.35</td>\n",
       "    </tr>\n",
       "  </tbody>\n",
       "</table>\n",
       "</div>"
      ],
      "text/plain": [
       "              id  type  orir  desr               orilat              orilong  \\\n",
       "43  ID1215967930     0     6     1               -37.77               144.98   \n",
       "47  ID1393171658     0     7     3               -37.86               144.91   \n",
       "49  ID5890656872     2     4     2               -37.80               144.99   \n",
       "52  ID1731153745     0     8     6               -37.81               145.03   \n",
       "55  ID3333043165     1     3     9               -37.82               145.00   \n",
       "57  ID1195316881     0     2     4               -37.82               144.95   \n",
       "61  ID3175901277     1     7     8               -37.86               144.91   \n",
       "64  ID3418324778     1     4     8               -37.80               145.01   \n",
       "70  ID1407660858     0     1     9               -37.81               144.96   \n",
       "79  ID3285557267     1     4     3               -37.80               144.99   \n",
       "\n",
       "                 deslat              deslong           distance_m     oridate  \\\n",
       "43               -37.81               144.95             5,803.00  2018-02-19   \n",
       "47               -37.82               144.97             8,061.00  2018-07-06   \n",
       "49               -37.82               144.94             5,817.00  2018-05-20   \n",
       "52               -37.79               144.98             5,793.00  2018-05-18   \n",
       "55               -38.11               144.65            46,937.00  2018-05-14   \n",
       "57               -37.81               145.00             5,168.00  2018-01-28   \n",
       "61               -37.81               145.03            13,986.00  2018-03-11   \n",
       "64               -37.82               145.05             4,609.00  2018-05-22   \n",
       "70               -38.11               144.65            43,650.00  2018-03-07   \n",
       "79               -37.81               145.00             1,830.00  2018-05-18   \n",
       "\n",
       "     oritime         traveltime_s   destime                 fare  \n",
       "43  07:31:32             1,239.60   7:52:11                 5.46  \n",
       "47  08:16:19             2,794.32   9:02:53                 5.35  \n",
       "49  15:02:27             1,427.16  15:26:14               150.27  \n",
       "52  14:05:44             1,493.52  14:30:37                 9.08  \n",
       "55  19:45:55            11,402.70  22:55:57                59.16  \n",
       "57  02:26:34             1,200.84   2:46:34                18.06  \n",
       "61  21:57:58             4,292.40  23:09:30                39.34  \n",
       "64  08:11:16             1,463.88   8:35:39                10.37  \n",
       "70  11:43:36            10,586.22  14:40:02                22.69  \n",
       "79  10:42:23               451.92  10:49:54                 5.35  "
      ]
     },
     "execution_count": 3019,
     "metadata": {},
     "output_type": "execute_result"
    }
   ],
   "source": [
    "dirty1[dirty1.index.isin(err_lat)]"
   ]
  },
  {
   "cell_type": "markdown",
   "metadata": {},
   "source": [
    "### 5.2 Invalid Date ( Syntactic Anomalies)"
   ]
  },
  {
   "cell_type": "markdown",
   "metadata": {},
   "source": [
    "> Two kinds of Invalid date <br>\n",
    "    1. Record format inconsistency: month and day reverse\n",
    "       for this type of error, we can fix it by changing the order.\n",
    "    2. Day out of range\n",
    "       for out of range error, we can only imputate it with uncertain."
   ]
  },
  {
   "cell_type": "code",
   "execution_count": 3020,
   "metadata": {},
   "outputs": [],
   "source": [
    "def date_validator(d):\n",
    "    # detect two types of date errors\n",
    "    try:\n",
    "        datetime.strptime(d,'%Y-%m-%d')\n",
    "        return 0\n",
    "    except ValueError:\n",
    "        l = d.split('-')\n",
    "        reverse = f'{l[0]}-{l[2]}-{l[1]}'\n",
    "        try: \n",
    "            datetime.strptime(reverse,'%Y-%m-%d')\n",
    "            return 1\n",
    "        except ValueError:\n",
    "            return 2"
   ]
  },
  {
   "cell_type": "code",
   "execution_count": 3021,
   "metadata": {},
   "outputs": [
    {
     "data": {
      "text/plain": [
       "176    2018-18-04\n",
       "181    2018-18-02\n",
       "183    2018-18-04\n",
       "186    2018-15-06\n",
       "189    2018-24-05\n",
       "196    2018-23-03\n",
       "Name: oridate, dtype: object"
      ]
     },
     "execution_count": 3021,
     "metadata": {},
     "output_type": "execute_result"
    }
   ],
   "source": [
    "dirty1['date_check'] = dirty1.oridate.apply(date_validator)\n",
    "dirty1[dirty1.date_check==1].oridate"
   ]
  },
  {
   "cell_type": "code",
   "execution_count": 3022,
   "metadata": {},
   "outputs": [
    {
     "data": {
      "text/plain": [
       "16"
      ]
     },
     "execution_count": 3022,
     "metadata": {},
     "output_type": "execute_result"
    }
   ],
   "source": [
    "# save the index for error\n",
    "err_date_mdreverse = dirty1[dirty1.date_check==1].index\n",
    "fixed_index.extend(err_date_mdreverse)\n",
    "len(fixed_index)"
   ]
  },
  {
   "cell_type": "code",
   "execution_count": 3023,
   "metadata": {},
   "outputs": [],
   "source": [
    "# fix it by reverse the order\n",
    "def date_mon_day_reverse(d):\n",
    "    l = d.split('-')\n",
    "    reverse = f'{l[0]}-{l[2]}-{l[1]}'\n",
    "    return reverse"
   ]
  },
  {
   "cell_type": "code",
   "execution_count": 3024,
   "metadata": {},
   "outputs": [
    {
     "data": {
      "text/plain": [
       "176    2018-04-18\n",
       "181    2018-02-18\n",
       "183    2018-04-18\n",
       "186    2018-06-15\n",
       "189    2018-05-24\n",
       "196    2018-03-23\n",
       "Name: oridate, dtype: object"
      ]
     },
     "execution_count": 3024,
     "metadata": {},
     "output_type": "execute_result"
    }
   ],
   "source": [
    "dirty1.loc[dirty1.date_check==1,'oridate'] = dirty1[dirty1.date_check==1].oridate.apply(date_mon_day_reverse)\n",
    "dirty1[dirty1.date_check==1].oridate"
   ]
  },
  {
   "cell_type": "code",
   "execution_count": 3025,
   "metadata": {},
   "outputs": [
    {
     "data": {
      "text/plain": [
       "203    2018-06-31\n",
       "205    2018-02-30\n",
       "209    2018-02-30\n",
       "211    2018-02-30\n",
       "216    2018-06-31\n",
       "220    2018-04-31\n",
       "222    2018-02-30\n",
       "223    2018-04-31\n",
       "225    2018-02-30\n",
       "226    2018-06-31\n",
       "Name: oridate, dtype: object"
      ]
     },
     "execution_count": 3025,
     "metadata": {},
     "output_type": "execute_result"
    }
   ],
   "source": [
    "dirty1[dirty1.date_check==2].oridate"
   ]
  },
  {
   "cell_type": "code",
   "execution_count": 3026,
   "metadata": {},
   "outputs": [],
   "source": [
    "def outrange_date_chage(d):\n",
    "    l = d.split('-')\n",
    "    d_1 = f'{l[0]}-{l[1]}-{int(l[2])-1}'\n",
    "    d_2 = f'{l[0]}-{l[1]}-{int(l[2])-2}'\n",
    "    try:\n",
    "        datetime.strptime(d_1,'%Y-%m-%d')\n",
    "        return d_1\n",
    "    except ValueError:\n",
    "        try: \n",
    "            datetime.strptime(d_2,'%Y-%m-%d')\n",
    "            return d_2\n",
    "        except ValueError:\n",
    "            None"
   ]
  },
  {
   "cell_type": "code",
   "execution_count": 3027,
   "metadata": {},
   "outputs": [
    {
     "data": {
      "text/plain": [
       "26"
      ]
     },
     "execution_count": 3027,
     "metadata": {},
     "output_type": "execute_result"
    }
   ],
   "source": [
    "err_date_outrange = dirty1[dirty1.date_check==2].index\n",
    "fixed_index.extend(err_date_outrange)\n",
    "len(fixed_index)"
   ]
  },
  {
   "cell_type": "code",
   "execution_count": 3028,
   "metadata": {},
   "outputs": [
    {
     "data": {
      "text/plain": [
       "203    2018-06-30\n",
       "205    2018-02-28\n",
       "209    2018-02-28\n",
       "211    2018-02-28\n",
       "216    2018-06-30\n",
       "220    2018-04-30\n",
       "222    2018-02-28\n",
       "223    2018-04-30\n",
       "225    2018-02-28\n",
       "226    2018-06-30\n",
       "Name: oridate, dtype: object"
      ]
     },
     "execution_count": 3028,
     "metadata": {},
     "output_type": "execute_result"
    }
   ],
   "source": [
    "dirty1.loc[dirty1.date_check==2,'oridate'] = dirty1[dirty1.date_check==2].oridate.apply(outrange_date_chage)\n",
    "dirty1[dirty1.date_check==2].oridate"
   ]
  },
  {
   "cell_type": "code",
   "execution_count": 3029,
   "metadata": {},
   "outputs": [],
   "source": [
    "# double check the validation of date\n",
    "def date_double_check(d):\n",
    "    try:\n",
    "        datetime.strptime(d,'%Y-%m-%d')\n",
    "        return 0\n",
    "    except ValueError:\n",
    "        return 1"
   ]
  },
  {
   "cell_type": "code",
   "execution_count": 3030,
   "metadata": {},
   "outputs": [
    {
     "data": {
      "text/html": [
       "<div>\n",
       "<style scoped>\n",
       "    .dataframe tbody tr th:only-of-type {\n",
       "        vertical-align: middle;\n",
       "    }\n",
       "\n",
       "    .dataframe tbody tr th {\n",
       "        vertical-align: top;\n",
       "    }\n",
       "\n",
       "    .dataframe thead th {\n",
       "        text-align: right;\n",
       "    }\n",
       "</style>\n",
       "<table border=\"1\" class=\"dataframe\">\n",
       "  <thead>\n",
       "    <tr style=\"text-align: right;\">\n",
       "      <th></th>\n",
       "      <th>id</th>\n",
       "      <th>type</th>\n",
       "      <th>orir</th>\n",
       "      <th>desr</th>\n",
       "      <th>orilat</th>\n",
       "      <th>orilong</th>\n",
       "      <th>deslat</th>\n",
       "      <th>deslong</th>\n",
       "      <th>distance_m</th>\n",
       "      <th>oridate</th>\n",
       "      <th>oritime</th>\n",
       "      <th>traveltime_s</th>\n",
       "      <th>destime</th>\n",
       "      <th>fare</th>\n",
       "      <th>date_check</th>\n",
       "      <th>date_double_check</th>\n",
       "    </tr>\n",
       "  </thead>\n",
       "  <tbody>\n",
       "  </tbody>\n",
       "</table>\n",
       "</div>"
      ],
      "text/plain": [
       "Empty DataFrame\n",
       "Columns: [id, type, orir, desr, orilat, orilong, deslat, deslong, distance_m, oridate, oritime, traveltime_s, destime, fare, date_check, date_double_check]\n",
       "Index: []"
      ]
     },
     "execution_count": 3030,
     "metadata": {},
     "output_type": "execute_result"
    }
   ],
   "source": [
    "dirty1['date_double_check'] = dirty1.oridate.apply(date_double_check)\n",
    "dirty1[dirty1['date_double_check']==1]"
   ]
  },
  {
   "cell_type": "markdown",
   "metadata": {},
   "source": [
    "### 5.3 Uber type (Semantic anomalies) "
   ]
  },
  {
   "cell_type": "code",
   "execution_count": 3031,
   "metadata": {},
   "outputs": [
    {
     "data": {
      "text/html": [
       "<div>\n",
       "<style scoped>\n",
       "    .dataframe tbody tr th:only-of-type {\n",
       "        vertical-align: middle;\n",
       "    }\n",
       "\n",
       "    .dataframe tbody tr th {\n",
       "        vertical-align: top;\n",
       "    }\n",
       "\n",
       "    .dataframe thead th {\n",
       "        text-align: right;\n",
       "    }\n",
       "</style>\n",
       "<table border=\"1\" class=\"dataframe\">\n",
       "  <thead>\n",
       "    <tr style=\"text-align: right;\">\n",
       "      <th></th>\n",
       "      <th>id</th>\n",
       "    </tr>\n",
       "    <tr>\n",
       "      <th>type</th>\n",
       "      <th></th>\n",
       "    </tr>\n",
       "  </thead>\n",
       "  <tbody>\n",
       "    <tr>\n",
       "      <th>0</th>\n",
       "      <td>132</td>\n",
       "    </tr>\n",
       "    <tr>\n",
       "      <th>1</th>\n",
       "      <td>118</td>\n",
       "    </tr>\n",
       "    <tr>\n",
       "      <th>2</th>\n",
       "      <td>43</td>\n",
       "    </tr>\n",
       "    <tr>\n",
       "      <th>3</th>\n",
       "      <td>6</td>\n",
       "    </tr>\n",
       "  </tbody>\n",
       "</table>\n",
       "</div>"
      ],
      "text/plain": [
       "       id\n",
       "type     \n",
       "0     132\n",
       "1     118\n",
       "2      43\n",
       "3       6"
      ]
     },
     "execution_count": 3031,
     "metadata": {},
     "output_type": "execute_result"
    }
   ],
   "source": [
    "# check the dirty data first\n",
    "dirty1[['id','type']].groupby(['type']).count()"
   ]
  },
  {
   "cell_type": "code",
   "execution_count": 3032,
   "metadata": {},
   "outputs": [
    {
     "data": {
      "text/html": [
       "<div>\n",
       "<style scoped>\n",
       "    .dataframe tbody tr th:only-of-type {\n",
       "        vertical-align: middle;\n",
       "    }\n",
       "\n",
       "    .dataframe tbody tr th {\n",
       "        vertical-align: top;\n",
       "    }\n",
       "\n",
       "    .dataframe thead th {\n",
       "        text-align: right;\n",
       "    }\n",
       "</style>\n",
       "<table border=\"1\" class=\"dataframe\">\n",
       "  <thead>\n",
       "    <tr style=\"text-align: right;\">\n",
       "      <th></th>\n",
       "      <th>id</th>\n",
       "      <th>type</th>\n",
       "      <th>orir</th>\n",
       "      <th>desr</th>\n",
       "      <th>orilat</th>\n",
       "      <th>orilong</th>\n",
       "      <th>deslat</th>\n",
       "      <th>deslong</th>\n",
       "      <th>distance_m</th>\n",
       "      <th>oridate</th>\n",
       "      <th>oritime</th>\n",
       "      <th>traveltime_s</th>\n",
       "      <th>destime</th>\n",
       "      <th>fare</th>\n",
       "      <th>date_check</th>\n",
       "      <th>date_double_check</th>\n",
       "    </tr>\n",
       "  </thead>\n",
       "  <tbody>\n",
       "    <tr>\n",
       "      <th>126</th>\n",
       "      <td>ID5296583456</td>\n",
       "      <td>3</td>\n",
       "      <td>6</td>\n",
       "      <td>7</td>\n",
       "      <td>-37.77</td>\n",
       "      <td>144.98</td>\n",
       "      <td>-37.86</td>\n",
       "      <td>144.91</td>\n",
       "      <td>13,169.00</td>\n",
       "      <td>2018-04-27</td>\n",
       "      <td>11:57:36</td>\n",
       "      <td>3,866.46</td>\n",
       "      <td>13:02:02</td>\n",
       "      <td>350.58</td>\n",
       "      <td>0</td>\n",
       "      <td>0</td>\n",
       "    </tr>\n",
       "    <tr>\n",
       "      <th>127</th>\n",
       "      <td>ID3270412766</td>\n",
       "      <td>3</td>\n",
       "      <td>4</td>\n",
       "      <td>3</td>\n",
       "      <td>-37.80</td>\n",
       "      <td>145.00</td>\n",
       "      <td>-37.82</td>\n",
       "      <td>145.00</td>\n",
       "      <td>2,025.00</td>\n",
       "      <td>2018-06-17</td>\n",
       "      <td>07:07:41</td>\n",
       "      <td>532.38</td>\n",
       "      <td>7:16:33</td>\n",
       "      <td>12.28</td>\n",
       "      <td>0</td>\n",
       "      <td>0</td>\n",
       "    </tr>\n",
       "  </tbody>\n",
       "</table>\n",
       "</div>"
      ],
      "text/plain": [
       "               id  type  orir  desr               orilat              orilong  \\\n",
       "126  ID5296583456     3     6     7               -37.77               144.98   \n",
       "127  ID3270412766     3     4     3               -37.80               145.00   \n",
       "\n",
       "                  deslat              deslong           distance_m  \\\n",
       "126               -37.86               144.91            13,169.00   \n",
       "127               -37.82               145.00             2,025.00   \n",
       "\n",
       "        oridate   oritime         traveltime_s   destime                 fare  \\\n",
       "126  2018-04-27  11:57:36             3,866.46  13:02:02               350.58   \n",
       "127  2018-06-17  07:07:41               532.38   7:16:33                12.28   \n",
       "\n",
       "     date_check  date_double_check  \n",
       "126           0                  0  \n",
       "127           0                  0  "
      ]
     },
     "execution_count": 3032,
     "metadata": {},
     "output_type": "execute_result"
    }
   ],
   "source": [
    "dirty1[dirty1.type==3].head(2)"
   ]
  },
  {
   "cell_type": "code",
   "execution_count": 3033,
   "metadata": {},
   "outputs": [],
   "source": [
    "def uber_type_check(ID,u_type):\n",
    "    if ID.startswith('ID3') and u_type!= 1:\n",
    "        return 1\n",
    "    elif ID.startswith('ID5') and u_type!= 2:\n",
    "        return 1\n",
    "    elif ID.startswith('ID1') and u_type!= 0:\n",
    "        return 1\n",
    "    else:\n",
    "        return 0"
   ]
  },
  {
   "cell_type": "code",
   "execution_count": 3034,
   "metadata": {},
   "outputs": [],
   "source": [
    "dirty1['u_type_check'] = dirty1.apply(lambda row: uber_type_check(row['id'],row['type']),axis=1)"
   ]
  },
  {
   "cell_type": "code",
   "execution_count": 3035,
   "metadata": {},
   "outputs": [
    {
     "data": {
      "text/html": [
       "<div>\n",
       "<style scoped>\n",
       "    .dataframe tbody tr th:only-of-type {\n",
       "        vertical-align: middle;\n",
       "    }\n",
       "\n",
       "    .dataframe tbody tr th {\n",
       "        vertical-align: top;\n",
       "    }\n",
       "\n",
       "    .dataframe thead th {\n",
       "        text-align: right;\n",
       "    }\n",
       "</style>\n",
       "<table border=\"1\" class=\"dataframe\">\n",
       "  <thead>\n",
       "    <tr style=\"text-align: right;\">\n",
       "      <th></th>\n",
       "      <th>id</th>\n",
       "      <th>type</th>\n",
       "      <th>orir</th>\n",
       "      <th>desr</th>\n",
       "      <th>orilat</th>\n",
       "      <th>orilong</th>\n",
       "      <th>deslat</th>\n",
       "      <th>deslong</th>\n",
       "      <th>distance_m</th>\n",
       "      <th>oridate</th>\n",
       "      <th>oritime</th>\n",
       "      <th>traveltime_s</th>\n",
       "      <th>destime</th>\n",
       "      <th>fare</th>\n",
       "      <th>date_check</th>\n",
       "      <th>date_double_check</th>\n",
       "      <th>u_type_check</th>\n",
       "    </tr>\n",
       "  </thead>\n",
       "  <tbody>\n",
       "    <tr>\n",
       "      <th>126</th>\n",
       "      <td>ID5296583456</td>\n",
       "      <td>3</td>\n",
       "      <td>6</td>\n",
       "      <td>7</td>\n",
       "      <td>-37.77</td>\n",
       "      <td>144.98</td>\n",
       "      <td>-37.86</td>\n",
       "      <td>144.91</td>\n",
       "      <td>13,169.00</td>\n",
       "      <td>2018-04-27</td>\n",
       "      <td>11:57:36</td>\n",
       "      <td>3,866.46</td>\n",
       "      <td>13:02:02</td>\n",
       "      <td>350.58</td>\n",
       "      <td>0</td>\n",
       "      <td>0</td>\n",
       "      <td>1</td>\n",
       "    </tr>\n",
       "    <tr>\n",
       "      <th>127</th>\n",
       "      <td>ID3270412766</td>\n",
       "      <td>3</td>\n",
       "      <td>4</td>\n",
       "      <td>3</td>\n",
       "      <td>-37.80</td>\n",
       "      <td>145.00</td>\n",
       "      <td>-37.82</td>\n",
       "      <td>145.00</td>\n",
       "      <td>2,025.00</td>\n",
       "      <td>2018-06-17</td>\n",
       "      <td>07:07:41</td>\n",
       "      <td>532.38</td>\n",
       "      <td>7:16:33</td>\n",
       "      <td>12.28</td>\n",
       "      <td>0</td>\n",
       "      <td>0</td>\n",
       "      <td>1</td>\n",
       "    </tr>\n",
       "  </tbody>\n",
       "</table>\n",
       "</div>"
      ],
      "text/plain": [
       "               id  type  orir  desr               orilat              orilong  \\\n",
       "126  ID5296583456     3     6     7               -37.77               144.98   \n",
       "127  ID3270412766     3     4     3               -37.80               145.00   \n",
       "\n",
       "                  deslat              deslong           distance_m  \\\n",
       "126               -37.86               144.91            13,169.00   \n",
       "127               -37.82               145.00             2,025.00   \n",
       "\n",
       "        oridate   oritime         traveltime_s   destime                 fare  \\\n",
       "126  2018-04-27  11:57:36             3,866.46  13:02:02               350.58   \n",
       "127  2018-06-17  07:07:41               532.38   7:16:33                12.28   \n",
       "\n",
       "     date_check  date_double_check  u_type_check  \n",
       "126           0                  0             1  \n",
       "127           0                  0             1  "
      ]
     },
     "execution_count": 3035,
     "metadata": {},
     "output_type": "execute_result"
    }
   ],
   "source": [
    "dirty1[dirty1['u_type_check']==1].head(2)"
   ]
  },
  {
   "cell_type": "code",
   "execution_count": 3036,
   "metadata": {},
   "outputs": [
    {
     "data": {
      "text/plain": [
       "35"
      ]
     },
     "execution_count": 3036,
     "metadata": {},
     "output_type": "execute_result"
    }
   ],
   "source": [
    "# add error index into the fixed list\n",
    "err_ubertype = dirty1[dirty1.u_type_check==1].index\n",
    "fixed_index.extend(err_ubertype)\n",
    "len(fixed_index)"
   ]
  },
  {
   "cell_type": "code",
   "execution_count": 3037,
   "metadata": {},
   "outputs": [],
   "source": [
    "def uber_type_correct(id):\n",
    "    if id.startswith('ID3'):\n",
    "        return 1\n",
    "    elif id.startswith('ID5'):\n",
    "        return 2\n",
    "    elif id.startswith('ID1'):\n",
    "        return 0"
   ]
  },
  {
   "cell_type": "code",
   "execution_count": 3038,
   "metadata": {},
   "outputs": [
    {
     "data": {
      "text/html": [
       "<div>\n",
       "<style scoped>\n",
       "    .dataframe tbody tr th:only-of-type {\n",
       "        vertical-align: middle;\n",
       "    }\n",
       "\n",
       "    .dataframe tbody tr th {\n",
       "        vertical-align: top;\n",
       "    }\n",
       "\n",
       "    .dataframe thead th {\n",
       "        text-align: right;\n",
       "    }\n",
       "</style>\n",
       "<table border=\"1\" class=\"dataframe\">\n",
       "  <thead>\n",
       "    <tr style=\"text-align: right;\">\n",
       "      <th></th>\n",
       "      <th>id</th>\n",
       "      <th>type</th>\n",
       "      <th>orir</th>\n",
       "      <th>desr</th>\n",
       "      <th>orilat</th>\n",
       "      <th>orilong</th>\n",
       "      <th>deslat</th>\n",
       "      <th>deslong</th>\n",
       "      <th>distance_m</th>\n",
       "      <th>oridate</th>\n",
       "      <th>oritime</th>\n",
       "      <th>traveltime_s</th>\n",
       "      <th>destime</th>\n",
       "      <th>fare</th>\n",
       "      <th>date_check</th>\n",
       "      <th>date_double_check</th>\n",
       "      <th>u_type_check</th>\n",
       "    </tr>\n",
       "  </thead>\n",
       "  <tbody>\n",
       "    <tr>\n",
       "      <th>126</th>\n",
       "      <td>ID5296583456</td>\n",
       "      <td>2</td>\n",
       "      <td>6</td>\n",
       "      <td>7</td>\n",
       "      <td>-37.77</td>\n",
       "      <td>144.98</td>\n",
       "      <td>-37.86</td>\n",
       "      <td>144.91</td>\n",
       "      <td>13,169.00</td>\n",
       "      <td>2018-04-27</td>\n",
       "      <td>11:57:36</td>\n",
       "      <td>3,866.46</td>\n",
       "      <td>13:02:02</td>\n",
       "      <td>350.58</td>\n",
       "      <td>0</td>\n",
       "      <td>0</td>\n",
       "      <td>1</td>\n",
       "    </tr>\n",
       "    <tr>\n",
       "      <th>127</th>\n",
       "      <td>ID3270412766</td>\n",
       "      <td>1</td>\n",
       "      <td>4</td>\n",
       "      <td>3</td>\n",
       "      <td>-37.80</td>\n",
       "      <td>145.00</td>\n",
       "      <td>-37.82</td>\n",
       "      <td>145.00</td>\n",
       "      <td>2,025.00</td>\n",
       "      <td>2018-06-17</td>\n",
       "      <td>07:07:41</td>\n",
       "      <td>532.38</td>\n",
       "      <td>7:16:33</td>\n",
       "      <td>12.28</td>\n",
       "      <td>0</td>\n",
       "      <td>0</td>\n",
       "      <td>1</td>\n",
       "    </tr>\n",
       "  </tbody>\n",
       "</table>\n",
       "</div>"
      ],
      "text/plain": [
       "               id  type  orir  desr               orilat              orilong  \\\n",
       "126  ID5296583456     2     6     7               -37.77               144.98   \n",
       "127  ID3270412766     1     4     3               -37.80               145.00   \n",
       "\n",
       "                  deslat              deslong           distance_m  \\\n",
       "126               -37.86               144.91            13,169.00   \n",
       "127               -37.82               145.00             2,025.00   \n",
       "\n",
       "        oridate   oritime         traveltime_s   destime                 fare  \\\n",
       "126  2018-04-27  11:57:36             3,866.46  13:02:02               350.58   \n",
       "127  2018-06-17  07:07:41               532.38   7:16:33                12.28   \n",
       "\n",
       "     date_check  date_double_check  u_type_check  \n",
       "126           0                  0             1  \n",
       "127           0                  0             1  "
      ]
     },
     "execution_count": 3038,
     "metadata": {},
     "output_type": "execute_result"
    }
   ],
   "source": [
    "dirty1['type'] = dirty1.id.apply(uber_type_correct)\n",
    "dirty1[dirty1['u_type_check']==1].head(2)"
   ]
  },
  {
   "cell_type": "markdown",
   "metadata": {},
   "source": [
    "### 5.4 Depature-Travel-Arrival (Semantic Anomalies)"
   ]
  },
  {
   "cell_type": "markdown",
   "metadata": {},
   "source": [
    "#### 5.4.1 Check whether the depature and arrival are reversed but the travel time is correct"
   ]
  },
  {
   "cell_type": "code",
   "execution_count": 3039,
   "metadata": {},
   "outputs": [],
   "source": [
    "reverse_ori_des_id = []\n",
    "for id,oritime,traveltime, destime in dirty1[['id','oritime','traveltime_s', 'destime']].values:\n",
    "    orit = datetime.strptime(destime,'%H:%M:%S')\n",
    "    cal_des = orit+timedelta(seconds=traveltime)\n",
    "    if oritime==cal_des.strftime(\"%-H:%M:%S\"):\n",
    "        reverse_ori_des_id.append(id)"
   ]
  },
  {
   "cell_type": "code",
   "execution_count": 3040,
   "metadata": {},
   "outputs": [
    {
     "data": {
      "text/html": [
       "<div>\n",
       "<style scoped>\n",
       "    .dataframe tbody tr th:only-of-type {\n",
       "        vertical-align: middle;\n",
       "    }\n",
       "\n",
       "    .dataframe tbody tr th {\n",
       "        vertical-align: top;\n",
       "    }\n",
       "\n",
       "    .dataframe thead th {\n",
       "        text-align: right;\n",
       "    }\n",
       "</style>\n",
       "<table border=\"1\" class=\"dataframe\">\n",
       "  <thead>\n",
       "    <tr style=\"text-align: right;\">\n",
       "      <th></th>\n",
       "      <th>id</th>\n",
       "      <th>type</th>\n",
       "      <th>orir</th>\n",
       "      <th>desr</th>\n",
       "      <th>orilat</th>\n",
       "      <th>orilong</th>\n",
       "      <th>deslat</th>\n",
       "      <th>deslong</th>\n",
       "      <th>distance_m</th>\n",
       "      <th>oridate</th>\n",
       "      <th>oritime</th>\n",
       "      <th>traveltime_s</th>\n",
       "      <th>destime</th>\n",
       "      <th>fare</th>\n",
       "      <th>date_check</th>\n",
       "      <th>date_double_check</th>\n",
       "      <th>u_type_check</th>\n",
       "    </tr>\n",
       "  </thead>\n",
       "  <tbody>\n",
       "    <tr>\n",
       "      <th>148</th>\n",
       "      <td>ID3447177840</td>\n",
       "      <td>1</td>\n",
       "      <td>2</td>\n",
       "      <td>5</td>\n",
       "      <td>-37.82</td>\n",
       "      <td>144.94</td>\n",
       "      <td>-37.81</td>\n",
       "      <td>144.94</td>\n",
       "      <td>3,015.00</td>\n",
       "      <td>2018-04-13</td>\n",
       "      <td>4:23:09</td>\n",
       "      <td>715.50</td>\n",
       "      <td>04:11:14</td>\n",
       "      <td>18.18</td>\n",
       "      <td>0</td>\n",
       "      <td>0</td>\n",
       "      <td>0</td>\n",
       "    </tr>\n",
       "    <tr>\n",
       "      <th>151</th>\n",
       "      <td>ID5894253932</td>\n",
       "      <td>2</td>\n",
       "      <td>5</td>\n",
       "      <td>7</td>\n",
       "      <td>-37.81</td>\n",
       "      <td>144.93</td>\n",
       "      <td>-37.86</td>\n",
       "      <td>144.91</td>\n",
       "      <td>11,493.00</td>\n",
       "      <td>2018-07-11</td>\n",
       "      <td>0:59:08</td>\n",
       "      <td>3,656.10</td>\n",
       "      <td>23:58:12</td>\n",
       "      <td>350.59</td>\n",
       "      <td>0</td>\n",
       "      <td>0</td>\n",
       "      <td>0</td>\n",
       "    </tr>\n",
       "  </tbody>\n",
       "</table>\n",
       "</div>"
      ],
      "text/plain": [
       "               id  type  orir  desr               orilat              orilong  \\\n",
       "148  ID3447177840     1     2     5               -37.82               144.94   \n",
       "151  ID5894253932     2     5     7               -37.81               144.93   \n",
       "\n",
       "                  deslat              deslong           distance_m  \\\n",
       "148               -37.81               144.94             3,015.00   \n",
       "151               -37.86               144.91            11,493.00   \n",
       "\n",
       "        oridate  oritime         traveltime_s   destime                 fare  \\\n",
       "148  2018-04-13  4:23:09               715.50  04:11:14                18.18   \n",
       "151  2018-07-11  0:59:08             3,656.10  23:58:12               350.59   \n",
       "\n",
       "     date_check  date_double_check  u_type_check  \n",
       "148           0                  0             0  \n",
       "151           0                  0             0  "
      ]
     },
     "execution_count": 3040,
     "metadata": {},
     "output_type": "execute_result"
    }
   ],
   "source": [
    "dirty1[dirty1.id.isin(reverse_ori_des_id)].head(2)\n",
    "# arrival time is earlier than departure time"
   ]
  },
  {
   "cell_type": "code",
   "execution_count": 3041,
   "metadata": {},
   "outputs": [
    {
     "data": {
      "text/plain": [
       "45"
      ]
     },
     "execution_count": 3041,
     "metadata": {},
     "output_type": "execute_result"
    }
   ],
   "source": [
    "# Add into fixed list \n",
    "fixed_index.extend(dirty1[dirty1.id.isin(reverse_ori_des_id)].index)\n",
    "len(fixed_index)"
   ]
  },
  {
   "cell_type": "code",
   "execution_count": 3042,
   "metadata": {},
   "outputs": [],
   "source": [
    "temp_l = dirty1[dirty1.id.isin(reverse_ori_des_id)][['destime','oritime']].values\n",
    "dirty1.loc[dirty1.id.isin(reverse_ori_des_id), ['oritime','destime']] = temp_l"
   ]
  },
  {
   "cell_type": "code",
   "execution_count": 3043,
   "metadata": {},
   "outputs": [
    {
     "data": {
      "text/html": [
       "<div>\n",
       "<style scoped>\n",
       "    .dataframe tbody tr th:only-of-type {\n",
       "        vertical-align: middle;\n",
       "    }\n",
       "\n",
       "    .dataframe tbody tr th {\n",
       "        vertical-align: top;\n",
       "    }\n",
       "\n",
       "    .dataframe thead th {\n",
       "        text-align: right;\n",
       "    }\n",
       "</style>\n",
       "<table border=\"1\" class=\"dataframe\">\n",
       "  <thead>\n",
       "    <tr style=\"text-align: right;\">\n",
       "      <th></th>\n",
       "      <th>id</th>\n",
       "      <th>type</th>\n",
       "      <th>orir</th>\n",
       "      <th>desr</th>\n",
       "      <th>orilat</th>\n",
       "      <th>orilong</th>\n",
       "      <th>deslat</th>\n",
       "      <th>deslong</th>\n",
       "      <th>distance_m</th>\n",
       "      <th>oridate</th>\n",
       "      <th>oritime</th>\n",
       "      <th>traveltime_s</th>\n",
       "      <th>destime</th>\n",
       "      <th>fare</th>\n",
       "      <th>date_check</th>\n",
       "      <th>date_double_check</th>\n",
       "      <th>u_type_check</th>\n",
       "    </tr>\n",
       "  </thead>\n",
       "  <tbody>\n",
       "    <tr>\n",
       "      <th>148</th>\n",
       "      <td>ID3447177840</td>\n",
       "      <td>1</td>\n",
       "      <td>2</td>\n",
       "      <td>5</td>\n",
       "      <td>-37.82</td>\n",
       "      <td>144.94</td>\n",
       "      <td>-37.81</td>\n",
       "      <td>144.94</td>\n",
       "      <td>3,015.00</td>\n",
       "      <td>2018-04-13</td>\n",
       "      <td>04:11:14</td>\n",
       "      <td>715.50</td>\n",
       "      <td>4:23:09</td>\n",
       "      <td>18.18</td>\n",
       "      <td>0</td>\n",
       "      <td>0</td>\n",
       "      <td>0</td>\n",
       "    </tr>\n",
       "    <tr>\n",
       "      <th>151</th>\n",
       "      <td>ID5894253932</td>\n",
       "      <td>2</td>\n",
       "      <td>5</td>\n",
       "      <td>7</td>\n",
       "      <td>-37.81</td>\n",
       "      <td>144.93</td>\n",
       "      <td>-37.86</td>\n",
       "      <td>144.91</td>\n",
       "      <td>11,493.00</td>\n",
       "      <td>2018-07-11</td>\n",
       "      <td>23:58:12</td>\n",
       "      <td>3,656.10</td>\n",
       "      <td>0:59:08</td>\n",
       "      <td>350.59</td>\n",
       "      <td>0</td>\n",
       "      <td>0</td>\n",
       "      <td>0</td>\n",
       "    </tr>\n",
       "  </tbody>\n",
       "</table>\n",
       "</div>"
      ],
      "text/plain": [
       "               id  type  orir  desr               orilat              orilong  \\\n",
       "148  ID3447177840     1     2     5               -37.82               144.94   \n",
       "151  ID5894253932     2     5     7               -37.81               144.93   \n",
       "\n",
       "                  deslat              deslong           distance_m  \\\n",
       "148               -37.81               144.94             3,015.00   \n",
       "151               -37.86               144.91            11,493.00   \n",
       "\n",
       "        oridate   oritime         traveltime_s  destime                 fare  \\\n",
       "148  2018-04-13  04:11:14               715.50  4:23:09                18.18   \n",
       "151  2018-07-11  23:58:12             3,656.10  0:59:08               350.59   \n",
       "\n",
       "     date_check  date_double_check  u_type_check  \n",
       "148           0                  0             0  \n",
       "151           0                  0             0  "
      ]
     },
     "execution_count": 3043,
     "metadata": {},
     "output_type": "execute_result"
    }
   ],
   "source": [
    "# check whether fixed\n",
    "dirty1[dirty1.id.isin(reverse_ori_des_id)].head(2)"
   ]
  },
  {
   "cell_type": "markdown",
   "metadata": {},
   "source": [
    "#### 5.4.2 Calculate Shortest distance and travel time generated by multiple shortest path"
   ]
  },
  {
   "cell_type": "code",
   "execution_count": 3044,
   "metadata": {},
   "outputs": [],
   "source": [
    "edges = pd.read_csv('dataset/edges.csv',float_precision = 'high')\n",
    "edges['time'] = edges['distance(m)']/1000/edges['speed(km/h)']*3600\n",
    "edges.columns = ['i', 'u', 'v', 'd', 'street type', 'speed(km/h)','t']\n",
    "edges = edges.drop(['street type','speed(km/h)'], axis=1)\n",
    "Graph = nx.from_pandas_edgelist(edges,'u','v',['d'])\n",
    "nodes = pd.read_csv('dataset/nodes.csv',float_precision = 'high')"
   ]
  },
  {
   "cell_type": "code",
   "execution_count": 3045,
   "metadata": {},
   "outputs": [],
   "source": [
    "# define a function to choose the right time in the edge file\n",
    "def TimeChoose(i1,d1,t1,i2,d2,t2):\n",
    "    if not np.isnan(i1) and not np.isnan(i2):\n",
    "        if i1<i2:\n",
    "            return [d1,t1]\n",
    "        else:\n",
    "            return [d2,t2]\n",
    "    if np.isnan(i1) and not np.isnan(i2):\n",
    "        return [d2,t2]\n",
    "    else:\n",
    "        return [d1,t1]"
   ]
  },
  {
   "cell_type": "code",
   "execution_count": 3046,
   "metadata": {},
   "outputs": [],
   "source": [
    "# define a function to calculate the distance and generate travel time list from multiple shortest paths\n",
    "def DistTime(coord_list,Graph,nodefile,edgefile):\n",
    "    dist_all = []\n",
    "    time_all = []\n",
    "    for i in range(len(coord_list)):\n",
    "        orilat,orilong,deslat,deslong = coord_list[i]\n",
    "        oriid = nodefile[(nodefile['lat']==orilat) & (nodefile['lon']==orilong)].iloc[0,0]\n",
    "        desid = nodefile[(nodefile['lat']==deslat) & (nodefile['lon']==deslong)].iloc[0,0]\n",
    "        paths = nx.all_shortest_paths(Graph,source =oriid,target = desid,weight = 'd',method = 'dijkstra')\n",
    "        time_list = []\n",
    "        for path in paths:\n",
    "            ori_nodes = [path[i] for i in range(len(path)-1)]\n",
    "            des_nodes = [path[j+1] for j in range(len(path)-1)]\n",
    "            df = pd.DataFrame({'ori':ori_nodes,'des':des_nodes})\n",
    "            df_merge = pd.merge(df,edgefile,how = 'left',left_on = ['ori','des'],right_on = ['u','v']).drop(['u','v'], axis=1)\n",
    "            df_merge1 = pd.merge(df_merge,edgefile,how = 'left',left_on = ['ori','des'],right_on = ['v','u']).drop(['u','v'], axis=1)\n",
    "            df_merge1['dist'] = df_merge1.apply(lambda row: TimeChoose\\\n",
    "                              (row['i_x'],row['d_x'],row['t_x'],row['i_y'],row['d_y'],row['t_y'])[0],axis=1)\n",
    "            df_merge1['time'] = df_merge1.apply(lambda row: TimeChoose\\\n",
    "                              (row['i_x'],row['d_x'],row['t_x'],row['i_y'],row['d_y'],row['t_y'])[1],axis=1)\n",
    "            dist = sum(df_merge1['dist'])\n",
    "            time = round(sum(df_merge1['time']),2)\n",
    "            time_list.append(time)\n",
    "        dist_all.append(dist)\n",
    "        time_all.append(time_list)\n",
    "    return dist_all,time_all"
   ]
  },
  {
   "cell_type": "code",
   "execution_count": 3047,
   "metadata": {},
   "outputs": [],
   "source": [
    "coord_list = dirty1[['orilat','orilong','deslat','deslong']].values"
   ]
  },
  {
   "cell_type": "code",
   "execution_count": 3048,
   "metadata": {},
   "outputs": [],
   "source": [
    "#dist_all,time_all = DistTime(coord_list,Graph,nodes,edges)"
   ]
  },
  {
   "cell_type": "code",
   "execution_count": 3049,
   "metadata": {},
   "outputs": [],
   "source": [
    "dirty1['cal_dist'] = dist_all"
   ]
  },
  {
   "cell_type": "code",
   "execution_count": 2969,
   "metadata": {},
   "outputs": [
    {
     "data": {
      "text/html": [
       "<div>\n",
       "<style scoped>\n",
       "    .dataframe tbody tr th:only-of-type {\n",
       "        vertical-align: middle;\n",
       "    }\n",
       "\n",
       "    .dataframe tbody tr th {\n",
       "        vertical-align: top;\n",
       "    }\n",
       "\n",
       "    .dataframe thead th {\n",
       "        text-align: right;\n",
       "    }\n",
       "</style>\n",
       "<table border=\"1\" class=\"dataframe\">\n",
       "  <thead>\n",
       "    <tr style=\"text-align: right;\">\n",
       "      <th></th>\n",
       "      <th>id</th>\n",
       "      <th>type</th>\n",
       "      <th>orir</th>\n",
       "      <th>desr</th>\n",
       "      <th>orilat</th>\n",
       "      <th>orilong</th>\n",
       "      <th>deslat</th>\n",
       "      <th>deslong</th>\n",
       "      <th>distance_m</th>\n",
       "      <th>oridate</th>\n",
       "      <th>oritime</th>\n",
       "      <th>traveltime_s</th>\n",
       "      <th>destime</th>\n",
       "      <th>fare</th>\n",
       "      <th>date_check</th>\n",
       "      <th>date_double_check</th>\n",
       "      <th>u_type_check</th>\n",
       "      <th>cal_dist</th>\n",
       "    </tr>\n",
       "  </thead>\n",
       "  <tbody>\n",
       "    <tr>\n",
       "      <th>0</th>\n",
       "      <td>ID1917207779</td>\n",
       "      <td>0</td>\n",
       "      <td>2</td>\n",
       "      <td>3</td>\n",
       "      <td>-37.82</td>\n",
       "      <td>144.94</td>\n",
       "      <td>-37.82</td>\n",
       "      <td>144.97</td>\n",
       "      <td>3,448.20</td>\n",
       "      <td>2018-02-22</td>\n",
       "      <td>14:35:04</td>\n",
       "      <td>915.18</td>\n",
       "      <td>14:50:19</td>\n",
       "      <td>11.71</td>\n",
       "      <td>0</td>\n",
       "      <td>0</td>\n",
       "      <td>0</td>\n",
       "      <td>3,444.00</td>\n",
       "    </tr>\n",
       "    <tr>\n",
       "      <th>1</th>\n",
       "      <td>ID3480944562</td>\n",
       "      <td>1</td>\n",
       "      <td>1</td>\n",
       "      <td>6</td>\n",
       "      <td>-37.82</td>\n",
       "      <td>144.96</td>\n",
       "      <td>-37.77</td>\n",
       "      <td>144.98</td>\n",
       "      <td>5,948.00</td>\n",
       "      <td>2018-05-11</td>\n",
       "      <td>04:16:11</td>\n",
       "      <td>1,309.08</td>\n",
       "      <td>4:38:00</td>\n",
       "      <td>20.11</td>\n",
       "      <td>0</td>\n",
       "      <td>0</td>\n",
       "      <td>0</td>\n",
       "      <td>5,948.00</td>\n",
       "    </tr>\n",
       "  </tbody>\n",
       "</table>\n",
       "</div>"
      ],
      "text/plain": [
       "             id  type  orir  desr               orilat              orilong  \\\n",
       "0  ID1917207779     0     2     3               -37.82               144.94   \n",
       "1  ID3480944562     1     1     6               -37.82               144.96   \n",
       "\n",
       "                deslat              deslong           distance_m     oridate  \\\n",
       "0               -37.82               144.97             3,448.20  2018-02-22   \n",
       "1               -37.77               144.98             5,948.00  2018-05-11   \n",
       "\n",
       "    oritime         traveltime_s   destime                 fare  date_check  \\\n",
       "0  14:35:04               915.18  14:50:19                11.71           0   \n",
       "1  04:16:11             1,309.08   4:38:00                20.11           0   \n",
       "\n",
       "   date_double_check  u_type_check             cal_dist  \n",
       "0                  0             0             3,444.00  \n",
       "1                  0             0             5,948.00  "
      ]
     },
     "execution_count": 2969,
     "metadata": {},
     "output_type": "execute_result"
    }
   ],
   "source": [
    "dirty1.head(2)"
   ]
  },
  {
   "cell_type": "markdown",
   "metadata": {},
   "source": [
    "#### 5.4.3 Find the inconsistent distance error"
   ]
  },
  {
   "cell_type": "code",
   "execution_count": 2970,
   "metadata": {},
   "outputs": [],
   "source": [
    "dirty1['dist_check'] = dirty1.apply(lambda row: 1 if row['cal_dist']!= row['distance_m'] else 0 ,axis=1)"
   ]
  },
  {
   "cell_type": "code",
   "execution_count": 2971,
   "metadata": {},
   "outputs": [
    {
     "data": {
      "text/html": [
       "<div>\n",
       "<style scoped>\n",
       "    .dataframe tbody tr th:only-of-type {\n",
       "        vertical-align: middle;\n",
       "    }\n",
       "\n",
       "    .dataframe tbody tr th {\n",
       "        vertical-align: top;\n",
       "    }\n",
       "\n",
       "    .dataframe thead th {\n",
       "        text-align: right;\n",
       "    }\n",
       "</style>\n",
       "<table border=\"1\" class=\"dataframe\">\n",
       "  <thead>\n",
       "    <tr style=\"text-align: right;\">\n",
       "      <th></th>\n",
       "      <th>id</th>\n",
       "      <th>type</th>\n",
       "      <th>orir</th>\n",
       "      <th>desr</th>\n",
       "      <th>orilat</th>\n",
       "      <th>orilong</th>\n",
       "      <th>deslat</th>\n",
       "      <th>deslong</th>\n",
       "      <th>distance_m</th>\n",
       "      <th>oridate</th>\n",
       "      <th>oritime</th>\n",
       "      <th>traveltime_s</th>\n",
       "      <th>destime</th>\n",
       "      <th>fare</th>\n",
       "      <th>date_check</th>\n",
       "      <th>date_double_check</th>\n",
       "      <th>u_type_check</th>\n",
       "      <th>cal_dist</th>\n",
       "      <th>dist_check</th>\n",
       "    </tr>\n",
       "  </thead>\n",
       "  <tbody>\n",
       "    <tr>\n",
       "      <th>0</th>\n",
       "      <td>ID1917207779</td>\n",
       "      <td>0</td>\n",
       "      <td>2</td>\n",
       "      <td>3</td>\n",
       "      <td>-37.82</td>\n",
       "      <td>144.94</td>\n",
       "      <td>-37.82</td>\n",
       "      <td>144.97</td>\n",
       "      <td>3,448.20</td>\n",
       "      <td>2018-02-22</td>\n",
       "      <td>14:35:04</td>\n",
       "      <td>915.18</td>\n",
       "      <td>14:50:19</td>\n",
       "      <td>11.71</td>\n",
       "      <td>0</td>\n",
       "      <td>0</td>\n",
       "      <td>0</td>\n",
       "      <td>3,444.00</td>\n",
       "      <td>1</td>\n",
       "    </tr>\n",
       "    <tr>\n",
       "      <th>2</th>\n",
       "      <td>ID3273049837</td>\n",
       "      <td>1</td>\n",
       "      <td>9</td>\n",
       "      <td>2</td>\n",
       "      <td>-38.11</td>\n",
       "      <td>144.65</td>\n",
       "      <td>-37.81</td>\n",
       "      <td>144.93</td>\n",
       "      <td>43,745.60</td>\n",
       "      <td>2018-04-11</td>\n",
       "      <td>04:57:41</td>\n",
       "      <td>10,491.66</td>\n",
       "      <td>7:52:32</td>\n",
       "      <td>60.75</td>\n",
       "      <td>0</td>\n",
       "      <td>0</td>\n",
       "      <td>0</td>\n",
       "      <td>43,741.00</td>\n",
       "      <td>1</td>\n",
       "    </tr>\n",
       "  </tbody>\n",
       "</table>\n",
       "</div>"
      ],
      "text/plain": [
       "             id  type  orir  desr               orilat              orilong  \\\n",
       "0  ID1917207779     0     2     3               -37.82               144.94   \n",
       "2  ID3273049837     1     9     2               -38.11               144.65   \n",
       "\n",
       "                deslat              deslong           distance_m     oridate  \\\n",
       "0               -37.82               144.97             3,448.20  2018-02-22   \n",
       "2               -37.81               144.93            43,745.60  2018-04-11   \n",
       "\n",
       "    oritime         traveltime_s   destime                 fare  date_check  \\\n",
       "0  14:35:04               915.18  14:50:19                11.71           0   \n",
       "2  04:57:41            10,491.66   7:52:32                60.75           0   \n",
       "\n",
       "   date_double_check  u_type_check             cal_dist  dist_check  \n",
       "0                  0             0             3,444.00           1  \n",
       "2                  0             0            43,741.00           1  "
      ]
     },
     "execution_count": 2971,
     "metadata": {},
     "output_type": "execute_result"
    }
   ],
   "source": [
    "dirty1[dirty1.dist_check==1].head(2)"
   ]
  },
  {
   "cell_type": "code",
   "execution_count": 2972,
   "metadata": {},
   "outputs": [
    {
     "name": "stdout",
     "output_type": "stream",
     "text": [
      "# of error fixed before:45\n",
      "# of error fixed after correcting the distance:50\n"
     ]
    }
   ],
   "source": [
    "print(f'# of error fixed before:{len(fixed_index)}')\n",
    "fixed_index.extend(dirty1[dirty1.dist_check==1].index)\n",
    "print(f'# of error fixed after correcting the distance:{len(fixed_index)}')"
   ]
  },
  {
   "cell_type": "code",
   "execution_count": 2973,
   "metadata": {},
   "outputs": [],
   "source": [
    "# use the calculated distance\n",
    "dirty1 = dirty1.rename(columns = {'distance_m':'ori_distance_m'})\n",
    "dirty1 = dirty1.rename(columns = {'cal_dist':'distance_m'})"
   ]
  },
  {
   "cell_type": "markdown",
   "metadata": {},
   "source": [
    "#### 5.4.4 Check whether the given travel time is in the list generated by multiple shortest paths"
   ]
  },
  {
   "cell_type": "code",
   "execution_count": 2974,
   "metadata": {},
   "outputs": [
    {
     "data": {
      "text/html": [
       "<div>\n",
       "<style scoped>\n",
       "    .dataframe tbody tr th:only-of-type {\n",
       "        vertical-align: middle;\n",
       "    }\n",
       "\n",
       "    .dataframe tbody tr th {\n",
       "        vertical-align: top;\n",
       "    }\n",
       "\n",
       "    .dataframe thead th {\n",
       "        text-align: right;\n",
       "    }\n",
       "</style>\n",
       "<table border=\"1\" class=\"dataframe\">\n",
       "  <thead>\n",
       "    <tr style=\"text-align: right;\">\n",
       "      <th></th>\n",
       "      <th>id</th>\n",
       "      <th>type</th>\n",
       "      <th>orir</th>\n",
       "      <th>desr</th>\n",
       "      <th>orilat</th>\n",
       "      <th>orilong</th>\n",
       "      <th>deslat</th>\n",
       "      <th>deslong</th>\n",
       "      <th>ori_distance_m</th>\n",
       "      <th>oridate</th>\n",
       "      <th>...</th>\n",
       "      <th>traveltime_s</th>\n",
       "      <th>destime</th>\n",
       "      <th>fare</th>\n",
       "      <th>date_check</th>\n",
       "      <th>date_double_check</th>\n",
       "      <th>u_type_check</th>\n",
       "      <th>distance_m</th>\n",
       "      <th>dist_check</th>\n",
       "      <th>cal_tt</th>\n",
       "      <th>tt_check</th>\n",
       "    </tr>\n",
       "  </thead>\n",
       "  <tbody>\n",
       "    <tr>\n",
       "      <th>84</th>\n",
       "      <td>ID1693793909</td>\n",
       "      <td>0</td>\n",
       "      <td>6</td>\n",
       "      <td>2</td>\n",
       "      <td>-37.79</td>\n",
       "      <td>144.98</td>\n",
       "      <td>-37.82</td>\n",
       "      <td>144.95</td>\n",
       "      <td>5,260.00</td>\n",
       "      <td>2018-06-15</td>\n",
       "      <td>...</td>\n",
       "      <td>1,330.64</td>\n",
       "      <td>13:39:38</td>\n",
       "      <td>7.41</td>\n",
       "      <td>0</td>\n",
       "      <td>0</td>\n",
       "      <td>0</td>\n",
       "      <td>5,260.00</td>\n",
       "      <td>0</td>\n",
       "      <td>[1244.64, 1249.8]</td>\n",
       "      <td>1</td>\n",
       "    </tr>\n",
       "    <tr>\n",
       "      <th>89</th>\n",
       "      <td>ID1391376684</td>\n",
       "      <td>0</td>\n",
       "      <td>6</td>\n",
       "      <td>3</td>\n",
       "      <td>-37.79</td>\n",
       "      <td>144.99</td>\n",
       "      <td>-37.82</td>\n",
       "      <td>144.99</td>\n",
       "      <td>3,338.00</td>\n",
       "      <td>2018-04-06</td>\n",
       "      <td>...</td>\n",
       "      <td>827.96</td>\n",
       "      <td>4:49:15</td>\n",
       "      <td>10.67</td>\n",
       "      <td>0</td>\n",
       "      <td>0</td>\n",
       "      <td>0</td>\n",
       "      <td>3,338.00</td>\n",
       "      <td>0</td>\n",
       "      <td>[847.74, 841.62, 836.4, 829.44, 807.96, 801.0,...</td>\n",
       "      <td>1</td>\n",
       "    </tr>\n",
       "  </tbody>\n",
       "</table>\n",
       "<p>2 rows × 21 columns</p>\n",
       "</div>"
      ],
      "text/plain": [
       "              id  type  orir  desr               orilat              orilong  \\\n",
       "84  ID1693793909     0     6     2               -37.79               144.98   \n",
       "89  ID1391376684     0     6     3               -37.79               144.99   \n",
       "\n",
       "                 deslat              deslong       ori_distance_m     oridate  \\\n",
       "84               -37.82               144.95             5,260.00  2018-06-15   \n",
       "89               -37.82               144.99             3,338.00  2018-04-06   \n",
       "\n",
       "    ...         traveltime_s   destime                 fare  date_check  \\\n",
       "84  ...             1,330.64  13:39:38                 7.41           0   \n",
       "89  ...               827.96   4:49:15                10.67           0   \n",
       "\n",
       "    date_double_check  u_type_check           distance_m  dist_check  \\\n",
       "84                  0             0             5,260.00           0   \n",
       "89                  0             0             3,338.00           0   \n",
       "\n",
       "                                               cal_tt tt_check  \n",
       "84                                  [1244.64, 1249.8]        1  \n",
       "89  [847.74, 841.62, 836.4, 829.44, 807.96, 801.0,...        1  \n",
       "\n",
       "[2 rows x 21 columns]"
      ]
     },
     "execution_count": 2974,
     "metadata": {},
     "output_type": "execute_result"
    }
   ],
   "source": [
    "dirty1['cal_tt'] = time_all\n",
    "dirty1['tt_check'] = dirty1.apply(lambda row: 1 if round(row['traveltime_s'],2) not in row['cal_tt'] else 0 ,axis=1)\n",
    "dirty1[dirty1.tt_check==1].head(2)"
   ]
  },
  {
   "cell_type": "code",
   "execution_count": 2975,
   "metadata": {},
   "outputs": [
    {
     "name": "stdout",
     "output_type": "stream",
     "text": [
      "# of error fixed before:50\n",
      "# of error fixed after correcting the travel time: 59\n"
     ]
    }
   ],
   "source": [
    "# Add indexes to the fixed list before actually fix it\n",
    "err_tt = dirty1[dirty1.tt_check==1].index\n",
    "print(f'# of error fixed before:{len(fixed_index)}')\n",
    "fixed_index.extend(err_tt)\n",
    "print(f'# of error fixed after correcting the travel time: {len(fixed_index)}')"
   ]
  },
  {
   "cell_type": "code",
   "execution_count": 2976,
   "metadata": {},
   "outputs": [
    {
     "name": "stdout",
     "output_type": "stream",
     "text": [
      "[1244.64, 1249.8]\n",
      "[847.74, 841.62, 836.4, 829.44, 807.96, 801.0, 798.84, 798.48, 798.6]\n",
      "[2876.22, 2877.0, 2875.56, 2876.34]\n",
      "[12681.06]\n",
      "[691.14]\n",
      "[712.56, 713.28]\n",
      "[10591.5]\n",
      "[10938.54, 10930.38, 10939.02, 10936.2, 10928.04, 10936.68]\n",
      "[2166.84, 2189.28, 2196.72]\n"
     ]
    }
   ],
   "source": [
    "# check the corresponding time list\n",
    "for i in range(9):\n",
    "    print(dirty1[dirty1.tt_check==1].iloc[i,-2])"
   ]
  },
  {
   "cell_type": "code",
   "execution_count": 2977,
   "metadata": {},
   "outputs": [
    {
     "data": {
      "text/plain": [
       "[1330.64,\n",
       " 827.9600000000006,\n",
       " 2887.2200000000003,\n",
       " 12685.060000000003,\n",
       " 715.14,\n",
       " 781.56,\n",
       " 10585.5,\n",
       " 11022.54,\n",
       " 2226.84]"
      ]
     },
     "execution_count": 2977,
     "metadata": {},
     "output_type": "execute_result"
    }
   ],
   "source": [
    "# check the travel time error\n",
    "dirty1[dirty1.tt_check==1]['traveltime_s'].tolist()"
   ]
  },
  {
   "cell_type": "code",
   "execution_count": 2978,
   "metadata": {},
   "outputs": [],
   "source": [
    "# define a function to calculate travel time\n",
    "def cal_traveltime(oritime,destime):\n",
    "    orit = datetime.strptime(oritime,'%H:%M:%S')\n",
    "    dest = datetime.strptime(destime,'%H:%M:%S')\n",
    "    delta = (dest-orit)\n",
    "    return delta.seconds"
   ]
  },
  {
   "cell_type": "code",
   "execution_count": 2979,
   "metadata": {},
   "outputs": [
    {
     "data": {
      "text/plain": [
       "84                1,244.00\n",
       "89                  807.00\n",
       "90                2,876.00\n",
       "91               12,681.00\n",
       "93                  691.00\n",
       "95                  712.00\n",
       "97               10,591.00\n",
       "98               10,938.00\n",
       "100               2,166.00\n",
       "Name: traveltime_s, dtype: float64"
      ]
     },
     "execution_count": 2979,
     "metadata": {},
     "output_type": "execute_result"
    }
   ],
   "source": [
    "temp_tt = dirty1[dirty1.tt_check==1].apply(lambda row: cal_traveltime(row['oritime'],row['destime']),axis = 1)\n",
    "dirty1.loc[dirty1.tt_check==1,'traveltime_s'] = list(temp_tt)\n",
    "dirty1[dirty1.tt_check==1]['traveltime_s']"
   ]
  },
  {
   "cell_type": "markdown",
   "metadata": {},
   "source": [
    "#### 5.4.5 Re-check the relations between three columns, fix the arrival time if wrong"
   ]
  },
  {
   "cell_type": "code",
   "execution_count": 2980,
   "metadata": {},
   "outputs": [],
   "source": [
    "def travel_time_validator(oritime,traveltime,destime):\n",
    "    orit = datetime.strptime(oritime,'%H:%M:%S')\n",
    "    cal_des = orit+timedelta(seconds=traveltime)\n",
    "    if cal_des.strftime(\"%-H:%M:%S\")!=destime:\n",
    "        return 1\n",
    "    else:\n",
    "        return 0"
   ]
  },
  {
   "cell_type": "code",
   "execution_count": 2981,
   "metadata": {},
   "outputs": [],
   "source": [
    "def cal_destime(oritime,traveltime):\n",
    "    orit = datetime.strptime(oritime,'%H:%M:%S')\n",
    "    cal_des = orit+timedelta(seconds=traveltime)\n",
    "    return cal_des.strftime(\"%-H:%M:%S\")"
   ]
  },
  {
   "cell_type": "code",
   "execution_count": 2982,
   "metadata": {},
   "outputs": [
    {
     "data": {
      "text/html": [
       "<div>\n",
       "<style scoped>\n",
       "    .dataframe tbody tr th:only-of-type {\n",
       "        vertical-align: middle;\n",
       "    }\n",
       "\n",
       "    .dataframe tbody tr th {\n",
       "        vertical-align: top;\n",
       "    }\n",
       "\n",
       "    .dataframe thead th {\n",
       "        text-align: right;\n",
       "    }\n",
       "</style>\n",
       "<table border=\"1\" class=\"dataframe\">\n",
       "  <thead>\n",
       "    <tr style=\"text-align: right;\">\n",
       "      <th></th>\n",
       "      <th>oritime</th>\n",
       "      <th>destime</th>\n",
       "      <th>traveltime_s</th>\n",
       "    </tr>\n",
       "  </thead>\n",
       "  <tbody>\n",
       "    <tr>\n",
       "      <th>103</th>\n",
       "      <td>14:01:35</td>\n",
       "      <td>15:28:00</td>\n",
       "      <td>2,635.20</td>\n",
       "    </tr>\n",
       "    <tr>\n",
       "      <th>105</th>\n",
       "      <td>07:50:23</td>\n",
       "      <td>10:55:38</td>\n",
       "      <td>11,226.96</td>\n",
       "    </tr>\n",
       "  </tbody>\n",
       "</table>\n",
       "</div>"
      ],
      "text/plain": [
       "      oritime   destime         traveltime_s\n",
       "103  14:01:35  15:28:00             2,635.20\n",
       "105  07:50:23  10:55:38            11,226.96"
      ]
     },
     "execution_count": 2982,
     "metadata": {},
     "output_type": "execute_result"
    }
   ],
   "source": [
    "dirty1['des_time_check'] = dirty1.apply(lambda row: \\\n",
    "                           travel_time_validator(row['oritime'],row['traveltime_s'],row['destime']),axis=1)\n",
    "dirty1[dirty1['des_time_check']==1][['oritime','destime','traveltime_s']].head(2)"
   ]
  },
  {
   "cell_type": "code",
   "execution_count": 2983,
   "metadata": {},
   "outputs": [],
   "source": [
    "dirty1.loc[dirty1['des_time_check']==1,'destime'] = dirty1[dirty1.des_time_check==1]\\\n",
    "                    .apply(lambda row: cal_destime(row['oritime'],row['traveltime_s']),axis = 1)"
   ]
  },
  {
   "cell_type": "code",
   "execution_count": 2984,
   "metadata": {},
   "outputs": [
    {
     "name": "stdout",
     "output_type": "stream",
     "text": [
      "# of error fixed before:59\n",
      "# of error fixed after correcting the arrival time: 69\n"
     ]
    }
   ],
   "source": [
    "print(f'# of error fixed before:{len(fixed_index)}')\n",
    "fixed_index.extend(dirty1[dirty1['des_time_check']==1].index)\n",
    "print(f'# of error fixed after correcting the arrival time: {len(fixed_index)}')"
   ]
  },
  {
   "cell_type": "code",
   "execution_count": 2985,
   "metadata": {},
   "outputs": [],
   "source": [
    "# save the cleaned data so far\n",
    "clean_d = dirty1.copy()"
   ]
  },
  {
   "cell_type": "markdown",
   "metadata": {},
   "source": [
    "### 5.5 Region Clustering (Semantic anomalies) \n",
    "> In order to correctly assign the coordinates to right region we will implement the following sub-tasks on the clean data: <br>\n",
    "    1. Find the max distance between two points within same region.\n",
    "    2. Calculate the radius and locate the center.\n",
    "    3. Assign a region when the distance from the point to center of a region is less than the radius."
   ]
  },
  {
   "cell_type": "code",
   "execution_count": 2986,
   "metadata": {},
   "outputs": [],
   "source": [
    "# define the function to calculate distance between two point on the earth\n",
    "from math import radians, cos, sin, asin, sqrt\n",
    "def haversine1(x1,x2):\n",
    "    lat1,lon1,lat2,lon2 = x1[0],x1[1],x2[0],x2[1]\n",
    "    \"\"\"\n",
    "    Calculate the great circle distance between two points \n",
    "    on the earth (specified in decimal degrees)\n",
    "    \"\"\"\n",
    "    # convert decimal degrees to radians \n",
    "    lon1, lat1, lon2, lat2 = map(radians, [lon1, lat1, lon2, lat2])\n",
    "    # haversine formula \n",
    "    dlon = lon2 - lon1 \n",
    "    dlat = lat2 - lat1 \n",
    "    a = sin(dlat/2)**2 + cos(lat1) * cos(lat2) * sin(dlon/2)**2\n",
    "    c = 2 * asin(sqrt(a)) \n",
    "    # Radius of earth in kilometers is 6378\n",
    "    km = 6378* c\n",
    "    return km"
   ]
  },
  {
   "cell_type": "code",
   "execution_count": 2987,
   "metadata": {},
   "outputs": [],
   "source": [
    "# define a function for reformating data for region modelling\n",
    "def lat_long_data_generate(file):\n",
    "    file.columns = ['id', 'type', 'orir', 'desr','orilat', 'orilong', 'deslat','deslong', 'distance_m', 'oridate',\n",
    "           'oritime', 'traveltime_s', 'destime', 'fare']\n",
    "\n",
    "    file_ori = file[['id','orilat', 'orilong','orir']].copy()\n",
    "    file_ori.columns = ['id','lat', 'long','region']\n",
    "\n",
    "    file_des = file[['id','deslat', 'deslong','desr']].copy()\n",
    "    file_des.columns = ['id','lat', 'long','region']\n",
    "\n",
    "    file_lat_long = pd.concat([file_ori,file_des],keys=['ori', 'des'])\n",
    "    print(f'len of file_lat_long: {len(file_lat_long)}')\n",
    "    return file_lat_long"
   ]
  },
  {
   "cell_type": "code",
   "execution_count": 2988,
   "metadata": {},
   "outputs": [],
   "source": [
    "# define a function to locate the center of two points on the earth\n",
    "def midpoint(longest_start,longest_end):\n",
    "#Convert to radians\n",
    "    lat1 = math.radians(longest_start[0])\n",
    "    lon1 = math.radians(longest_start[1])\n",
    "    lat2 = math.radians(longest_end[0])\n",
    "    lon2 = math.radians(longest_end[1])\n",
    "\n",
    "    bx = math.cos(lat2) * math.cos(lon2 - lon1)\n",
    "    by = math.cos(lat2) * math.sin(lon2 - lon1)\n",
    "    lat3 = math.atan2(math.sin(lat1) + math.sin(lat2), \\\n",
    "           math.sqrt((math.cos(lat1) + bx) * (math.cos(lat1) \\\n",
    "           + bx) + by**2))\n",
    "    lon3 = lon1 + math.atan2(by, math.cos(lat1) + bx)\n",
    "    # return the coordinates of the center\n",
    "    return [round(math.degrees(lat3), 6), round(math.degrees(lon3), 6)]"
   ]
  },
  {
   "cell_type": "code",
   "execution_count": 2989,
   "metadata": {},
   "outputs": [],
   "source": [
    "# function to calculate the longest distance within one particular region\n",
    "def longest_dist_byregion(lat_long_data):\n",
    "    longest_dist_each_region = []\n",
    "    for r in range(9):\n",
    "        data = lat_long_data[lat_long_data.region==r+1]\n",
    "        dist_record_all = []\n",
    "        for i in range(len(data)):\n",
    "            start = data.iloc[i,1:3].tolist()\n",
    "            for j in range(i+1,len(data)):\n",
    "                end = data.iloc[j,1:3].tolist()\n",
    "                dist_record = [start,end,haversine1(start,end)]\n",
    "                dist_record_all.append(dist_record)\n",
    "        max_arc = max(dist_record_all, key=lambda x: x[2])\n",
    "        max_arc_len = max_arc[2]\n",
    "        center = midpoint(max_arc[0],max_arc[1])\n",
    "        longest_dist_each_region.append([r+1,max_arc_len,center])\n",
    "    return longest_dist_each_region"
   ]
  },
  {
   "cell_type": "code",
   "execution_count": 2990,
   "metadata": {},
   "outputs": [
    {
     "name": "stdout",
     "output_type": "stream",
     "text": [
      "len of file_lat_long: 190\n"
     ]
    }
   ],
   "source": [
    "ms = pd.read_csv('dataset/missing_value.csv')\n",
    "ms = ms.rename(columns = {'Unnamed: 0':'id'})\n",
    "out = pd.read_csv('dataset/outliers.csv').iloc[:,1:]\n",
    "out = out.rename(columns = {'Unnamed: 0.1':'id'})\n",
    "ms_out = pd.concat([ms,out])\n",
    "ms_out_lat_long = lat_long_data_generate(ms)\n",
    "diameter_and_center = longest_dist_byregion(ms_out_lat_long)"
   ]
  },
  {
   "cell_type": "code",
   "execution_count": 2991,
   "metadata": {},
   "outputs": [
    {
     "data": {
      "text/plain": [
       "[[1, 3.20610863502363, [-37.810701, 144.955827]],\n",
       " [2, 1.8998031568021836, [-37.8218, 144.938833]],\n",
       " [3, 3.6031280003059623, [-37.825707, 144.985212]],\n",
       " [4, 2.5843252020389844, [-37.806723, 145.002657]],\n",
       " [5, 2.479054911363085, [-37.805334, 144.932254]],\n",
       " [6, 1.9035273964439903, [-37.78231, 144.98472]],\n",
       " [7, 0.0, [-37.861835, 144.905716]],\n",
       " [8, 1.989814412893548, [-37.811519, 145.036543]],\n",
       " [9, 0.0, [-38.110916, 144.654173]]]"
      ]
     },
     "execution_count": 2991,
     "metadata": {},
     "output_type": "execute_result"
    }
   ],
   "source": [
    "# the diameter and center coordinates for each region\n",
    "diameter_and_center"
   ]
  },
  {
   "cell_type": "code",
   "execution_count": 2992,
   "metadata": {},
   "outputs": [
    {
     "name": "stdout",
     "output_type": "stream",
     "text": [
      "3 ID5397582784 [-37.810638899999994, 145.0006749]\n",
      "3 ID1571503094 [-37.816519799999995, 145.0049966]\n"
     ]
    }
   ],
   "source": [
    "# double check whether this method works on all the points we have\n",
    "# only two points (out of 190) are incorrectly assigned unter this method\n",
    "out_side_region_list = []\n",
    "for r in range(9):\n",
    "    data = ms_out_lat_long[ms_out_lat_long.region==r+1]\n",
    "    center = diameter_and_center[r][2]\n",
    "    outside_region = 0\n",
    "    for i in range(len(data)):\n",
    "        point = data.iloc[i,1:3].tolist()\n",
    "        ID = data.iloc[i,0]\n",
    "        point_tocenter = haversine1(point,center)\n",
    "        if point_tocenter>2:\n",
    "            print(r+1,ID,point)\n",
    "            outside_region+=1\n",
    "    out_side_region_list.append([r+1,outside_region])"
   ]
  },
  {
   "cell_type": "code",
   "execution_count": 2993,
   "metadata": {},
   "outputs": [
    {
     "data": {
      "text/plain": [
       "[[1, 0], [2, 0], [3, 2], [4, 0], [5, 0], [6, 0], [7, 0], [8, 0], [9, 0]]"
      ]
     },
     "execution_count": 2993,
     "metadata": {},
     "output_type": "execute_result"
    }
   ],
   "source": [
    "# those two incorrectly assigned points are from region 3 and the reason is the overlapping issue\n",
    "out_side_region_list"
   ]
  },
  {
   "cell_type": "code",
   "execution_count": 2994,
   "metadata": {},
   "outputs": [],
   "source": [
    "# function to cluster the point to region based on each center of all regions\n",
    "def region_assign(point,diameter_and_center):\n",
    "    dist_to_center = []\n",
    "    for r in range(9):\n",
    "        center = diameter_and_center[r][2]\n",
    "        point_to_center_len = haversine1(point,center)\n",
    "        dist_to_center.append([r+1,point_to_center_len])\n",
    "    region = [i[0] for i in dist_to_center if i[1]<2]\n",
    "    return region"
   ]
  },
  {
   "cell_type": "markdown",
   "metadata": {},
   "source": [
    "> predict the region for dirty data"
   ]
  },
  {
   "cell_type": "code",
   "execution_count": 2995,
   "metadata": {},
   "outputs": [
    {
     "name": "stdout",
     "output_type": "stream",
     "text": [
      "18,ID:ID3167774623,unfixed ori region:[7] ,predict region(distance to center <2):[1, 2]\n",
      "19,ID:ID1126816665,unfixed ori region:[6] ,predict region(distance to center <2):[3]\n",
      "21,ID:ID3206939304,unfixed ori region:[5] ,predict region(distance to center <2):[8]\n",
      "22,ID:ID3663275552,unfixed ori region:[4] ,predict region(distance to center <2):[1, 2, 5]\n",
      "38,ID:ID3207920808,unfixed ori region:[3] ,predict region(distance to center <2):[4]\n"
     ]
    }
   ],
   "source": [
    "dirty_ori_r_list = []\n",
    "for i in dirty1[['orilat','orilong']].values:\n",
    "    r = region_assign(i,diameter_and_center)\n",
    "    dirty_ori_r_list.append(r)\n",
    "dirty_orir = dirty1.orir.tolist()\n",
    "err_orir_index = []\n",
    "for i in range(len(dirty_orir)):\n",
    "    if dirty_orir[i] not in dirty_ori_r_list[i]:\n",
    "        err_orir_index.append(i)\n",
    "        print(f'{i},ID:{dirty1.iloc[i,0]},unfixed ori region:[{dirty_orir[i]}] ,predict region(distance to center <2):{dirty_ori_r_list[i]}')"
   ]
  },
  {
   "cell_type": "markdown",
   "metadata": {},
   "source": [
    "> because of the overlapping issue, we need to double check whether the row already have other erros <br>\n",
    "> Also, we'd like to visualize the map to double check"
   ]
  },
  {
   "cell_type": "code",
   "execution_count": 2996,
   "metadata": {},
   "outputs": [],
   "source": [
    "for i in err_orir_index:\n",
    "    if i in fixed_index:\n",
    "        print(i)"
   ]
  },
  {
   "cell_type": "markdown",
   "metadata": {},
   "source": [
    "<img src = \"style/2-regionmap.png\" height = \"500\" width = \"700\" style=\"float: left;\">"
   ]
  },
  {
   "cell_type": "code",
   "execution_count": 2997,
   "metadata": {},
   "outputs": [],
   "source": [
    "# then we are sure about four of the errors and fix it\n",
    "dirty1.iloc[18,2] = 2\n",
    "dirty1.iloc[19,2] = 3\n",
    "dirty1.iloc[21,2] = 8\n",
    "dirty1.iloc[22,2] = 2"
   ]
  },
  {
   "cell_type": "code",
   "execution_count": 2998,
   "metadata": {},
   "outputs": [
    {
     "name": "stdout",
     "output_type": "stream",
     "text": [
      "27,ID:ID3976901866,unfixed des region:[4] ,predict region(distance to center <2):[6]\n",
      "32,ID:ID1511707577,unfixed des region:[3] ,predict region(distance to center <2):[1, 2, 5]\n",
      "34,ID:ID1302620713,unfixed des region:[3] ,predict region(distance to center <2):[4]\n",
      "79,ID:ID3285557267,unfixed des region:[3] ,predict region(distance to center <2):[4]\n",
      "127,ID:ID3270412766,unfixed des region:[3] ,predict region(distance to center <2):[4]\n"
     ]
    }
   ],
   "source": [
    "# predict for destination coordinates\n",
    "dirty_des_r_list = []\n",
    "for i in dirty1[['deslat','deslong']].values:\n",
    "    r = region_assign(i,diameter_and_center)\n",
    "    dirty_des_r_list.append(r)\n",
    "dirty_desr = dirty1.desr.tolist()\n",
    "err_desr_index = []\n",
    "for i in range(len(dirty_des_r_list)):\n",
    "    if dirty_desr[i] not in dirty_des_r_list[i]:\n",
    "        err_desr_index.append(i)\n",
    "        print(f'{i},ID:{dirty1.iloc[i,0]},unfixed des region:[{dirty_desr[i]}] ,predict region(distance to center <2):{dirty_des_r_list[i]}')"
   ]
  },
  {
   "cell_type": "code",
   "execution_count": 2999,
   "metadata": {},
   "outputs": [
    {
     "name": "stdout",
     "output_type": "stream",
     "text": [
      "79\n",
      "127\n"
     ]
    }
   ],
   "source": [
    "# for two of them, we already fix the obvious error before\n",
    "for i in err_desr_index:\n",
    "    if i in fixed_index:\n",
    "        print(i)"
   ]
  },
  {
   "cell_type": "markdown",
   "metadata": {},
   "source": [
    "> we visualize the map to double check and locate the wrong region that need to be fixed"
   ]
  },
  {
   "cell_type": "markdown",
   "metadata": {},
   "source": [
    "<img src = \"style/3-regionmap.png\" height = \"500\" width = \"700\" style=\"float: left;\">"
   ]
  },
  {
   "cell_type": "code",
   "execution_count": 3000,
   "metadata": {},
   "outputs": [],
   "source": [
    "dirty1.iloc[27,3] = 6\n",
    "dirty1.iloc[32,3] = 2\n",
    "dirty1.iloc[34,3] = 4\n",
    "dirty1.iloc[37,3] = 4"
   ]
  },
  {
   "cell_type": "markdown",
   "metadata": {},
   "source": [
    "> After fixing all the errors, we are going to export our cleaned data."
   ]
  },
  {
   "cell_type": "code",
   "execution_count": 3001,
   "metadata": {},
   "outputs": [
    {
     "data": {
      "text/plain": [
       "Index(['id', 'type', 'orir', 'desr', 'orilat', 'orilong', 'deslat', 'deslong',\n",
       "       'ori_distance_m', 'oridate', 'oritime', 'traveltime_s', 'destime',\n",
       "       'fare', 'date_check', 'date_double_check', 'u_type_check', 'distance_m',\n",
       "       'dist_check', 'cal_tt', 'tt_check', 'des_time_check'],\n",
       "      dtype='object')"
      ]
     },
     "execution_count": 3001,
     "metadata": {},
     "output_type": "execute_result"
    }
   ],
   "source": [
    "dirty1.columns"
   ]
  },
  {
   "cell_type": "code",
   "execution_count": 3002,
   "metadata": {},
   "outputs": [
    {
     "data": {
      "text/plain": [
       "Index(['Unnamed: 0', 'Uber Type', 'Origin Region', 'Destination Region',\n",
       "       'Origin Latitude', 'Origin Longitude', 'Destination Latitude',\n",
       "       'Destination Longitude', 'Journey Distance(m)', 'Departure Date',\n",
       "       'Departure Time', 'Travel Time(s)', 'Arrival Time', 'Fare$'],\n",
       "      dtype='object')"
      ]
     },
     "execution_count": 3002,
     "metadata": {},
     "output_type": "execute_result"
    }
   ],
   "source": [
    "ori_columns_dirty"
   ]
  },
  {
   "cell_type": "code",
   "execution_count": 3003,
   "metadata": {},
   "outputs": [],
   "source": [
    "dirty_output = dirty1.copy()[['id', 'type', 'orir', 'desr', 'orilat', 'orilong', 'deslat', 'deslong',\n",
    "                             'distance_m', 'oridate','oritime','traveltime_s','destime','fare']]"
   ]
  },
  {
   "cell_type": "code",
   "execution_count": 3004,
   "metadata": {},
   "outputs": [
    {
     "data": {
      "text/html": [
       "<div>\n",
       "<style scoped>\n",
       "    .dataframe tbody tr th:only-of-type {\n",
       "        vertical-align: middle;\n",
       "    }\n",
       "\n",
       "    .dataframe tbody tr th {\n",
       "        vertical-align: top;\n",
       "    }\n",
       "\n",
       "    .dataframe thead th {\n",
       "        text-align: right;\n",
       "    }\n",
       "</style>\n",
       "<table border=\"1\" class=\"dataframe\">\n",
       "  <thead>\n",
       "    <tr style=\"text-align: right;\">\n",
       "      <th></th>\n",
       "      <th>Unnamed: 0</th>\n",
       "      <th>Uber Type</th>\n",
       "      <th>Origin Region</th>\n",
       "      <th>Destination Region</th>\n",
       "      <th>Origin Latitude</th>\n",
       "      <th>Origin Longitude</th>\n",
       "      <th>Destination Latitude</th>\n",
       "      <th>Destination Longitude</th>\n",
       "      <th>Journey Distance(m)</th>\n",
       "      <th>Departure Date</th>\n",
       "      <th>Departure Time</th>\n",
       "      <th>Travel Time(s)</th>\n",
       "      <th>Arrival Time</th>\n",
       "      <th>Fare$</th>\n",
       "    </tr>\n",
       "  </thead>\n",
       "  <tbody>\n",
       "    <tr>\n",
       "      <th>0</th>\n",
       "      <td>ID1917207779</td>\n",
       "      <td>0</td>\n",
       "      <td>2</td>\n",
       "      <td>3</td>\n",
       "      <td>-37.82</td>\n",
       "      <td>144.94</td>\n",
       "      <td>-37.82</td>\n",
       "      <td>144.97</td>\n",
       "      <td>3,444.00</td>\n",
       "      <td>2018-02-22</td>\n",
       "      <td>14:35:04</td>\n",
       "      <td>915.18</td>\n",
       "      <td>14:50:19</td>\n",
       "      <td>11.71</td>\n",
       "    </tr>\n",
       "    <tr>\n",
       "      <th>1</th>\n",
       "      <td>ID3480944562</td>\n",
       "      <td>1</td>\n",
       "      <td>1</td>\n",
       "      <td>6</td>\n",
       "      <td>-37.82</td>\n",
       "      <td>144.96</td>\n",
       "      <td>-37.77</td>\n",
       "      <td>144.98</td>\n",
       "      <td>5,948.00</td>\n",
       "      <td>2018-05-11</td>\n",
       "      <td>04:16:11</td>\n",
       "      <td>1,309.08</td>\n",
       "      <td>4:38:00</td>\n",
       "      <td>20.11</td>\n",
       "    </tr>\n",
       "  </tbody>\n",
       "</table>\n",
       "</div>"
      ],
      "text/plain": [
       "     Unnamed: 0  Uber Type  Origin Region  Destination Region  \\\n",
       "0  ID1917207779          0              2                   3   \n",
       "1  ID3480944562          1              1                   6   \n",
       "\n",
       "       Origin Latitude     Origin Longitude  Destination Latitude  \\\n",
       "0               -37.82               144.94                -37.82   \n",
       "1               -37.82               144.96                -37.77   \n",
       "\n",
       "   Destination Longitude  Journey Distance(m) Departure Date Departure Time  \\\n",
       "0                 144.97             3,444.00     2018-02-22       14:35:04   \n",
       "1                 144.98             5,948.00     2018-05-11       04:16:11   \n",
       "\n",
       "        Travel Time(s) Arrival Time                Fare$  \n",
       "0               915.18     14:50:19                11.71  \n",
       "1             1,309.08      4:38:00                20.11  "
      ]
     },
     "execution_count": 3004,
     "metadata": {},
     "output_type": "execute_result"
    }
   ],
   "source": [
    "dirty_output.columns = ori_columns_dirty\n",
    "dirty_output.head(2)"
   ]
  },
  {
   "cell_type": "code",
   "execution_count": 3005,
   "metadata": {},
   "outputs": [
    {
     "name": "stdout",
     "output_type": "stream",
     "text": [
      "<class 'pandas.core.frame.DataFrame'>\n",
      "RangeIndex: 299 entries, 0 to 298\n",
      "Data columns (total 14 columns):\n",
      "Unnamed: 0               299 non-null object\n",
      "Uber Type                299 non-null int64\n",
      "Origin Region            299 non-null int64\n",
      "Destination Region       299 non-null int64\n",
      "Origin Latitude          299 non-null float64\n",
      "Origin Longitude         299 non-null float64\n",
      "Destination Latitude     299 non-null float64\n",
      "Destination Longitude    299 non-null float64\n",
      "Journey Distance(m)      299 non-null float64\n",
      "Departure Date           299 non-null object\n",
      "Departure Time           299 non-null object\n",
      "Travel Time(s)           299 non-null float64\n",
      "Arrival Time             299 non-null object\n",
      "Fare$                    299 non-null float64\n",
      "dtypes: float64(7), int64(3), object(4)\n",
      "memory usage: 32.8+ KB\n"
     ]
    }
   ],
   "source": [
    "# double check the data type\n",
    "dirty_output.info()"
   ]
  },
  {
   "cell_type": "code",
   "execution_count": 3006,
   "metadata": {},
   "outputs": [],
   "source": [
    "dirty_output.to_csv('dirty_data_solution.csv',index=False)"
   ]
  },
  {
   "cell_type": "markdown",
   "metadata": {},
   "source": [
    "## 6. Build the regression model to detect outliers"
   ]
  },
  {
   "cell_type": "markdown",
   "metadata": {},
   "source": [
    "> First, we use the missing value data to explore the relationships. <br>\n",
    "> We define a series of function for reshaping the data into desired format. <br>\n",
    "\n",
    "> It worth mentioning that, the data we used for building our model come from the cleaned data and the missing value data. <br>\n",
    "However, we need to exclude the uncertain part (used imputation on date) in the dirty data and the missing part in the missing value dataset. "
   ]
  },
  {
   "cell_type": "code",
   "execution_count": 2850,
   "metadata": {},
   "outputs": [],
   "source": [
    "def Convert_date(oridate):\n",
    "    try:\n",
    "        day, mon, year = oridate.split('/')\n",
    "        return datetime(int(f'20{year}'), int(mon), int(day))\n",
    "    except ValueError:\n",
    "        year, mon, day = oridate.split('-')\n",
    "        return datetime(int(f'{year}'), int(mon), int(day))"
   ]
  },
  {
   "cell_type": "code",
   "execution_count": 2851,
   "metadata": {},
   "outputs": [],
   "source": [
    "def ori_hour_id(oritime):\n",
    "    orit = datetime.strptime(oritime,'%H:%M:%S')\n",
    "    hour = int(orit.hour)\n",
    "    if (hour >= 0 and hour <= 5 )or (hour >= 21 and hour <= 24):\n",
    "        return 2\n",
    "    elif (hour >= 6 and hour <= 11):\n",
    "        return 0\n",
    "    elif (hour>=12 and hour <= 20):\n",
    "        return 1"
   ]
  },
  {
   "cell_type": "code",
   "execution_count": 2852,
   "metadata": {},
   "outputs": [],
   "source": [
    "def df_pre_processing(df):\n",
    "    df.columns = ['id', 'type', 'orir', 'desr','orilat', 'orilong', 'deslat',\n",
    "       'deslong', 'distance_m', 'oridate','oritime', 'traveltime_s', 'destime', 'fare']\n",
    "    df['type'] = df.id.apply(uber_type_correct)\n",
    "    df['oridate_wdaynum'] = df['oridate'].apply(Convert_date)\n",
    "    df['oriweekday_weekend']=df['oridate_wdaynum'].apply\\\n",
    "                    (lambda x: 'weekend' if x.weekday() in [5,6] else 'weekday' )\n",
    "    df['wkd_mark'] = df.oriweekday_weekend.apply(lambda x: 1 if x =='weekend' else 0)\n",
    "    df['ori_hour_id']= df['oritime'].apply(ori_hour_id) \n",
    "    df.distance_m = df.distance_m.apply(lambda x: x/1000)\n",
    "    df.traveltime_s = df.traveltime_s.apply(lambda x: x/60)\n",
    "    \n",
    "    df.columns = ['id', 'type', 'orir', 'desr', 'orilat', 'orilong', 'deslat', 'deslong',\n",
    "       'distance_km', 'oridate', 'oritime', 'traveltime_min', 'destime', 'fare',\n",
    "       'oridate_wdaynum', 'oriweekday_weekend', 'wkd_mark', 'ori_hour_id']\n",
    "    return df"
   ]
  },
  {
   "cell_type": "markdown",
   "metadata": {},
   "source": [
    "> Here, we first imputae the uber type of missing value and throw all the missing value data into our model"
   ]
  },
  {
   "cell_type": "code",
   "execution_count": 2853,
   "metadata": {},
   "outputs": [],
   "source": [
    "my_ms_raw = pd.read_csv('dataset/missing_value.csv')\n",
    "my_ms0 = my_ms_raw.copy()\n",
    "\n",
    "# impute uber type and preprocessing for model use\n",
    "my_ms_price = df_pre_processing(my_ms0)"
   ]
  },
  {
   "cell_type": "code",
   "execution_count": 2854,
   "metadata": {},
   "outputs": [
    {
     "data": {
      "text/plain": [
       "<seaborn.axisgrid.PairGrid at 0x1a432b8ba8>"
      ]
     },
     "execution_count": 2854,
     "metadata": {},
     "output_type": "execute_result"
    },
    {
     "data": {
      "image/png": "[encoded data removed]",
      "text/plain": [
       "<Figure size 761.625x720 with 20 Axes>"
      ]
     },
     "metadata": {
      "needs_background": "light"
     },
     "output_type": "display_data"
    }
   ],
   "source": [
    "# according to this plot, we decide to build three models for different uber type\n",
    "my_ms_price_vis = my_ms_price.copy()[['type','distance_km','traveltime_min','fare']]\n",
    "sns.pairplot(my_ms_price_vis, hue = 'type',diag_kind = 'kde')"
   ]
  },
  {
   "cell_type": "markdown",
   "metadata": {},
   "source": [
    "### 6.1 Building model using missing data (non-na part) and cleaned dirty data (non-imputation part) "
   ]
  },
  {
   "cell_type": "code",
   "execution_count": 2855,
   "metadata": {},
   "outputs": [],
   "source": [
    "dirty_data_cleaned_4price = clean_d[['id', 'type', 'orir', 'desr','orilat', 'orilong', 'deslat','deslong', 'distance_m', 'oridate',\n",
    "       'oritime', 'traveltime_s', 'destime', 'fare']].copy()"
   ]
  },
  {
   "cell_type": "code",
   "execution_count": 2856,
   "metadata": {},
   "outputs": [],
   "source": [
    "# date out of range imputation cannot be used in modelling\n",
    "dirty_data_cleaned_4price = dirty_data_cleaned_4price[~dirty_data_cleaned_4price.index.isin(err_date_outrange)]\n",
    "dirty_data_cleaned_4price = dirty_data_cleaned_4price[~dirty_data_cleaned_4price.index.isin(err_date_mdreverse)]"
   ]
  },
  {
   "cell_type": "code",
   "execution_count": 2857,
   "metadata": {},
   "outputs": [
    {
     "name": "stdout",
     "output_type": "stream",
     "text": [
      "<class 'pandas.core.frame.DataFrame'>\n",
      "Int64Index: 283 entries, 0 to 298\n",
      "Data columns (total 14 columns):\n",
      "id              283 non-null object\n",
      "type            283 non-null int64\n",
      "orir            283 non-null int64\n",
      "desr            283 non-null int64\n",
      "orilat          283 non-null float64\n",
      "orilong         283 non-null float64\n",
      "deslat          283 non-null float64\n",
      "deslong         283 non-null float64\n",
      "distance_m      283 non-null float64\n",
      "oridate         283 non-null object\n",
      "oritime         283 non-null object\n",
      "traveltime_s    283 non-null float64\n",
      "destime         283 non-null object\n",
      "fare            283 non-null float64\n",
      "dtypes: float64(7), int64(3), object(4)\n",
      "memory usage: 33.2+ KB\n"
     ]
    }
   ],
   "source": [
    "dirty_data_cleaned_4price.info()"
   ]
  },
  {
   "cell_type": "code",
   "execution_count": 2858,
   "metadata": {},
   "outputs": [],
   "source": [
    "cleaned_data_p = df_pre_processing(dirty_data_cleaned_4price)\n",
    "cleaned_data_p['index'] = 999\n",
    "my_ms_price['index'] = 9999"
   ]
  },
  {
   "cell_type": "code",
   "execution_count": 2859,
   "metadata": {},
   "outputs": [],
   "source": [
    "# Combine clean data and missing value\n",
    "fare_model_building = pd.concat([cleaned_data_p,my_ms_price])\n",
    "fare_model_data = fare_model_building.copy().dropna()"
   ]
  },
  {
   "cell_type": "code",
   "execution_count": 2860,
   "metadata": {},
   "outputs": [
    {
     "name": "stdout",
     "output_type": "stream",
     "text": [
      "<class 'pandas.core.frame.DataFrame'>\n",
      "Int64Index: 378 entries, 0 to 94\n",
      "Data columns (total 19 columns):\n",
      "id                    378 non-null object\n",
      "type                  378 non-null int64\n",
      "orir                  378 non-null int64\n",
      "desr                  378 non-null int64\n",
      "orilat                378 non-null float64\n",
      "orilong               378 non-null float64\n",
      "deslat                378 non-null float64\n",
      "deslong               378 non-null float64\n",
      "distance_km           378 non-null float64\n",
      "oridate               378 non-null object\n",
      "oritime               378 non-null object\n",
      "traveltime_min        378 non-null float64\n",
      "destime               378 non-null object\n",
      "fare                  360 non-null float64\n",
      "oridate_wdaynum       378 non-null datetime64[ns]\n",
      "oriweekday_weekend    378 non-null object\n",
      "wkd_mark              378 non-null int64\n",
      "ori_hour_id           378 non-null int64\n",
      "index                 378 non-null int64\n",
      "dtypes: datetime64[ns](1), float64(7), int64(6), object(5)\n",
      "memory usage: 59.1+ KB\n"
     ]
    }
   ],
   "source": [
    "fare_model_building.info()"
   ]
  },
  {
   "cell_type": "code",
   "execution_count": 2861,
   "metadata": {},
   "outputs": [],
   "source": [
    "# use four features to construct the model\n",
    "def lineaRegression(data):\n",
    "    X = data.loc[:,('ori_hour_id', 'distance_km', 'traveltime_min','wkd_mark')]\n",
    "    Y = data.loc[:,'fare']\n",
    "\n",
    "    lm = LinearRegression()\n",
    "    lm.fit(X,Y)\n",
    "    print ('r-squared for this model = ',round(lm.score(X,Y),4))\n",
    "    feature_cols = ['ori_hour_id', 'distance_km', 'traveltime_min','wkd_mark']\n",
    "    B=list(zip(feature_cols,lm.coef_))\n",
    "    df_coe = pd.DataFrame(B, columns = ['Variable', 'coef']) \n",
    "    print(f'coefficient:{df_coe}\\n')  \n",
    "    print (f'intercept:{lm.intercept_}')\n",
    "\n",
    "    visualizer = ResidualsPlot(lm)\n",
    "    visualizer.fit(X, Y)\n",
    "    visualizer.score(X, Y)\n",
    "    visualizer.poof() \n",
    "    return lm"
   ]
  },
  {
   "cell_type": "markdown",
   "metadata": {},
   "source": [
    "### 6.2 Uber Type 0 model building and outlier detection"
   ]
  },
  {
   "cell_type": "code",
   "execution_count": 2862,
   "metadata": {},
   "outputs": [
    {
     "name": "stdout",
     "output_type": "stream",
     "text": [
      "r-squared for this model =  0.9615\n",
      "coefficient:         Variable                 coef\n",
      "0     ori_hour_id                 3.62\n",
      "1     distance_km                 0.05\n",
      "2  traveltime_min                 0.09\n",
      "3        wkd_mark                 5.00\n",
      "\n",
      "intercept:3.2839020792488274\n"
     ]
    },
    {
     "data": {
      "image/png": "[encoded data removed]",
      "text/plain": [
       "<Figure size 432x288 with 2 Axes>"
      ]
     },
     "metadata": {
      "needs_background": "light"
     },
     "output_type": "display_data"
    }
   ],
   "source": [
    "fare_model_type0 = fare_model_data[fare_model_data.type==0].copy()\n",
    "lm_type0 = lineaRegression(fare_model_type0)"
   ]
  },
  {
   "cell_type": "markdown",
   "metadata": {},
   "source": [
    "> reshape the outlier data and do the pre-processing"
   ]
  },
  {
   "cell_type": "code",
   "execution_count": 2863,
   "metadata": {},
   "outputs": [],
   "source": [
    "out_raw = pd.read_csv('dataset/outliers.csv')"
   ]
  },
  {
   "cell_type": "code",
   "execution_count": 2864,
   "metadata": {},
   "outputs": [],
   "source": [
    "out_raw1 = out_raw.copy()"
   ]
  },
  {
   "cell_type": "code",
   "execution_count": 2865,
   "metadata": {},
   "outputs": [],
   "source": [
    "def df_pre_processing_out(df):\n",
    "    df.columns = ['index','id', 'type', 'orir', 'desr','orilat', 'orilong', 'deslat',\n",
    "       'deslong', 'distance_m', 'oridate', 'oritime', 'traveltime_s', 'destime', 'fare']\n",
    "    df['oridate_wdaynum'] = df['oridate'].apply(Convert_date)\n",
    "    df['oriweekday_weekend']=df['oridate_wdaynum'].apply\\\n",
    "                    (lambda x: 'weekend' if x.weekday() in [5,6] else 'weekday' )\n",
    "    df['wkd_mark'] = df.oriweekday_weekend.apply(lambda x: 1 if x =='weekend' else 0)\n",
    "    df['ori_hour_id']= df['oritime'].apply(ori_hour_id) \n",
    "    df.distance_m = df.distance_m.apply(lambda x: x/1000)\n",
    "    df.traveltime_s = df.traveltime_s.apply(lambda x: x/60)\n",
    "    df.columns = ['index','id', 'type', 'orir', 'desr', 'orilat', 'orilong', 'deslat', 'deslong',\n",
    "       'distance_km', 'oridate', 'oritime', 'traveltime_min', 'destime', 'fare',\n",
    "       'oridate_wdaynum', 'oriweekday_weekend', 'wkd_mark', 'ori_hour_id']\n",
    "    return df"
   ]
  },
  {
   "cell_type": "code",
   "execution_count": 2866,
   "metadata": {},
   "outputs": [],
   "source": [
    "out_data = df_pre_processing_out(out_raw1)"
   ]
  },
  {
   "cell_type": "code",
   "execution_count": 2867,
   "metadata": {},
   "outputs": [],
   "source": [
    "out_data_type0 = out_data[out_data.type ==0]"
   ]
  },
  {
   "cell_type": "markdown",
   "metadata": {},
   "source": [
    "> use 3 zigma rule to detect outlier"
   ]
  },
  {
   "cell_type": "code",
   "execution_count": 2868,
   "metadata": {},
   "outputs": [
    {
     "name": "stdout",
     "output_type": "stream",
     "text": [
      "Mean of residual in type 0: 1.554312234475219e-16\n"
     ]
    }
   ],
   "source": [
    "# predict on clean dataset\n",
    "fare_model_type0['predict_fare'] = lm_type0.predict(fare_model_type0[['ori_hour_id', 'distance_km', 'traveltime_min','wkd_mark']])\n",
    "fare_model_type0['residual'] = fare_model_type0.apply(lambda row: row['predict_fare']- row['fare'], axis=1)\n",
    "residl_cleanmodel_type0 = fare_model_type0['residual']\n",
    "# calculate the mean of residual\n",
    "residl_cleanmodel_type0_mean = np.mean(residl_cleanmodel_type0)\n",
    "print(f'Mean of residual in type 0: {residl_cleanmodel_type0_mean}')"
   ]
  },
  {
   "cell_type": "code",
   "execution_count": 2869,
   "metadata": {},
   "outputs": [
    {
     "name": "stdout",
     "output_type": "stream",
     "text": [
      "Type 0 Residual 3 sigma, Lower:-4.505 Upper: 4.505\n"
     ]
    }
   ],
   "source": [
    "# calculate the std and generate the upper and lower 3 zigma bound\n",
    "residl_cleanmodel_type0_std = np.std(residl_cleanmodel_type0)\n",
    "upper_type0 = residl_cleanmodel_type0_mean + 3 * residl_cleanmodel_type0_std\n",
    "lower_type0 = residl_cleanmodel_type0_mean - 3 * residl_cleanmodel_type0_std\n",
    "print(f'Type 0 Residual 3 sigma, Lower:{round(lower_type0,3)} Upper: {round(upper_type0,3)}')"
   ]
  },
  {
   "cell_type": "markdown",
   "metadata": {},
   "source": [
    "> Predict on outlier data and apply 3 sigma rule for detecting outliers"
   ]
  },
  {
   "cell_type": "code",
   "execution_count": 2870,
   "metadata": {},
   "outputs": [
    {
     "data": {
      "text/html": [
       "<div>\n",
       "<style scoped>\n",
       "    .dataframe tbody tr th:only-of-type {\n",
       "        vertical-align: middle;\n",
       "    }\n",
       "\n",
       "    .dataframe tbody tr th {\n",
       "        vertical-align: top;\n",
       "    }\n",
       "\n",
       "    .dataframe thead th {\n",
       "        text-align: right;\n",
       "    }\n",
       "</style>\n",
       "<table border=\"1\" class=\"dataframe\">\n",
       "  <thead>\n",
       "    <tr style=\"text-align: right;\">\n",
       "      <th></th>\n",
       "      <th>index</th>\n",
       "      <th>ori_hour_id</th>\n",
       "      <th>distance_km</th>\n",
       "      <th>traveltime_min</th>\n",
       "      <th>wkd_mark</th>\n",
       "      <th>fare</th>\n",
       "      <th>predict_fare</th>\n",
       "      <th>residual</th>\n",
       "    </tr>\n",
       "  </thead>\n",
       "  <tbody>\n",
       "    <tr>\n",
       "      <th>31</th>\n",
       "      <td>31</td>\n",
       "      <td>1</td>\n",
       "      <td>50.80</td>\n",
       "      <td>220.08</td>\n",
       "      <td>0</td>\n",
       "      <td>14.71</td>\n",
       "      <td>29.76</td>\n",
       "      <td>15.04</td>\n",
       "    </tr>\n",
       "    <tr>\n",
       "      <th>39</th>\n",
       "      <td>39</td>\n",
       "      <td>1</td>\n",
       "      <td>15.15</td>\n",
       "      <td>81.96</td>\n",
       "      <td>0</td>\n",
       "      <td>7.34</td>\n",
       "      <td>15.24</td>\n",
       "      <td>7.90</td>\n",
       "    </tr>\n",
       "    <tr>\n",
       "      <th>88</th>\n",
       "      <td>88</td>\n",
       "      <td>2</td>\n",
       "      <td>46.95</td>\n",
       "      <td>188.60</td>\n",
       "      <td>1</td>\n",
       "      <td>16.75</td>\n",
       "      <td>35.26</td>\n",
       "      <td>18.52</td>\n",
       "    </tr>\n",
       "    <tr>\n",
       "      <th>98</th>\n",
       "      <td>98</td>\n",
       "      <td>1</td>\n",
       "      <td>47.03</td>\n",
       "      <td>190.22</td>\n",
       "      <td>0</td>\n",
       "      <td>12.24</td>\n",
       "      <td>26.80</td>\n",
       "      <td>14.56</td>\n",
       "    </tr>\n",
       "  </tbody>\n",
       "</table>\n",
       "</div>"
      ],
      "text/plain": [
       "    index  ori_hour_id          distance_km       traveltime_min  wkd_mark  \\\n",
       "31     31            1                50.80               220.08         0   \n",
       "39     39            1                15.15                81.96         0   \n",
       "88     88            2                46.95               188.60         1   \n",
       "98     98            1                47.03               190.22         0   \n",
       "\n",
       "                   fare         predict_fare             residual  \n",
       "31                14.71                29.76                15.04  \n",
       "39                 7.34                15.24                 7.90  \n",
       "88                16.75                35.26                18.52  \n",
       "98                12.24                26.80                14.56  "
      ]
     },
     "execution_count": 2870,
     "metadata": {},
     "output_type": "execute_result"
    }
   ],
   "source": [
    "out_data_type0['predict_fare'] = lm_type0.predict(out_data_type0[['ori_hour_id', 'distance_km', 'traveltime_min','wkd_mark']])\n",
    "out_data_type0['residual'] = out_data_type0.apply(lambda row: row['predict_fare']- row['fare'], axis=1)\n",
    "outlier_type0 = out_data_type0.query(' residual <@lower_type0 | residual >@upper_type0')\n",
    "outlier_type0[['index','ori_hour_id', 'distance_km', 'traveltime_min','wkd_mark','fare','predict_fare','residual']]"
   ]
  },
  {
   "cell_type": "code",
   "execution_count": 2871,
   "metadata": {},
   "outputs": [],
   "source": [
    "to_delete_type0 = outlier_type0['index']\n",
    "outlier_first_column = []\n",
    "outlier_first_column.extend(to_delete_type0)"
   ]
  },
  {
   "cell_type": "code",
   "execution_count": 2872,
   "metadata": {},
   "outputs": [
    {
     "data": {
      "text/plain": [
       "[31, 39, 88, 98]"
      ]
     },
     "execution_count": 2872,
     "metadata": {},
     "output_type": "execute_result"
    }
   ],
   "source": [
    "outlier_first_column"
   ]
  },
  {
   "cell_type": "markdown",
   "metadata": {},
   "source": [
    "### 6.3 Uber Type 1 model building and outlier detection"
   ]
  },
  {
   "cell_type": "code",
   "execution_count": 2873,
   "metadata": {},
   "outputs": [
    {
     "name": "stdout",
     "output_type": "stream",
     "text": [
      "r-squared for this model =  0.9883\n",
      "coefficient:         Variable                 coef\n",
      "0     ori_hour_id                 4.53\n",
      "1     distance_km                 0.01\n",
      "2  traveltime_min                 0.25\n",
      "3        wkd_mark                 4.02\n",
      "\n",
      "intercept:5.675608589540264\n"
     ]
    },
    {
     "data": {
      "image/png": "[encoded data removed]",
      "text/plain": [
       "<Figure size 432x288 with 2 Axes>"
      ]
     },
     "metadata": {
      "needs_background": "light"
     },
     "output_type": "display_data"
    }
   ],
   "source": [
    "fare_model_type1 = fare_model_data[fare_model_data.type==1].copy()\n",
    "lm_type1 = lineaRegression(fare_model_type1)"
   ]
  },
  {
   "cell_type": "code",
   "execution_count": 2874,
   "metadata": {},
   "outputs": [
    {
     "name": "stdout",
     "output_type": "stream",
     "text": [
      "Mean of residual in type 1: 2.3366841645801954e-15\n",
      "Type 1 Residual 3 sigma, Lower:-5.97 Upper: 5.97\n"
     ]
    }
   ],
   "source": [
    "# calculate the mean, std and bound\n",
    "fare_model_type1['predict_fare'] = lm_type1.predict(fare_model_type1[['ori_hour_id', 'distance_km', 'traveltime_min','wkd_mark']])\n",
    "fare_model_type1['residual'] = fare_model_type1.apply(lambda row: row['predict_fare']- row['fare'], axis=1)\n",
    "residl_cleanmodel_type1 = fare_model_type1['residual']\n",
    "residl_cleanmodel_type1_mean = np.mean(residl_cleanmodel_type1)\n",
    "print(f'Mean of residual in type 1: {residl_cleanmodel_type1_mean}')\n",
    "residl_cleanmodel_type1_std = np.std(residl_cleanmodel_type1)\n",
    "upper_type1 = residl_cleanmodel_type1_mean + 3 * residl_cleanmodel_type1_std\n",
    "lower_type1 = residl_cleanmodel_type1_mean - 3 * residl_cleanmodel_type1_std\n",
    "print(f'Type 1 Residual 3 sigma, Lower:{round(lower_type1,3)} Upper: {round(upper_type1,3)}')"
   ]
  },
  {
   "cell_type": "code",
   "execution_count": 2875,
   "metadata": {},
   "outputs": [
    {
     "data": {
      "text/html": [
       "<div>\n",
       "<style scoped>\n",
       "    .dataframe tbody tr th:only-of-type {\n",
       "        vertical-align: middle;\n",
       "    }\n",
       "\n",
       "    .dataframe tbody tr th {\n",
       "        vertical-align: top;\n",
       "    }\n",
       "\n",
       "    .dataframe thead th {\n",
       "        text-align: right;\n",
       "    }\n",
       "</style>\n",
       "<table border=\"1\" class=\"dataframe\">\n",
       "  <thead>\n",
       "    <tr style=\"text-align: right;\">\n",
       "      <th></th>\n",
       "      <th>index</th>\n",
       "      <th>type</th>\n",
       "      <th>ori_hour_id</th>\n",
       "      <th>distance_km</th>\n",
       "      <th>traveltime_min</th>\n",
       "      <th>wkd_mark</th>\n",
       "      <th>fare</th>\n",
       "      <th>predict_fare</th>\n",
       "      <th>residual</th>\n",
       "    </tr>\n",
       "  </thead>\n",
       "  <tbody>\n",
       "    <tr>\n",
       "      <th>3</th>\n",
       "      <td>3</td>\n",
       "      <td>1</td>\n",
       "      <td>1</td>\n",
       "      <td>2.19</td>\n",
       "      <td>9.78</td>\n",
       "      <td>0</td>\n",
       "      <td>5.66</td>\n",
       "      <td>12.66</td>\n",
       "      <td>7.00</td>\n",
       "    </tr>\n",
       "    <tr>\n",
       "      <th>8</th>\n",
       "      <td>8</td>\n",
       "      <td>1</td>\n",
       "      <td>2</td>\n",
       "      <td>8.36</td>\n",
       "      <td>40.64</td>\n",
       "      <td>0</td>\n",
       "      <td>11.76</td>\n",
       "      <td>24.92</td>\n",
       "      <td>13.17</td>\n",
       "    </tr>\n",
       "    <tr>\n",
       "      <th>15</th>\n",
       "      <td>15</td>\n",
       "      <td>1</td>\n",
       "      <td>2</td>\n",
       "      <td>50.80</td>\n",
       "      <td>219.56</td>\n",
       "      <td>0</td>\n",
       "      <td>38.58</td>\n",
       "      <td>69.82</td>\n",
       "      <td>31.24</td>\n",
       "    </tr>\n",
       "    <tr>\n",
       "      <th>16</th>\n",
       "      <td>16</td>\n",
       "      <td>1</td>\n",
       "      <td>0</td>\n",
       "      <td>4.89</td>\n",
       "      <td>25.14</td>\n",
       "      <td>0</td>\n",
       "      <td>5.42</td>\n",
       "      <td>11.98</td>\n",
       "      <td>6.55</td>\n",
       "    </tr>\n",
       "    <tr>\n",
       "      <th>25</th>\n",
       "      <td>25</td>\n",
       "      <td>1</td>\n",
       "      <td>2</td>\n",
       "      <td>10.83</td>\n",
       "      <td>58.83</td>\n",
       "      <td>1</td>\n",
       "      <td>15.93</td>\n",
       "      <td>33.49</td>\n",
       "      <td>17.56</td>\n",
       "    </tr>\n",
       "    <tr>\n",
       "      <th>52</th>\n",
       "      <td>52</td>\n",
       "      <td>1</td>\n",
       "      <td>1</td>\n",
       "      <td>50.80</td>\n",
       "      <td>220.08</td>\n",
       "      <td>0</td>\n",
       "      <td>73.36</td>\n",
       "      <td>65.43</td>\n",
       "      <td>-7.93</td>\n",
       "    </tr>\n",
       "    <tr>\n",
       "      <th>65</th>\n",
       "      <td>65</td>\n",
       "      <td>1</td>\n",
       "      <td>1</td>\n",
       "      <td>7.61</td>\n",
       "      <td>34.03</td>\n",
       "      <td>0</td>\n",
       "      <td>8.70</td>\n",
       "      <td>18.74</td>\n",
       "      <td>10.04</td>\n",
       "    </tr>\n",
       "    <tr>\n",
       "      <th>68</th>\n",
       "      <td>68</td>\n",
       "      <td>1</td>\n",
       "      <td>0</td>\n",
       "      <td>48.75</td>\n",
       "      <td>198.61</td>\n",
       "      <td>1</td>\n",
       "      <td>33.22</td>\n",
       "      <td>59.54</td>\n",
       "      <td>26.33</td>\n",
       "    </tr>\n",
       "    <tr>\n",
       "      <th>82</th>\n",
       "      <td>82</td>\n",
       "      <td>1</td>\n",
       "      <td>1</td>\n",
       "      <td>7.03</td>\n",
       "      <td>34.29</td>\n",
       "      <td>0</td>\n",
       "      <td>8.71</td>\n",
       "      <td>18.80</td>\n",
       "      <td>10.10</td>\n",
       "    </tr>\n",
       "    <tr>\n",
       "      <th>101</th>\n",
       "      <td>101</td>\n",
       "      <td>1</td>\n",
       "      <td>2</td>\n",
       "      <td>12.69</td>\n",
       "      <td>67.98</td>\n",
       "      <td>0</td>\n",
       "      <td>15.32</td>\n",
       "      <td>31.77</td>\n",
       "      <td>16.45</td>\n",
       "    </tr>\n",
       "    <tr>\n",
       "      <th>103</th>\n",
       "      <td>103</td>\n",
       "      <td>1</td>\n",
       "      <td>1</td>\n",
       "      <td>50.80</td>\n",
       "      <td>220.08</td>\n",
       "      <td>1</td>\n",
       "      <td>37.92</td>\n",
       "      <td>69.44</td>\n",
       "      <td>31.52</td>\n",
       "    </tr>\n",
       "    <tr>\n",
       "      <th>117</th>\n",
       "      <td>117</td>\n",
       "      <td>1</td>\n",
       "      <td>1</td>\n",
       "      <td>5.28</td>\n",
       "      <td>22.36</td>\n",
       "      <td>1</td>\n",
       "      <td>8.82</td>\n",
       "      <td>19.83</td>\n",
       "      <td>11.01</td>\n",
       "    </tr>\n",
       "  </tbody>\n",
       "</table>\n",
       "</div>"
      ],
      "text/plain": [
       "     index  type  ori_hour_id          distance_km       traveltime_min  \\\n",
       "3        3     1            1                 2.19                 9.78   \n",
       "8        8     1            2                 8.36                40.64   \n",
       "15      15     1            2                50.80               219.56   \n",
       "16      16     1            0                 4.89                25.14   \n",
       "25      25     1            2                10.83                58.83   \n",
       "52      52     1            1                50.80               220.08   \n",
       "65      65     1            1                 7.61                34.03   \n",
       "68      68     1            0                48.75               198.61   \n",
       "82      82     1            1                 7.03                34.29   \n",
       "101    101     1            2                12.69                67.98   \n",
       "103    103     1            1                50.80               220.08   \n",
       "117    117     1            1                 5.28                22.36   \n",
       "\n",
       "     wkd_mark                 fare         predict_fare             residual  \n",
       "3           0                 5.66                12.66                 7.00  \n",
       "8           0                11.76                24.92                13.17  \n",
       "15          0                38.58                69.82                31.24  \n",
       "16          0                 5.42                11.98                 6.55  \n",
       "25          1                15.93                33.49                17.56  \n",
       "52          0                73.36                65.43                -7.93  \n",
       "65          0                 8.70                18.74                10.04  \n",
       "68          1                33.22                59.54                26.33  \n",
       "82          0                 8.71                18.80                10.10  \n",
       "101         0                15.32                31.77                16.45  \n",
       "103         1                37.92                69.44                31.52  \n",
       "117         1                 8.82                19.83                11.01  "
      ]
     },
     "execution_count": 2875,
     "metadata": {},
     "output_type": "execute_result"
    }
   ],
   "source": [
    "out_data_type1 = out_data[out_data.type ==1]\n",
    "out_data_type1['predict_fare'] = lm_type1.predict(out_data_type1[['ori_hour_id', 'distance_km', 'traveltime_min','wkd_mark']])\n",
    "out_data_type1['residual'] = out_data_type1.apply(lambda row: row['predict_fare']- row['fare'], axis=1)\n",
    "outlier_type1 = out_data_type1.query(' residual <@lower_type1 | residual >@upper_type1')\n",
    "outlier_type1[['index','type','ori_hour_id', 'distance_km', 'traveltime_min','wkd_mark','fare','predict_fare','residual']]"
   ]
  },
  {
   "cell_type": "code",
   "execution_count": 2876,
   "metadata": {},
   "outputs": [],
   "source": [
    "to_delete_type1 = outlier_type1['index']\n",
    "outlier_first_column.extend(to_delete_type1)"
   ]
  },
  {
   "cell_type": "markdown",
   "metadata": {},
   "source": [
    "### 6.4 Uber Type 2 model building and outlier detection"
   ]
  },
  {
   "cell_type": "code",
   "execution_count": 2877,
   "metadata": {
    "scrolled": false
   },
   "outputs": [
    {
     "name": "stdout",
     "output_type": "stream",
     "text": [
      "r-squared for this model =  0.9996\n",
      "coefficient:         Variable                 coef\n",
      "0     ori_hour_id                 8.44\n",
      "1     distance_km                 0.17\n",
      "2  traveltime_min                 5.16\n",
      "3        wkd_mark                 5.25\n",
      "\n",
      "intercept:13.766082308220177\n"
     ]
    },
    {
     "data": {
      "image/png": "[encoded data removed]",
      "text/plain": [
       "<Figure size 432x288 with 2 Axes>"
      ]
     },
     "metadata": {
      "needs_background": "light"
     },
     "output_type": "display_data"
    }
   ],
   "source": [
    "fare_model_type2 = fare_model_data[fare_model_data.type==2].copy()\n",
    "lm_type2 = lineaRegression(fare_model_type2)"
   ]
  },
  {
   "cell_type": "code",
   "execution_count": 2878,
   "metadata": {},
   "outputs": [
    {
     "name": "stdout",
     "output_type": "stream",
     "text": [
      "Mean of residual in type 2: -9.209191143871103e-14\n",
      "Type 2 Residual 3 sigma, Lower:-21.334 Upper: 21.334\n"
     ]
    }
   ],
   "source": [
    "# calculate the mean, std and bound using the clean data\n",
    "fare_model_type2['predict_fare'] = lm_type2.predict(fare_model_type2[['ori_hour_id', 'distance_km', 'traveltime_min','wkd_mark']])\n",
    "fare_model_type2['residual'] = fare_model_type2.apply(lambda row: row['predict_fare']- row['fare'], axis=1)\n",
    "residl_cleanmodel_type2= fare_model_type2['residual']\n",
    "residl_cleanmodel_type2_mean = np.mean(residl_cleanmodel_type2)\n",
    "print(f'Mean of residual in type 2: {residl_cleanmodel_type2_mean}')\n",
    "residl_cleanmodel_type2_std = np.std(residl_cleanmodel_type2)\n",
    "upper_type2 = residl_cleanmodel_type2_mean + 3 * residl_cleanmodel_type2_std\n",
    "lower_type2 = residl_cleanmodel_type2_mean - 3 * residl_cleanmodel_type2_std\n",
    "print(f'Type 2 Residual 3 sigma, Lower:{round(lower_type2,3)} Upper: {round(upper_type2,3)}')"
   ]
  },
  {
   "cell_type": "code",
   "execution_count": 2879,
   "metadata": {},
   "outputs": [
    {
     "data": {
      "text/html": [
       "<div>\n",
       "<style scoped>\n",
       "    .dataframe tbody tr th:only-of-type {\n",
       "        vertical-align: middle;\n",
       "    }\n",
       "\n",
       "    .dataframe tbody tr th {\n",
       "        vertical-align: top;\n",
       "    }\n",
       "\n",
       "    .dataframe thead th {\n",
       "        text-align: right;\n",
       "    }\n",
       "</style>\n",
       "<table border=\"1\" class=\"dataframe\">\n",
       "  <thead>\n",
       "    <tr style=\"text-align: right;\">\n",
       "      <th></th>\n",
       "      <th>index</th>\n",
       "      <th>ori_hour_id</th>\n",
       "      <th>distance_km</th>\n",
       "      <th>traveltime_min</th>\n",
       "      <th>wkd_mark</th>\n",
       "      <th>fare</th>\n",
       "      <th>predict_fare</th>\n",
       "      <th>residual</th>\n",
       "    </tr>\n",
       "  </thead>\n",
       "  <tbody>\n",
       "    <tr>\n",
       "      <th>36</th>\n",
       "      <td>36</td>\n",
       "      <td>0</td>\n",
       "      <td>47.03</td>\n",
       "      <td>189.26</td>\n",
       "      <td>0</td>\n",
       "      <td>684.45</td>\n",
       "      <td>998.49</td>\n",
       "      <td>314.04</td>\n",
       "    </tr>\n",
       "    <tr>\n",
       "      <th>41</th>\n",
       "      <td>41</td>\n",
       "      <td>1</td>\n",
       "      <td>11.71</td>\n",
       "      <td>61.96</td>\n",
       "      <td>0</td>\n",
       "      <td>239.52</td>\n",
       "      <td>343.93</td>\n",
       "      <td>104.41</td>\n",
       "    </tr>\n",
       "    <tr>\n",
       "      <th>45</th>\n",
       "      <td>45</td>\n",
       "      <td>1</td>\n",
       "      <td>6.36</td>\n",
       "      <td>27.48</td>\n",
       "      <td>0</td>\n",
       "      <td>117.00</td>\n",
       "      <td>165.12</td>\n",
       "      <td>48.12</td>\n",
       "    </tr>\n",
       "    <tr>\n",
       "      <th>51</th>\n",
       "      <td>51</td>\n",
       "      <td>2</td>\n",
       "      <td>5.63</td>\n",
       "      <td>21.83</td>\n",
       "      <td>0</td>\n",
       "      <td>51.58</td>\n",
       "      <td>144.25</td>\n",
       "      <td>92.67</td>\n",
       "    </tr>\n",
       "    <tr>\n",
       "      <th>64</th>\n",
       "      <td>64</td>\n",
       "      <td>0</td>\n",
       "      <td>9.64</td>\n",
       "      <td>53.67</td>\n",
       "      <td>0</td>\n",
       "      <td>202.07</td>\n",
       "      <td>292.38</td>\n",
       "      <td>90.31</td>\n",
       "    </tr>\n",
       "    <tr>\n",
       "      <th>89</th>\n",
       "      <td>89</td>\n",
       "      <td>2</td>\n",
       "      <td>51.03</td>\n",
       "      <td>211.35</td>\n",
       "      <td>0</td>\n",
       "      <td>779.41</td>\n",
       "      <td>1,130.04</td>\n",
       "      <td>350.63</td>\n",
       "    </tr>\n",
       "    <tr>\n",
       "      <th>96</th>\n",
       "      <td>96</td>\n",
       "      <td>1</td>\n",
       "      <td>49.78</td>\n",
       "      <td>201.16</td>\n",
       "      <td>1</td>\n",
       "      <td>742.74</td>\n",
       "      <td>1,074.07</td>\n",
       "      <td>331.33</td>\n",
       "    </tr>\n",
       "    <tr>\n",
       "      <th>100</th>\n",
       "      <td>100</td>\n",
       "      <td>2</td>\n",
       "      <td>4.57</td>\n",
       "      <td>19.24</td>\n",
       "      <td>0</td>\n",
       "      <td>94.93</td>\n",
       "      <td>130.70</td>\n",
       "      <td>35.77</td>\n",
       "    </tr>\n",
       "    <tr>\n",
       "      <th>106</th>\n",
       "      <td>106</td>\n",
       "      <td>2</td>\n",
       "      <td>9.57</td>\n",
       "      <td>45.90</td>\n",
       "      <td>0</td>\n",
       "      <td>190.44</td>\n",
       "      <td>269.14</td>\n",
       "      <td>78.70</td>\n",
       "    </tr>\n",
       "    <tr>\n",
       "      <th>109</th>\n",
       "      <td>109</td>\n",
       "      <td>2</td>\n",
       "      <td>15.15</td>\n",
       "      <td>81.96</td>\n",
       "      <td>0</td>\n",
       "      <td>321.06</td>\n",
       "      <td>456.16</td>\n",
       "      <td>135.10</td>\n",
       "    </tr>\n",
       "    <tr>\n",
       "      <th>113</th>\n",
       "      <td>113</td>\n",
       "      <td>0</td>\n",
       "      <td>10.73</td>\n",
       "      <td>54.08</td>\n",
       "      <td>0</td>\n",
       "      <td>203.84</td>\n",
       "      <td>294.66</td>\n",
       "      <td>90.82</td>\n",
       "    </tr>\n",
       "  </tbody>\n",
       "</table>\n",
       "</div>"
      ],
      "text/plain": [
       "     index  ori_hour_id          distance_km       traveltime_min  wkd_mark  \\\n",
       "36      36            0                47.03               189.26         0   \n",
       "41      41            1                11.71                61.96         0   \n",
       "45      45            1                 6.36                27.48         0   \n",
       "51      51            2                 5.63                21.83         0   \n",
       "64      64            0                 9.64                53.67         0   \n",
       "89      89            2                51.03               211.35         0   \n",
       "96      96            1                49.78               201.16         1   \n",
       "100    100            2                 4.57                19.24         0   \n",
       "106    106            2                 9.57                45.90         0   \n",
       "109    109            2                15.15                81.96         0   \n",
       "113    113            0                10.73                54.08         0   \n",
       "\n",
       "                    fare         predict_fare             residual  \n",
       "36                684.45               998.49               314.04  \n",
       "41                239.52               343.93               104.41  \n",
       "45                117.00               165.12                48.12  \n",
       "51                 51.58               144.25                92.67  \n",
       "64                202.07               292.38                90.31  \n",
       "89                779.41             1,130.04               350.63  \n",
       "96                742.74             1,074.07               331.33  \n",
       "100                94.93               130.70                35.77  \n",
       "106               190.44               269.14                78.70  \n",
       "109               321.06               456.16               135.10  \n",
       "113               203.84               294.66                90.82  "
      ]
     },
     "execution_count": 2879,
     "metadata": {},
     "output_type": "execute_result"
    }
   ],
   "source": [
    "# detect the outliers using clean model and the 3 sigma from clean data\n",
    "out_data_type2 = out_data[out_data.type ==2]\n",
    "out_data_type2['predict_fare'] = lm_type2.predict(out_data_type2[['ori_hour_id', 'distance_km', 'traveltime_min','wkd_mark']])\n",
    "out_data_type2['residual'] = out_data_type2.apply(lambda row: row['predict_fare']- row['fare'], axis=1)\n",
    "outlier_type2 = out_data_type2.query(' residual <@lower_type2 | residual >@upper_type2')\n",
    "outlier_type2[['index','ori_hour_id', 'distance_km', 'traveltime_min','wkd_mark','fare','predict_fare','residual']]"
   ]
  },
  {
   "cell_type": "code",
   "execution_count": 2880,
   "metadata": {},
   "outputs": [],
   "source": [
    "to_delete_type2 = outlier_type2['index']\n",
    "outlier_first_column.extend(to_delete_type2)"
   ]
  },
  {
   "cell_type": "code",
   "execution_count": 2881,
   "metadata": {},
   "outputs": [
    {
     "data": {
      "text/plain": [
       "27"
      ]
     },
     "execution_count": 2881,
     "metadata": {},
     "output_type": "execute_result"
    }
   ],
   "source": [
    "len(outlier_first_column)"
   ]
  },
  {
   "cell_type": "markdown",
   "metadata": {},
   "source": [
    "> export the outliers output"
   ]
  },
  {
   "cell_type": "code",
   "execution_count": 2882,
   "metadata": {},
   "outputs": [],
   "source": [
    "out_copy = out_raw.copy()\n",
    "out_output = out_copy[~out_copy['Unnamed: 0'].isin(outlier_first_column)]"
   ]
  },
  {
   "cell_type": "code",
   "execution_count": 2883,
   "metadata": {},
   "outputs": [
    {
     "name": "stdout",
     "output_type": "stream",
     "text": [
      "<class 'pandas.core.frame.DataFrame'>\n",
      "RangeIndex: 121 entries, 0 to 120\n",
      "Data columns (total 15 columns):\n",
      "Unnamed: 0               121 non-null int64\n",
      "Unnamed: 0.1             121 non-null object\n",
      "Uber Type                121 non-null int64\n",
      "Origin Region            121 non-null int64\n",
      "Destination Region       121 non-null int64\n",
      "Origin Latitude          121 non-null float64\n",
      "Origin Longitude         121 non-null float64\n",
      "Destination Latitude     121 non-null float64\n",
      "Destination Longitude    121 non-null float64\n",
      "Journey Distance(m)      121 non-null float64\n",
      "Departure Date           121 non-null object\n",
      "Departure Time           121 non-null object\n",
      "Travel Time(s)           121 non-null float64\n",
      "Arrival Time             121 non-null object\n",
      "Fare$                    121 non-null float64\n",
      "dtypes: float64(7), int64(4), object(4)\n",
      "memory usage: 14.3+ KB\n"
     ]
    }
   ],
   "source": [
    "out_raw.info()"
   ]
  },
  {
   "cell_type": "code",
   "execution_count": 2884,
   "metadata": {},
   "outputs": [
    {
     "name": "stdout",
     "output_type": "stream",
     "text": [
      "<class 'pandas.core.frame.DataFrame'>\n",
      "Int64Index: 94 entries, 0 to 120\n",
      "Data columns (total 15 columns):\n",
      "Unnamed: 0               94 non-null int64\n",
      "Unnamed: 0.1             94 non-null object\n",
      "Uber Type                94 non-null int64\n",
      "Origin Region            94 non-null int64\n",
      "Destination Region       94 non-null int64\n",
      "Origin Latitude          94 non-null float64\n",
      "Origin Longitude         94 non-null float64\n",
      "Destination Latitude     94 non-null float64\n",
      "Destination Longitude    94 non-null float64\n",
      "Journey Distance(m)      94 non-null float64\n",
      "Departure Date           94 non-null object\n",
      "Departure Time           94 non-null object\n",
      "Travel Time(s)           94 non-null float64\n",
      "Arrival Time             94 non-null object\n",
      "Fare$                    94 non-null float64\n",
      "dtypes: float64(7), int64(4), object(4)\n",
      "memory usage: 11.8+ KB\n"
     ]
    }
   ],
   "source": [
    "out_output.info()"
   ]
  },
  {
   "cell_type": "code",
   "execution_count": 2885,
   "metadata": {},
   "outputs": [],
   "source": [
    "out_output.to_csv('outliers_solution.csv',index=False)"
   ]
  },
  {
   "cell_type": "markdown",
   "metadata": {},
   "source": [
    "## 7. Use the regression model for imputation"
   ]
  },
  {
   "cell_type": "code",
   "execution_count": 2886,
   "metadata": {},
   "outputs": [],
   "source": [
    "ms_raw = pd.read_csv('dataset/missing_value.csv')"
   ]
  },
  {
   "cell_type": "code",
   "execution_count": 2887,
   "metadata": {},
   "outputs": [
    {
     "name": "stdout",
     "output_type": "stream",
     "text": [
      "<class 'pandas.core.frame.DataFrame'>\n",
      "RangeIndex: 95 entries, 0 to 94\n",
      "Data columns (total 14 columns):\n",
      "Unnamed: 0               95 non-null object\n",
      "Uber Type                75 non-null float64\n",
      "Origin Region            95 non-null int64\n",
      "Destination Region       95 non-null int64\n",
      "Origin Latitude          95 non-null float64\n",
      "Origin Longitude         95 non-null float64\n",
      "Destination Latitude     95 non-null float64\n",
      "Destination Longitude    95 non-null float64\n",
      "Journey Distance(m)      95 non-null float64\n",
      "Departure Date           95 non-null object\n",
      "Departure Time           95 non-null object\n",
      "Travel Time(s)           95 non-null float64\n",
      "Arrival Time             95 non-null object\n",
      "Fare$                    77 non-null float64\n",
      "dtypes: float64(8), int64(2), object(4)\n",
      "memory usage: 10.5+ KB\n"
     ]
    }
   ],
   "source": [
    "ms_raw.info()"
   ]
  },
  {
   "cell_type": "code",
   "execution_count": 2888,
   "metadata": {},
   "outputs": [
    {
     "data": {
      "text/plain": [
       "Index(['Unnamed: 0', 'Uber Type', 'Origin Region', 'Destination Region',\n",
       "       'Origin Latitude', 'Origin Longitude', 'Destination Latitude',\n",
       "       'Destination Longitude', 'Journey Distance(m)', 'Departure Date',\n",
       "       'Departure Time', 'Travel Time(s)', 'Arrival Time', 'Fare$'],\n",
       "      dtype='object')"
      ]
     },
     "execution_count": 2888,
     "metadata": {},
     "output_type": "execute_result"
    }
   ],
   "source": [
    "ms_raw.columns"
   ]
  },
  {
   "cell_type": "code",
   "execution_count": 2889,
   "metadata": {},
   "outputs": [],
   "source": [
    "def uber_type_correct_float(id):\n",
    "    if id.startswith('ID3'):\n",
    "        return 1.0\n",
    "    elif id.startswith('ID5'):\n",
    "        return 2.0\n",
    "    elif id.startswith('ID1'):\n",
    "        return 0.0"
   ]
  },
  {
   "cell_type": "markdown",
   "metadata": {},
   "source": [
    "> imputation on the uber type"
   ]
  },
  {
   "cell_type": "code",
   "execution_count": 2890,
   "metadata": {},
   "outputs": [],
   "source": [
    "ms_raw['Uber Type'] = ms_raw['Unnamed: 0'].apply(uber_type_correct_float)"
   ]
  },
  {
   "cell_type": "code",
   "execution_count": 2891,
   "metadata": {},
   "outputs": [
    {
     "name": "stdout",
     "output_type": "stream",
     "text": [
      "<class 'pandas.core.frame.DataFrame'>\n",
      "RangeIndex: 95 entries, 0 to 94\n",
      "Data columns (total 14 columns):\n",
      "Unnamed: 0               95 non-null object\n",
      "Uber Type                95 non-null float64\n",
      "Origin Region            95 non-null int64\n",
      "Destination Region       95 non-null int64\n",
      "Origin Latitude          95 non-null float64\n",
      "Origin Longitude         95 non-null float64\n",
      "Destination Latitude     95 non-null float64\n",
      "Destination Longitude    95 non-null float64\n",
      "Journey Distance(m)      95 non-null float64\n",
      "Departure Date           95 non-null object\n",
      "Departure Time           95 non-null object\n",
      "Travel Time(s)           95 non-null float64\n",
      "Arrival Time             95 non-null object\n",
      "Fare$                    77 non-null float64\n",
      "dtypes: float64(8), int64(2), object(4)\n",
      "memory usage: 10.5+ KB\n"
     ]
    }
   ],
   "source": [
    "ms_raw.info()"
   ]
  },
  {
   "cell_type": "code",
   "execution_count": 2892,
   "metadata": {},
   "outputs": [],
   "source": [
    "ms_raw1 = ms_raw.copy()"
   ]
  },
  {
   "cell_type": "code",
   "execution_count": 2893,
   "metadata": {},
   "outputs": [],
   "source": [
    "ms_fare = df_pre_processing(ms_raw1)"
   ]
  },
  {
   "cell_type": "markdown",
   "metadata": {},
   "source": [
    "> predict fare for type 0"
   ]
  },
  {
   "cell_type": "code",
   "execution_count": 2894,
   "metadata": {},
   "outputs": [
    {
     "data": {
      "text/html": [
       "<div>\n",
       "<style scoped>\n",
       "    .dataframe tbody tr th:only-of-type {\n",
       "        vertical-align: middle;\n",
       "    }\n",
       "\n",
       "    .dataframe tbody tr th {\n",
       "        vertical-align: top;\n",
       "    }\n",
       "\n",
       "    .dataframe thead th {\n",
       "        text-align: right;\n",
       "    }\n",
       "</style>\n",
       "<table border=\"1\" class=\"dataframe\">\n",
       "  <thead>\n",
       "    <tr style=\"text-align: right;\">\n",
       "      <th></th>\n",
       "      <th>id</th>\n",
       "      <th>type</th>\n",
       "      <th>orir</th>\n",
       "      <th>desr</th>\n",
       "      <th>orilat</th>\n",
       "      <th>orilong</th>\n",
       "      <th>deslat</th>\n",
       "      <th>deslong</th>\n",
       "      <th>distance_km</th>\n",
       "      <th>oridate</th>\n",
       "      <th>oritime</th>\n",
       "      <th>traveltime_min</th>\n",
       "      <th>destime</th>\n",
       "      <th>fare</th>\n",
       "      <th>oridate_wdaynum</th>\n",
       "      <th>oriweekday_weekend</th>\n",
       "      <th>wkd_mark</th>\n",
       "      <th>ori_hour_id</th>\n",
       "    </tr>\n",
       "  </thead>\n",
       "  <tbody>\n",
       "  </tbody>\n",
       "</table>\n",
       "</div>"
      ],
      "text/plain": [
       "Empty DataFrame\n",
       "Columns: [id, type, orir, desr, orilat, orilong, deslat, deslong, distance_km, oridate, oritime, traveltime_min, destime, fare, oridate_wdaynum, oriweekday_weekend, wkd_mark, ori_hour_id]\n",
       "Index: []"
      ]
     },
     "execution_count": 2894,
     "metadata": {},
     "output_type": "execute_result"
    }
   ],
   "source": [
    "ms_na0 = ms_fare[(ms_fare.type==0) & ms_fare.fare.isnull()]\n",
    "ms_na0_pdt = lm_type0.predict(ms_na0[['ori_hour_id', 'distance_km', 'traveltime_min','wkd_mark']])\n",
    "ms_na0_index = ms_na0[(ms_na0.type==0) & ms_na0.fare.isnull()].index\n",
    "ms_fare.iloc[ms_na0_index,13] = ms_na0_pdt\n",
    "ms_fare[(ms_fare.type==0) & ms_fare.fare.isnull()]"
   ]
  },
  {
   "cell_type": "code",
   "execution_count": 2895,
   "metadata": {},
   "outputs": [
    {
     "data": {
      "text/plain": [
       "array([13.53479298, 22.19155515, 14.4789999 , 29.70673148,  8.51059574,\n",
       "       14.56385787,  9.95042707,  5.31005578, 17.65807913])"
      ]
     },
     "execution_count": 2895,
     "metadata": {},
     "output_type": "execute_result"
    }
   ],
   "source": [
    "ms_na0_pdt"
   ]
  },
  {
   "cell_type": "markdown",
   "metadata": {},
   "source": [
    "> predict fare for type 1"
   ]
  },
  {
   "cell_type": "code",
   "execution_count": 2896,
   "metadata": {},
   "outputs": [
    {
     "data": {
      "text/html": [
       "<div>\n",
       "<style scoped>\n",
       "    .dataframe tbody tr th:only-of-type {\n",
       "        vertical-align: middle;\n",
       "    }\n",
       "\n",
       "    .dataframe tbody tr th {\n",
       "        vertical-align: top;\n",
       "    }\n",
       "\n",
       "    .dataframe thead th {\n",
       "        text-align: right;\n",
       "    }\n",
       "</style>\n",
       "<table border=\"1\" class=\"dataframe\">\n",
       "  <thead>\n",
       "    <tr style=\"text-align: right;\">\n",
       "      <th></th>\n",
       "      <th>id</th>\n",
       "      <th>type</th>\n",
       "      <th>orir</th>\n",
       "      <th>desr</th>\n",
       "      <th>orilat</th>\n",
       "      <th>orilong</th>\n",
       "      <th>deslat</th>\n",
       "      <th>deslong</th>\n",
       "      <th>distance_km</th>\n",
       "      <th>oridate</th>\n",
       "      <th>oritime</th>\n",
       "      <th>traveltime_min</th>\n",
       "      <th>destime</th>\n",
       "      <th>fare</th>\n",
       "      <th>oridate_wdaynum</th>\n",
       "      <th>oriweekday_weekend</th>\n",
       "      <th>wkd_mark</th>\n",
       "      <th>ori_hour_id</th>\n",
       "    </tr>\n",
       "  </thead>\n",
       "  <tbody>\n",
       "  </tbody>\n",
       "</table>\n",
       "</div>"
      ],
      "text/plain": [
       "Empty DataFrame\n",
       "Columns: [id, type, orir, desr, orilat, orilong, deslat, deslong, distance_km, oridate, oritime, traveltime_min, destime, fare, oridate_wdaynum, oriweekday_weekend, wkd_mark, ori_hour_id]\n",
       "Index: []"
      ]
     },
     "execution_count": 2896,
     "metadata": {},
     "output_type": "execute_result"
    }
   ],
   "source": [
    "ms_na1 = ms_fare[(ms_fare.type==1) & ms_fare.fare.isnull()]\n",
    "ms_na1_pdt = lm_type1.predict(ms_na1[['ori_hour_id', 'distance_km', 'traveltime_min','wkd_mark']])\n",
    "ms_na1_index = ms_na1[(ms_na1.type==1) & ms_na1.fare.isnull()].index\n",
    "ms_fare.iloc[ms_na1_index,13] = ms_na1_pdt\n",
    "ms_fare[(ms_fare.type==1) & ms_fare.fare.isnull()]"
   ]
  },
  {
   "cell_type": "code",
   "execution_count": 2897,
   "metadata": {},
   "outputs": [
    {
     "data": {
      "text/plain": [
       "array([14.41098618, 26.50881793,  7.80802401, 17.48771211, 20.22582501])"
      ]
     },
     "execution_count": 2897,
     "metadata": {},
     "output_type": "execute_result"
    }
   ],
   "source": [
    "ms_na1_pdt"
   ]
  },
  {
   "cell_type": "markdown",
   "metadata": {},
   "source": [
    "> predict fare for type 2"
   ]
  },
  {
   "cell_type": "code",
   "execution_count": 2898,
   "metadata": {},
   "outputs": [
    {
     "data": {
      "text/html": [
       "<div>\n",
       "<style scoped>\n",
       "    .dataframe tbody tr th:only-of-type {\n",
       "        vertical-align: middle;\n",
       "    }\n",
       "\n",
       "    .dataframe tbody tr th {\n",
       "        vertical-align: top;\n",
       "    }\n",
       "\n",
       "    .dataframe thead th {\n",
       "        text-align: right;\n",
       "    }\n",
       "</style>\n",
       "<table border=\"1\" class=\"dataframe\">\n",
       "  <thead>\n",
       "    <tr style=\"text-align: right;\">\n",
       "      <th></th>\n",
       "      <th>id</th>\n",
       "      <th>type</th>\n",
       "      <th>orir</th>\n",
       "      <th>desr</th>\n",
       "      <th>orilat</th>\n",
       "      <th>orilong</th>\n",
       "      <th>deslat</th>\n",
       "      <th>deslong</th>\n",
       "      <th>distance_km</th>\n",
       "      <th>oridate</th>\n",
       "      <th>oritime</th>\n",
       "      <th>traveltime_min</th>\n",
       "      <th>destime</th>\n",
       "      <th>fare</th>\n",
       "      <th>oridate_wdaynum</th>\n",
       "      <th>oriweekday_weekend</th>\n",
       "      <th>wkd_mark</th>\n",
       "      <th>ori_hour_id</th>\n",
       "    </tr>\n",
       "  </thead>\n",
       "  <tbody>\n",
       "  </tbody>\n",
       "</table>\n",
       "</div>"
      ],
      "text/plain": [
       "Empty DataFrame\n",
       "Columns: [id, type, orir, desr, orilat, orilong, deslat, deslong, distance_km, oridate, oritime, traveltime_min, destime, fare, oridate_wdaynum, oriweekday_weekend, wkd_mark, ori_hour_id]\n",
       "Index: []"
      ]
     },
     "execution_count": 2898,
     "metadata": {},
     "output_type": "execute_result"
    }
   ],
   "source": [
    "ms_na2 = ms_fare[(ms_fare.type==2) & ms_fare.fare.isnull()]\n",
    "ms_na2_pdt = lm_type2.predict(ms_na2[['ori_hour_id', 'distance_km', 'traveltime_min','wkd_mark']])\n",
    "ms_na2_index = ms_na2[(ms_na2.type==2) & ms_na2.fare.isnull()].index\n",
    "ms_fare.iloc[ms_na2_index,13] = ms_na2_pdt\n",
    "ms_fare[(ms_fare.type==2) & ms_fare.fare.isnull()]"
   ]
  },
  {
   "cell_type": "code",
   "execution_count": 2899,
   "metadata": {},
   "outputs": [
    {
     "data": {
      "text/plain": [
       "array([325.23094666, 353.53083268, 350.94793757, 121.286684  ])"
      ]
     },
     "execution_count": 2899,
     "metadata": {},
     "output_type": "execute_result"
    }
   ],
   "source": [
    "ms_na2_pdt"
   ]
  },
  {
   "cell_type": "markdown",
   "metadata": {},
   "source": [
    "> export the output for missing values"
   ]
  },
  {
   "cell_type": "code",
   "execution_count": 2900,
   "metadata": {},
   "outputs": [],
   "source": [
    "ms_raw.iloc[:,-1] = ms_fare['fare'].values"
   ]
  },
  {
   "cell_type": "code",
   "execution_count": 2901,
   "metadata": {},
   "outputs": [
    {
     "name": "stdout",
     "output_type": "stream",
     "text": [
      "<class 'pandas.core.frame.DataFrame'>\n",
      "RangeIndex: 95 entries, 0 to 94\n",
      "Data columns (total 14 columns):\n",
      "Unnamed: 0               95 non-null object\n",
      "Uber Type                95 non-null float64\n",
      "Origin Region            95 non-null int64\n",
      "Destination Region       95 non-null int64\n",
      "Origin Latitude          95 non-null float64\n",
      "Origin Longitude         95 non-null float64\n",
      "Destination Latitude     95 non-null float64\n",
      "Destination Longitude    95 non-null float64\n",
      "Journey Distance(m)      95 non-null float64\n",
      "Departure Date           95 non-null object\n",
      "Departure Time           95 non-null object\n",
      "Travel Time(s)           95 non-null float64\n",
      "Arrival Time             95 non-null object\n",
      "Fare$                    95 non-null float64\n",
      "dtypes: float64(8), int64(2), object(4)\n",
      "memory usage: 10.5+ KB\n"
     ]
    }
   ],
   "source": [
    "ms_raw.info()"
   ]
  },
  {
   "cell_type": "code",
   "execution_count": 1,
   "metadata": {},
   "outputs": [
    {
     "ename": "NameError",
     "evalue": "name 'ms_raw' is not defined",
     "output_type": "error",
     "traceback": [
      "\u001b[1;31m---------------------------------------------------------------------------\u001b[0m",
      "\u001b[1;31mNameError\u001b[0m                                 Traceback (most recent call last)",
      "\u001b[1;32m<ipython-input-1-5c6f199ba319>\u001b[0m in \u001b[0;36m<module>\u001b[1;34m\u001b[0m\n\u001b[1;32m----> 1\u001b[1;33m \u001b[0mms_raw\u001b[0m\u001b[1;33m.\u001b[0m\u001b[0mto_csv\u001b[0m\u001b[1;33m(\u001b[0m\u001b[1;34m'missing_value_solution.csv'\u001b[0m\u001b[1;33m,\u001b[0m\u001b[0mindex\u001b[0m\u001b[1;33m=\u001b[0m\u001b[1;32mFalse\u001b[0m\u001b[1;33m)\u001b[0m\u001b[1;33m\u001b[0m\u001b[1;33m\u001b[0m\u001b[0m\n\u001b[0m",
      "\u001b[1;31mNameError\u001b[0m: name 'ms_raw' is not defined"
     ]
    }
   ],
   "source": [
    "ms_raw.to_csv('missing_value_solution.csv',index=False)"
   ]
  },
  {
   "cell_type": "markdown",
   "metadata": {},
   "source": [
    "## 8. Conclusion\n",
    "> What we have done in this task:\n",
    "1. We create a **logic map** to handle the data cleasing problems, break them into component parts.\n",
    "2. First, we use the clean data(missing dataset) to EDA.\n",
    "3. Then, we fix all the errors in the dirty data set step by step.\n",
    "4. After we combine all available clean (no imputation) data we have, we build our model on top of that.\n",
    "5. 3 sigma rule is applied in the next stage for detecting outliers.\n",
    "6. Finally, we implement the imputation for the NAs in the missing value dataset."
   ]
  }
 ],
 "metadata": {
  "kernelspec": {
   "display_name": "Python 3",
   "language": "python",
   "name": "python3"
  },
  "language_info": {
   "codemirror_mode": {
    "name": "ipython",
    "version": 3
   },
   "file_extension": ".py",
   "mimetype": "text/x-python",
   "name": "python",
   "nbconvert_exporter": "python",
   "pygments_lexer": "ipython3",
   "version": "3.7.1"
  }
 },
 "nbformat": 4,
 "nbformat_minor": 2
}
